{
 "cells": [
  {
   "cell_type": "markdown",
   "metadata": {
    "id": "ZxCtZ5q3R64J"
   },
   "source": [
    "# Watershed-based oversampling for imbalanced dataset classification: WSSMOTE"
   ]
  },
  {
   "cell_type": "markdown",
   "metadata": {},
   "source": [
    "For several real-world problems, the dataset is composed of two or more imbalanced classes: a minority and majority ones. With usual machine learning methods, this imbalance often leads to poor results where the majority class is over-fitted while the minority class is misclassified. To alleviate these issues, several pre-processing methods, such as SMOTE andDBSMOTE, create new artificial points for the minority class. Neverthe-ess, these oversampling methods explicitly or implicitly make hypothesesabout the clusters size, shape, or density that may not fit the datasetin  practice.  We  propose  to  improve  these  oversampling methods and reduce cluster assumptions, by relying on a classifier:  the  watershed-cut.  We  called  this  method  WSSMOTE.\n",
    "\n",
    "The following code generates four tabs containing G-mean score for several imabalanced datasets (https://sci2s.ugr.es/keel/datasets.php). These 12 tables corespond to Tab 3, 4 and 5 on the proposed article.\n",
    "\n",
    "**Note**: To compile results faster, the following code is only 10-fold validation. Thus, results and more precisly approximations can be different from those you will find in the article. "
   ]
  },
  {
   "cell_type": "markdown",
   "metadata": {},
   "source": [
    "### Prerequises to launch file:"
   ]
  },
  {
   "cell_type": "code",
   "execution_count": 1,
   "metadata": {
    "colab": {
     "base_uri": "https://localhost:8080/"
    },
    "id": "b7pS_dnkHvmJ",
    "outputId": "705beb0e-49e0-4598-ccd7-516ca0b6d45b"
   },
   "outputs": [],
   "source": [
    "#pip install higra"
   ]
  },
  {
   "cell_type": "code",
   "execution_count": 2,
   "metadata": {
    "colab": {
     "base_uri": "https://localhost:8080/"
    },
    "id": "bx_fM2mqUXEB",
    "outputId": "90e40fc1-4207-4a2f-eddd-120d86ac06b2"
   },
   "outputs": [],
   "source": [
    "#pip install smote-variants"
   ]
  },
  {
   "cell_type": "code",
   "execution_count": 3,
   "metadata": {},
   "outputs": [],
   "source": [
    "#pip install -U imbalanced-learn"
   ]
  },
  {
   "cell_type": "code",
   "execution_count": 4,
   "metadata": {},
   "outputs": [],
   "source": [
    "path = './Parameters.xlsx' #Change it with your own path"
   ]
  },
  {
   "cell_type": "markdown",
   "metadata": {},
   "source": [
    "### Libraries to import"
   ]
  },
  {
   "cell_type": "code",
   "execution_count": 5,
   "metadata": {
    "colab": {
     "base_uri": "https://localhost:8080/"
    },
    "id": "sPBU1i6tH2wR",
    "outputId": "13581b68-9808-4f62-bdd7-04ca18e88321"
   },
   "outputs": [],
   "source": [
    "import numpy as np\n",
    "import pandas as pd\n",
    "import higra as hg\n",
    "import scipy as sp\n",
    "from sklearn import svm\n",
    "from sklearn import tree\n",
    "import sys\n",
    "\n",
    "import math\n",
    "import random\n",
    "import wget\n",
    "import imblearn\n",
    "\n",
    "from zipfile import ZipFile\n",
    "\n",
    "from sklearn.neighbors import NearestNeighbors\n",
    "\n",
    "from sklearn.model_selection import train_test_split\n",
    "from sklearn.metrics import confusion_matrix\n",
    "\n",
    "from smote_variants import DBSMOTE\n",
    "from imblearn.over_sampling import SMOTE\n",
    "from gsmote import GeometricSMOTE\n",
    "\n",
    "from sklearn.ensemble import RandomForestClassifier\n",
    "from sklearn.neighbors import KNeighborsClassifier\n",
    "\n",
    "from sklearn.metrics import f1_score\n",
    "from sklearn.metrics import roc_auc_score"
   ]
  },
  {
   "cell_type": "code",
   "execution_count": 6,
   "metadata": {
    "id": "QGdVExvVRG4Q"
   },
   "outputs": [],
   "source": [
    "from warnings import simplefilter\n",
    "simplefilter(action='ignore', category=FutureWarning) #Ignore warning comments"
   ]
  },
  {
   "cell_type": "markdown",
   "metadata": {},
   "source": [
    "### Import imbalanced datasets"
   ]
  },
  {
   "cell_type": "markdown",
   "metadata": {},
   "source": [
    "#### Import zip file from KEEL datasets"
   ]
  },
  {
   "cell_type": "code",
   "execution_count": 7,
   "metadata": {},
   "outputs": [],
   "source": [
    "# wget.download('https://sci2s.ugr.es/keel/dataset/data/imbalanced/wisconsin.zip')\n",
    "# wget.download('https://sci2s.ugr.es/keel/dataset/data/imbalanced/yeast4.zip')\n",
    "# wget.download('https://sci2s.ugr.es/keel/dataset/data/imbalanced/vehicle1.zip')\n",
    "# wget.download('https://sci2s.ugr.es/keel/keel-dataset/datasets/imbalanced/imb_noisyBordExamples/03subcl5-600-5-70-BI.zip')\n",
    "# wget.download('https://sci2s.ugr.es/keel/keel-dataset/datasets/imbalanced/imb_noisyBordExamples/paw02a-800-7-60-BI.zip')\n",
    "# wget.download('https://sci2s.ugr.es/keel/dataset/data/imbalanced/ecoli1.zip')\n",
    "# wget.download('https://sci2s.ugr.es/keel/dataset/data/imbalanced/segment0.zip')\n",
    "# wget.download('https://sci2s.ugr.es/keel/dataset/data/imbalanced/pima.zip')\n",
    "# wget.download('https://sci2s.ugr.es/keel/dataset/data/imbalanced/cleveland-0_vs_4.zip')\n",
    "# wget.download('https://sci2s.ugr.es/keel/dataset/data/imbalanced/yeast6.zip')\n",
    "# wget.download('https://sci2s.ugr.es/keel/dataset/data/imbalanced/page-blocks-1-3_vs_4.zip')\n",
    "# wget.download('https://sci2s.ugr.es/keel/dataset/data/imbalanced/glass-0-1-5_vs_2.zip')"
   ]
  },
  {
   "cell_type": "markdown",
   "metadata": {},
   "source": [
    "#### Transform zip file into dat file into arrays contening data and labels"
   ]
  },
  {
   "cell_type": "code",
   "execution_count": 8,
   "metadata": {
    "id": "vGNFiTncHold"
   },
   "outputs": [],
   "source": [
    "def examples_transform(examples_zip, examples_data):\n",
    "    examples = [] #containing n dataframe with n the number of example\n",
    "    labels = [[0] for i in range(len(examples_zip))] # contains n label array with n the number of example\n",
    "\n",
    "    for ind_ex in range(len(examples_zip)):\n",
    "        zip = ZipFile(examples_zip[ind_ex])\n",
    "        zip.extractall() \n",
    "\n",
    "        #Open .dat files and compile data and labels information into dataframe\n",
    "        file = open(examples_data[ind_ex])\n",
    "        data = file.read()\n",
    "\n",
    "        data = data.split('@')[-1]\n",
    "        data = data.split('\\n')[1:]\n",
    "        data = np.array(data)\n",
    "        data_f = []\n",
    "        for index in range(len(data)):\n",
    "            data_f.append(data[index].split(','))\n",
    "        data_f = data_f[:-1]\n",
    "        data_f = pd.DataFrame(data_f)\n",
    "        \n",
    "        nb = data_f.shape[1] - 1 #last columns = labels\n",
    "        data_f[nb] = [data_f[nb][i].strip() for i in range(len(data_f[nb]))]\n",
    "        elment = np.unique(data_f[nb])\n",
    "        data_f[nb].replace({elment[0]: '1', elment[1]: '2'}, inplace=True)\n",
    "        \n",
    "        Y = np.array(data_f[nb], dtype=int)\n",
    "\n",
    "        X = data_f.drop(columns=nb)\n",
    "        X = X.astype(float)\n",
    "        X = np.array(X)\n",
    "        \n",
    "        examples.append(X)\n",
    "        labels[ind_ex] = Y\n",
    "        file.close()\n",
    "    return examples, labels"
   ]
  },
  {
   "cell_type": "code",
   "execution_count": 9,
   "metadata": {},
   "outputs": [],
   "source": [
    "#Execution of examples function with imbalanced datasets studied in the paper\n",
    "examples_zip = ['wisconsin.zip', 'yeast4.zip',  'vehicle1.zip', \n",
    "            '03subcl5-600-5-70-BI.zip', 'paw02a-800-7-60-BI.zip', 'ecoli1.zip', 'pima.zip', 'yeast6.zip', \n",
    "               'page-blocks-1-3_vs_4.zip', 'glass-0-1-5_vs_2.zip']\n",
    "examples_data = ['wisconsin.dat', 'yeast4.dat',  'vehicle1.dat', \n",
    "            '03subcl5-600-5-70-BI.dat', 'paw02a-800-7-60-BI.dat', 'ecoli1.dat', 'pima.dat', 'yeast6.dat', \n",
    "               'page-blocks-1-3_vs_4.dat', 'glass-0-1-5_vs_2.dat' ]\n",
    "\n",
    "examples, labels = examples_transform(examples_zip, examples_data)"
   ]
  },
  {
   "cell_type": "markdown",
   "metadata": {
    "id": "C39voip1MNSQ"
   },
   "source": [
    "## WSSMOTE algorithm"
   ]
  },
  {
   "cell_type": "code",
   "execution_count": 10,
   "metadata": {},
   "outputs": [],
   "source": [
    "def dijkstra(graph, source):\n",
    "    '''\n",
    "    Dijkstra algorithm\n",
    "    Input:\n",
    "        - graph -- containing all the distance between data points \n",
    "        - source -- a specific data points \n",
    "    Output:\n",
    "        - \n",
    "    '''\n",
    "    distances, parents = dict(), dict()\n",
    "\n",
    "    for node in graph:\n",
    "        if node not in distances.keys():\n",
    "            distances[node] = float('Inf')\n",
    "        if node not in parents.keys():\n",
    "            parents[node] = None\n",
    "    distances[source] = 0\n",
    "\n",
    "    for ind_graph in range(len(graph)-1):\n",
    "        for pt_i in graph:\n",
    "            for pt_j in graph[pt_i]:\n",
    "                assert graph[pt_i][pt_j] >= 0\n",
    "                if distances[pt_j] > distances[pt_i] + graph[pt_i][pt_j]:\n",
    "                    distances[pt_j] = distances[pt_i] + graph[pt_i][pt_j]\n",
    "                    parents[pt_j] = pt_i\n",
    "\n",
    "    return distances, parents"
   ]
  },
  {
   "cell_type": "code",
   "execution_count": 11,
   "metadata": {},
   "outputs": [],
   "source": [
    "def higra_clustering(X_min, n_nei):\n",
    "    '''\n",
    "    Generate clusters using Higra\n",
    "    Input:\n",
    "        - X_min: minority dataset \n",
    "        - n_nei: Number of neighbors \n",
    "    Output:\n",
    "        - labels: clustering labelling\n",
    "        - num_labels: numbers of clusters\n",
    "    '''\n",
    "    graph, edge_weights = hg.make_graph_from_points(X_min, graph_type='knn+mst', mode='distance', n_neighbors=n_nei)\n",
    "    labels = hg.labelisation_watershed(graph, edge_weights)\n",
    "    num_labels = np.max(labels)\n",
    "    return labels - 1, num_labels"
   ]
  },
  {
   "cell_type": "code",
   "execution_count": 12,
   "metadata": {},
   "outputs": [],
   "source": [
    "def WSSMOTE(X, labels, n_nei, coeff_min, n_add):\n",
    "    '''\n",
    "    WSSMOTE algorithm\n",
    "    Input:\n",
    "        - X: data points\n",
    "        - labels: array\n",
    "        - n_nei: number of neighbors\n",
    "        - coeff_min: label of the minority class\n",
    "    Output:\n",
    "        - np.vstack([X, samples]): oversampling data \n",
    "        - np.hstack([labels, np.repeat(coeff_min, len(samples))]): oversampling labels\n",
    "    '''\n",
    "     #Compute clusters\n",
    "    X_min = X[labels == coeff_min]\n",
    "    labels_clust, num_labels = higra_clustering(X_min, n_nei)\n",
    "\n",
    "    #Construct array of clusters\n",
    "    clusters = [np.where(labels_clust == ind_label)[0] for ind_label in range(num_labels)]\n",
    "    cluster_sizes = np.array([np.sum(labels_clust == i) for i in range(num_labels)])\n",
    "    cluster_dist = cluster_sizes/(np.sum(cluster_sizes))\n",
    "\n",
    "    #Graphs, shortest path and centroids\n",
    "    graphs, centroid_indices, sorthest_path = [], [], []\n",
    "    \n",
    "    for num_label in range(num_labels):\n",
    "        cluster = X_min[clusters[num_label]]\n",
    "        nn = NearestNeighbors(n_neighbors=len(cluster), metric='euclidean', n_jobs=1).fit(cluster)\n",
    "        centroid_ind = nn.kneighbors([np.mean(cluster, axis=0)])[1][0][0] # closest data of the real centroid\n",
    "        centroid_indices.append(centroid_ind)\n",
    "        \n",
    "        graph = dict() # distance between two points in cluster \n",
    "        \n",
    "        dist, ind = nn.kneighbors(cluster)\n",
    "#         dist = dist[:, 1:]\n",
    "#         ind = ind[:, 1:]\n",
    "        for pt_cluster_i in range(len(cluster)):\n",
    "            graph[pt_cluster_i] = dict()\n",
    "            for pt_cluster_j in range(len(cluster)):\n",
    "                graph[pt_cluster_i][pt_cluster_j] = dist[pt_cluster_i][ind[pt_cluster_i] == pt_cluster_j][0]\n",
    "                    \n",
    "        sorthest_path.append(dijkstra(graph, centroid_ind))\n",
    "        graphs.append(graph)\n",
    "        \n",
    "    #New data points creation\n",
    "    samples = []\n",
    "    while len(samples) < n_add*abs(len(np.where(labels==coeff_min)[0]) - len(np.where(labels==(1+(coeff_min%2)))[0])):\n",
    "        cluster_idx = np.random.choice(np.arange(len(clusters)), p=cluster_dist)\n",
    "        cluster = X_min[clusters[cluster_idx]]\n",
    "        idx = np.random.choice(range(len(clusters[cluster_idx])))\n",
    "\n",
    "        distances, parents = sorthest_path[cluster_idx]\n",
    "\n",
    "        path = [idx]\n",
    "        while not parents[path[-1]] is None:\n",
    "            path.append(parents[path[-1]])\n",
    "\n",
    "        if len(path) == 1:\n",
    "            X_b = cluster[path[0]]\n",
    "            samples.append(X_b)\n",
    "        else:\n",
    "            X_a = cluster[path[0]]\n",
    "            X_b = cluster[path[-1]]\n",
    "            sample = X_a + (X_b-X_a)*np.random.uniform(0,1)\n",
    "            samples.append(sample)\n",
    "    return np.vstack([X, samples]), np.hstack([labels, np.repeat(coeff_min, len(samples))])"
   ]
  },
  {
   "cell_type": "markdown",
   "metadata": {
    "id": "doUHLqjmMbK4"
   },
   "source": [
    "## Classifers algorithms"
   ]
  },
  {
   "cell_type": "code",
   "execution_count": 13,
   "metadata": {},
   "outputs": [],
   "source": [
    "def score(res, y_test):\n",
    "    '''\n",
    "    Gmean score\n",
    "    Input: \n",
    "        - Res: predicted labels\n",
    "        - y_test: real labels\n",
    "    Output:\n",
    "        -Gmean accuracy\n",
    "    '''\n",
    "    array = confusion_matrix(y_test, res)\n",
    "    if len(array[0]) == 2:\n",
    "        tn, fp, fn, tp = array.ravel()\n",
    "        if (tn*tp) == 0:\n",
    "            acc = 0\n",
    "        else:\n",
    "            acc = math.sqrt((tp*tn)/((tp+fn)*(fp+tn)))\n",
    "    else: \n",
    "        acc =0\n",
    "    return acc"
   ]
  },
  {
   "cell_type": "code",
   "execution_count": 14,
   "metadata": {
    "id": "xjE_JAE-ahhW"
   },
   "outputs": [],
   "source": [
    "def watershed_cut(X_train, X_test, y_train, y_test):\n",
    "    '''\n",
    "    Watershed cut\n",
    "    Input:\n",
    "        - X_train\n",
    "        - X_test\n",
    "        - y_train\n",
    "        - y_test\n",
    "    Output:\n",
    "        - y_keep = labels predicted\n",
    "    '''\n",
    "    X_tot = np.concatenate((X_train, X_test))\n",
    "    seeds = np.int_(np.concatenate((y_train, np.zeros(len(y_test))))) # concatenate y_train and 0 for the test\n",
    "\n",
    "    best_acc = 0\n",
    "    \n",
    "    for n_nei in np.arange(5,66,10): #to find the best number of neighbors\n",
    "        graph, edge_weights = hg.make_graph_from_points(X_tot, graph_type='knn', mode='distance', \n",
    "                                                        n_neighbors=n_nei, metric='euclidian')\n",
    "        y_watershed = hg.labelisation_seeded_watershed(graph, edge_weights, seeds)\n",
    "        y_watershed_test = y_watershed[len(y_train):]\n",
    "\n",
    "        if len(np.unique(y_watershed_test)) <= 2:\n",
    "            acc = score(y_watershed_test, y_test)\n",
    "        else:\n",
    "            acc = 0\n",
    "        if acc >= best_acc:\n",
    "            best_acc = acc \n",
    "            y_keep = y_watershed_test\n",
    "    return y_keep"
   ]
  },
  {
   "cell_type": "code",
   "execution_count": 15,
   "metadata": {},
   "outputs": [],
   "source": [
    "def SVM_method(X_train, X_test, y_train, y_test):\n",
    "    '''\n",
    "    SVM classification algorithm\n",
    "    Input:\n",
    "        - X_train\n",
    "        - X_test\n",
    "        - y_train\n",
    "        - y_test\n",
    "    Output:\n",
    "        - y_SVM = labels predicted\n",
    "    '''\n",
    "    clf = svm.LinearSVC()\n",
    "    clf = clf.fit(X_train, y_train)\n",
    "    y_SVM = clf.predict(X_test)\n",
    "    return y_SVM"
   ]
  },
  {
   "cell_type": "code",
   "execution_count": 16,
   "metadata": {},
   "outputs": [],
   "source": [
    "def DecisionTree_method(X_train, X_test, y_train, y_test):\n",
    "    '''\n",
    "    Decision Tree algorithm\n",
    "    Input:\n",
    "        - X_train\n",
    "        - X_test\n",
    "        - y_train\n",
    "        - y_test\n",
    "    Output:\n",
    "        - y_tree = labels predicted\n",
    "    '''\n",
    "    clf = tree.DecisionTreeClassifier()\n",
    "    clf =  clf.fit(X_train, y_train)\n",
    "    y_tree = clf.predict(X_test)\n",
    "    return y_tree"
   ]
  },
  {
   "cell_type": "code",
   "execution_count": 17,
   "metadata": {},
   "outputs": [],
   "source": [
    "def KNeiClass_method(X_train, X_test, y_train, y_test):\n",
    "    '''\n",
    "    KNN algorithm\n",
    "    Input:\n",
    "        - X_train\n",
    "        - X_test\n",
    "        - y_train\n",
    "        - y_test\n",
    "    Output:\n",
    "        - y_keep = labels predicted\n",
    "    '''\n",
    "    best_acc = 0\n",
    "    for n_nei in np.arange(2,55,10):  #to find the best number of neighbors\n",
    "        clf = KNeighborsClassifier(n_neighbors=n_nei)\n",
    "        clf = clf.fit(X_train, y_train)\n",
    "        y_nei = clf.predict(X_test)\n",
    "        array = confusion_matrix(y_test, y_nei)\n",
    "        acc = score(y_nei, y_test)\n",
    "        if acc >= best_acc:\n",
    "            best_acc = acc\n",
    "            y_keep = y_nei\n",
    "    return y_keep"
   ]
  },
  {
   "cell_type": "markdown",
   "metadata": {},
   "source": [
    "## Compile best parameters for each over sampling, classifier algorithms and imbalanced datasets"
   ]
  },
  {
   "cell_type": "code",
   "execution_count": 18,
   "metadata": {},
   "outputs": [],
   "source": [
    "SMOTE_param = pd.read_excel(path, 'SMOTE') #Compute SMOTE parameter\n",
    "SMOTE_param.index = SMOTE_param['Unnamed: 0']\n",
    "SMOTE_param = SMOTE_param.drop(columns='Unnamed: 0')\n",
    "SMOTE_param = SMOTE_param.to_dict()\n",
    "\n",
    "DBSMOTE_eps = pd.read_excel(path, 'DBSMOTE-eps') #Compute DBSMOTE parameter\n",
    "DBSMOTE_eps.index = DBSMOTE_eps['Unnamed: 0']\n",
    "DBSMOTE_eps = DBSMOTE_eps.drop(columns='Unnamed: 0')\n",
    "DBSMOTE_eps = DBSMOTE_eps.to_dict()\n",
    "\n",
    "DBSMOTE_min = pd.read_excel(path, 'DBSMOTE-min')\n",
    "DBSMOTE_min.index = DBSMOTE_min['Unnamed: 0']\n",
    "DBSMOTE_min = DBSMOTE_min.drop(columns='Unnamed: 0')\n",
    "DBSMOTE_min = DBSMOTE_min.to_dict()\n",
    "\n",
    "DBSMOTE_prop = pd.read_excel(path, 'DBSMOTE-prop')\n",
    "DBSMOTE_prop.index = DBSMOTE_prop['Unnamed: 0']\n",
    "DBSMOTE_prop = DBSMOTE_prop.drop(columns='Unnamed: 0')\n",
    "DBSMOTE_prop = DBSMOTE_prop.to_dict()\n",
    "\n",
    "DBSMOTE_param_ = [DBSMOTE_eps, DBSMOTE_min, DBSMOTE_prop]\n",
    "DBSMOTE_param = {}\n",
    "for key in DBSMOTE_eps.keys():\n",
    "    for k in DBSMOTE_eps[key].keys():\n",
    "        if not key in DBSMOTE_param.keys():\n",
    "            DBSMOTE_param[key] = dict()\n",
    "        DBSMOTE_param[key][k] = tuple(d[key][k] for d in DBSMOTE_param_)\n",
    "\n",
    "WSMOTE_nn = pd.read_excel(path, 'WSSMOTE-knn') #Compute WSSMOTE parameter\n",
    "WSMOTE_nn.index = WSMOTE_nn['Unnamed: 0']\n",
    "WSMOTE_nn = WSMOTE_nn.drop(columns='Unnamed: 0')\n",
    "WSMOTE_nn = WSMOTE_nn.to_dict()\n",
    "\n",
    "WSMOTE_add = pd.read_excel(path, 'WSSMOTE-n_add')\n",
    "WSMOTE_add.index = WSMOTE_add['Unnamed: 0']\n",
    "WSMOTE_add = WSMOTE_add.drop(columns='Unnamed: 0')\n",
    "WSMOTE_add = WSMOTE_add.to_dict()\n",
    "\n",
    "WSSMOTE_param_ = [WSMOTE_nn, WSMOTE_add]\n",
    "WSSMOTE_param = {}\n",
    "for key in WSMOTE_nn.keys():\n",
    "    for k in WSMOTE_nn[key].keys():\n",
    "        if not key in WSSMOTE_param.keys():\n",
    "            WSSMOTE_param[key] = dict()\n",
    "        WSSMOTE_param[key][k] = tuple(d[key][k] for d in WSSMOTE_param_)\n",
    "    \n",
    "    \n",
    "GSMOTE_nn = pd.read_excel(path, 'GSMOTE-knn') #Compute WSSMOTE parameter\n",
    "GSMOTE_nn.index = GSMOTE_nn['Unnamed: 0']\n",
    "GSMOTE_nn = GSMOTE_nn.drop(columns='Unnamed: 0')\n",
    "GSMOTE_nn = GSMOTE_nn.to_dict()\n",
    "\n",
    "GSMOTE_trunc = pd.read_excel(path, 'GSMOTE-trunc') #Compute WSSMOTE parameter\n",
    "GSMOTE_trunc.index = GSMOTE_trunc['Unnamed: 0']\n",
    "GSMOTE_trunc = GSMOTE_trunc.drop(columns='Unnamed: 0')\n",
    "GSMOTE_trunc = GSMOTE_trunc.to_dict()\n",
    "\n",
    "GSMOTE_defor = pd.read_excel(path, 'GSMOTE-defor') #Compute WSSMOTE parameter\n",
    "GSMOTE_defor.index = GSMOTE_defor['Unnamed: 0']\n",
    "GSMOTE_defor = GSMOTE_defor.drop(columns='Unnamed: 0')\n",
    "GSMOTE_defor = GSMOTE_defor.to_dict()\n",
    "\n",
    "GSMOTE_param_ = [GSMOTE_trunc, GSMOTE_defor, GSMOTE_nn]\n",
    "GSMOTE_param = {}\n",
    "for key in GSMOTE_trunc.keys():\n",
    "    for k in GSMOTE_trunc[key].keys():\n",
    "        if not key in GSMOTE_param.keys():\n",
    "            GSMOTE_param[key] = dict()\n",
    "        GSMOTE_param[key][k] = tuple(d[key][k] for d in GSMOTE_param_)"
   ]
  },
  {
   "cell_type": "code",
   "execution_count": 19,
   "metadata": {},
   "outputs": [],
   "source": [
    "dicts_paramater = dict() # Dictionnary: contains all parameters \n",
    "dicts_paramater['SMOTE'] = SMOTE_param\n",
    "dicts_paramater['WSSMOTE'] = WSSMOTE_param\n",
    "dicts_paramater['DBSMOTE'] = DBSMOTE_param\n",
    "dicts_paramater['GSSMOTE'] = GSMOTE_param"
   ]
  },
  {
   "cell_type": "markdown",
   "metadata": {},
   "source": [
    "# G-means Score"
   ]
  },
  {
   "cell_type": "code",
   "execution_count": 20,
   "metadata": {
    "id": "DLAeRy5hDzMy"
   },
   "outputs": [],
   "source": [
    "def generate_dico_results(classifiers, classifiers_name, dicts_paramater, oversampling_methods, examples_name, coeffs_min):\n",
    "    '''\n",
    "    Generate three dictionnary containing Gmean, F1 or AUC score for each imbalanced datasets\n",
    "    Input:\n",
    "        - classifiers: list of classifier algortihm used\n",
    "        - classifiers_name: list of classifier algoritm names used\n",
    "        - dict_paramters: dictionnary containing best parameters for oversampling method\n",
    "        - oversampling_method: list of oversampling methods used\n",
    "        - coeffs_min: list of the label of the minority data points for each imbalanced datasets\n",
    "    Output:\n",
    "        - dictionnary - keys = oversampling method - values: scores\n",
    "    '''\n",
    "    dico_over_med_g_mean, dico_over_std_g_mean = dict(), dict()\n",
    "    dico_over_med_auc, dico_over_std_auc = dict(), dict()\n",
    "    dico_over_med_f, dico_over_std_f= dict(), dict()\n",
    "    \n",
    "    for over_method in oversampling_methods:\n",
    "        tab_med_g_mean, tab_std_g_mean = pd.DataFrame(), pd.DataFrame()\n",
    "        tab_med_auc, tab_std_auc = pd.DataFrame(), pd.DataFrame()\n",
    "        tab_med_f, tab_std_f = pd.DataFrame(), pd.DataFrame()\n",
    "        \n",
    "        for idx, example in enumerate(examples):\n",
    "            print(examples_name[idx])\n",
    "            X, y = example, labels[idx]\n",
    "            data_median_g_mean, data_std_g_mean = [], []\n",
    "            data_median_auc, data_std_auc = [], []\n",
    "            data_median_f, data_std_f = [], []\n",
    "            for ind_class, classifier in enumerate(classifiers):\n",
    "                acc_g_mean, acc_f, acc_auc = [], [], []\n",
    "                for num_round in range(10):\n",
    "                    X_train, X_test, y_train, y_test = train_test_split(X, y, test_size = 0.25)\n",
    "                    if over_method == 'without':\n",
    "                        X_train_over, y_train_over = X_train.copy(), y_train.copy()\n",
    "                    elif over_method == 'SMOTE':\n",
    "                        mino =len(np.where(y==coeffs_min[idx])[0])\n",
    "                        majo = len(np.where(y==(1+(coeffs_min[idx])%2))[0])\n",
    "                        ratio = (1-(mino/majo))*majo + mino \n",
    "                        sm = SMOTE(sampling_strategy=ratio/majo,\n",
    "                                   k_neighbors = 3)\n",
    "                        X_train_over, y_train_over = sm.fit_resample(X_train, y_train)\n",
    "                    elif over_method == 'GSSMOTE':\n",
    "                        sm = GeometricSMOTE(k_neighbors=dicts_paramater[over_method][examples_name[idx]][classifiers_name[ind_class]][2], \n",
    "                                            truncation_factor=dicts_paramater[over_method][examples_name[idx]][classifiers_name[ind_class]][0], \n",
    "                                            deformation_factor=dicts_paramater[over_method][examples_name[idx]][classifiers_name[ind_class]][1])\n",
    "                        X_train_over, y_train_over = sm.fit_resample(X_train, y_train)\n",
    "                    elif over_method == 'DBSMOTE':\n",
    "                        sm = DBSMOTE(eps = dicts_paramater[over_method][examples_name[idx]][classifiers_name[ind_class]][0], \n",
    "                                     min_samples= dicts_paramater[over_method][examples_name[idx]][classifiers_name[ind_class]][1], \n",
    "                                     proportion = dicts_paramater[over_method][examples_name[idx]][classifiers_name[ind_class]][2])\n",
    "                        X_train_over, y_train_over = sm.fit_resample(X_train, y_train)\n",
    "                    elif over_method == 'WSSMOTE':\n",
    "                        X_train_over, y_train_over= WSSMOTE(X_train, y_train, n_nei=dicts_paramater[over_method][examples_name[idx]][classifiers_name[ind_class]][0],\n",
    "                                                        coeff_min=coeffs_min[idx], n_add =dicts_paramater[over_method][examples_name[idx]][classifiers_name[ind_class]][1])\n",
    "                    res = classifier(X_train_over, X_test, y_train_over, y_test)\n",
    "                    acc_g_mean.append(score(res, y_test))\n",
    "                    acc_f.append(f1_score(y_test, res))\n",
    "                    try:\n",
    "                        acc_auc.append(roc_auc_score(y_test, res))\n",
    "                    except ValueError:\n",
    "                        acc_auc.append(0)\n",
    "                    \n",
    "                    \n",
    "                data_median_g_mean.append(round(np.median(acc_g_mean)*100, 2))\n",
    "                data_std_g_mean.append(round(sp.stats.iqr(acc_g_mean)*100, 2))\n",
    "                data_median_f.append(round(np.median(acc_f)*100, 2))\n",
    "                data_std_f.append(round(sp.stats.iqr(acc_f)*100, 2))\n",
    "                data_median_auc.append(round(np.median(acc_auc)*100, 2))\n",
    "                data_std_auc.append(round(sp.stats.iqr(acc_auc)*100, 2))\n",
    "                \n",
    "            tab_med_g_mean[examples_name[idx]], tab_std_g_mean[examples_name[idx]]  = data_median_g_mean, data_std_g_mean\n",
    "            tab_med_f[examples_name[idx]], tab_std_f[examples_name[idx]]  = data_median_f, data_std_f\n",
    "            tab_med_auc[examples_name[idx]], tab_std_auc[examples_name[idx]]  = data_median_auc, data_std_auc\n",
    "            \n",
    "        tab_med_g_mean.index, tab_std_g_mean.index = classifiers_name, classifiers_name\n",
    "        tab_med_f.index, tab_std_f.index = classifiers_name, classifiers_name\n",
    "        tab_med_auc.index, tab_std_auc.index = classifiers_name, classifiers_name\n",
    "        \n",
    "        dico_over_med_g_mean[over_method], dico_over_std_g_mean[over_method] = tab_med_g_mean, tab_std_g_mean\n",
    "        dico_over_med_f[over_method], dico_over_std_f[over_method] = tab_med_f, tab_std_f\n",
    "        dico_over_med_auc[over_method], dico_over_std_auc[over_method] = tab_med_auc, tab_std_auc\n",
    "        \n",
    "    return (dico_over_med_g_mean, dico_over_std_g_mean), (dico_over_med_f, dico_over_std_f), (dico_over_med_auc, dico_over_std_auc)"
   ]
  },
  {
   "cell_type": "code",
   "execution_count": 21,
   "metadata": {
    "colab": {
     "base_uri": "https://localhost:8080/"
    },
    "id": "5OPf-1pTnp_7",
    "outputId": "f6656bd1-8694-48c3-a262-6607ee2137cb",
    "scrolled": true
   },
   "outputs": [
    {
     "name": "stdout",
     "output_type": "stream",
     "text": [
      "wisconsin\n"
     ]
    },
    {
     "name": "stderr",
     "output_type": "stream",
     "text": [
      "C:\\Users\\oucht\\anaconda3\\lib\\site-packages\\sklearn\\svm\\_base.py:976: ConvergenceWarning: Liblinear failed to converge, increase the number of iterations.\n",
      "  warnings.warn(\"Liblinear failed to converge, increase \"\n",
      "C:\\Users\\oucht\\anaconda3\\lib\\site-packages\\sklearn\\svm\\_base.py:976: ConvergenceWarning: Liblinear failed to converge, increase the number of iterations.\n",
      "  warnings.warn(\"Liblinear failed to converge, increase \"\n",
      "C:\\Users\\oucht\\anaconda3\\lib\\site-packages\\sklearn\\svm\\_base.py:976: ConvergenceWarning: Liblinear failed to converge, increase the number of iterations.\n",
      "  warnings.warn(\"Liblinear failed to converge, increase \"\n",
      "C:\\Users\\oucht\\anaconda3\\lib\\site-packages\\sklearn\\svm\\_base.py:976: ConvergenceWarning: Liblinear failed to converge, increase the number of iterations.\n",
      "  warnings.warn(\"Liblinear failed to converge, increase \"\n",
      "C:\\Users\\oucht\\anaconda3\\lib\\site-packages\\sklearn\\svm\\_base.py:976: ConvergenceWarning: Liblinear failed to converge, increase the number of iterations.\n",
      "  warnings.warn(\"Liblinear failed to converge, increase \"\n",
      "C:\\Users\\oucht\\anaconda3\\lib\\site-packages\\sklearn\\svm\\_base.py:976: ConvergenceWarning: Liblinear failed to converge, increase the number of iterations.\n",
      "  warnings.warn(\"Liblinear failed to converge, increase \"\n",
      "C:\\Users\\oucht\\anaconda3\\lib\\site-packages\\sklearn\\svm\\_base.py:976: ConvergenceWarning: Liblinear failed to converge, increase the number of iterations.\n",
      "  warnings.warn(\"Liblinear failed to converge, increase \"\n",
      "C:\\Users\\oucht\\anaconda3\\lib\\site-packages\\sklearn\\svm\\_base.py:976: ConvergenceWarning: Liblinear failed to converge, increase the number of iterations.\n",
      "  warnings.warn(\"Liblinear failed to converge, increase \"\n",
      "C:\\Users\\oucht\\anaconda3\\lib\\site-packages\\sklearn\\svm\\_base.py:976: ConvergenceWarning: Liblinear failed to converge, increase the number of iterations.\n",
      "  warnings.warn(\"Liblinear failed to converge, increase \"\n",
      "C:\\Users\\oucht\\anaconda3\\lib\\site-packages\\sklearn\\svm\\_base.py:976: ConvergenceWarning: Liblinear failed to converge, increase the number of iterations.\n",
      "  warnings.warn(\"Liblinear failed to converge, increase \"\n"
     ]
    },
    {
     "name": "stdout",
     "output_type": "stream",
     "text": [
      "yeast4\n",
      "vehicle1\n"
     ]
    },
    {
     "name": "stderr",
     "output_type": "stream",
     "text": [
      "C:\\Users\\oucht\\anaconda3\\lib\\site-packages\\sklearn\\svm\\_base.py:976: ConvergenceWarning: Liblinear failed to converge, increase the number of iterations.\n",
      "  warnings.warn(\"Liblinear failed to converge, increase \"\n",
      "C:\\Users\\oucht\\anaconda3\\lib\\site-packages\\sklearn\\svm\\_base.py:976: ConvergenceWarning: Liblinear failed to converge, increase the number of iterations.\n",
      "  warnings.warn(\"Liblinear failed to converge, increase \"\n",
      "C:\\Users\\oucht\\anaconda3\\lib\\site-packages\\sklearn\\svm\\_base.py:976: ConvergenceWarning: Liblinear failed to converge, increase the number of iterations.\n",
      "  warnings.warn(\"Liblinear failed to converge, increase \"\n",
      "C:\\Users\\oucht\\anaconda3\\lib\\site-packages\\sklearn\\svm\\_base.py:976: ConvergenceWarning: Liblinear failed to converge, increase the number of iterations.\n",
      "  warnings.warn(\"Liblinear failed to converge, increase \"\n",
      "C:\\Users\\oucht\\anaconda3\\lib\\site-packages\\sklearn\\svm\\_base.py:976: ConvergenceWarning: Liblinear failed to converge, increase the number of iterations.\n",
      "  warnings.warn(\"Liblinear failed to converge, increase \"\n",
      "C:\\Users\\oucht\\anaconda3\\lib\\site-packages\\sklearn\\svm\\_base.py:976: ConvergenceWarning: Liblinear failed to converge, increase the number of iterations.\n",
      "  warnings.warn(\"Liblinear failed to converge, increase \"\n",
      "C:\\Users\\oucht\\anaconda3\\lib\\site-packages\\sklearn\\svm\\_base.py:976: ConvergenceWarning: Liblinear failed to converge, increase the number of iterations.\n",
      "  warnings.warn(\"Liblinear failed to converge, increase \"\n",
      "C:\\Users\\oucht\\anaconda3\\lib\\site-packages\\sklearn\\svm\\_base.py:976: ConvergenceWarning: Liblinear failed to converge, increase the number of iterations.\n",
      "  warnings.warn(\"Liblinear failed to converge, increase \"\n",
      "C:\\Users\\oucht\\anaconda3\\lib\\site-packages\\sklearn\\svm\\_base.py:976: ConvergenceWarning: Liblinear failed to converge, increase the number of iterations.\n",
      "  warnings.warn(\"Liblinear failed to converge, increase \"\n",
      "C:\\Users\\oucht\\anaconda3\\lib\\site-packages\\sklearn\\svm\\_base.py:976: ConvergenceWarning: Liblinear failed to converge, increase the number of iterations.\n",
      "  warnings.warn(\"Liblinear failed to converge, increase \"\n"
     ]
    },
    {
     "name": "stdout",
     "output_type": "stream",
     "text": [
      "Subcl35\n"
     ]
    },
    {
     "name": "stderr",
     "output_type": "stream",
     "text": [
      "C:\\Users\\oucht\\anaconda3\\lib\\site-packages\\sklearn\\svm\\_base.py:976: ConvergenceWarning: Liblinear failed to converge, increase the number of iterations.\n",
      "  warnings.warn(\"Liblinear failed to converge, increase \"\n",
      "C:\\Users\\oucht\\anaconda3\\lib\\site-packages\\sklearn\\svm\\_base.py:976: ConvergenceWarning: Liblinear failed to converge, increase the number of iterations.\n",
      "  warnings.warn(\"Liblinear failed to converge, increase \"\n",
      "C:\\Users\\oucht\\anaconda3\\lib\\site-packages\\sklearn\\svm\\_base.py:976: ConvergenceWarning: Liblinear failed to converge, increase the number of iterations.\n",
      "  warnings.warn(\"Liblinear failed to converge, increase \"\n",
      "C:\\Users\\oucht\\anaconda3\\lib\\site-packages\\sklearn\\svm\\_base.py:976: ConvergenceWarning: Liblinear failed to converge, increase the number of iterations.\n",
      "  warnings.warn(\"Liblinear failed to converge, increase \"\n",
      "C:\\Users\\oucht\\anaconda3\\lib\\site-packages\\sklearn\\svm\\_base.py:976: ConvergenceWarning: Liblinear failed to converge, increase the number of iterations.\n",
      "  warnings.warn(\"Liblinear failed to converge, increase \"\n",
      "C:\\Users\\oucht\\anaconda3\\lib\\site-packages\\sklearn\\svm\\_base.py:976: ConvergenceWarning: Liblinear failed to converge, increase the number of iterations.\n",
      "  warnings.warn(\"Liblinear failed to converge, increase \"\n",
      "C:\\Users\\oucht\\anaconda3\\lib\\site-packages\\sklearn\\svm\\_base.py:976: ConvergenceWarning: Liblinear failed to converge, increase the number of iterations.\n",
      "  warnings.warn(\"Liblinear failed to converge, increase \"\n",
      "C:\\Users\\oucht\\anaconda3\\lib\\site-packages\\sklearn\\svm\\_base.py:976: ConvergenceWarning: Liblinear failed to converge, increase the number of iterations.\n",
      "  warnings.warn(\"Liblinear failed to converge, increase \"\n",
      "C:\\Users\\oucht\\anaconda3\\lib\\site-packages\\sklearn\\svm\\_base.py:976: ConvergenceWarning: Liblinear failed to converge, increase the number of iterations.\n",
      "  warnings.warn(\"Liblinear failed to converge, increase \"\n",
      "C:\\Users\\oucht\\anaconda3\\lib\\site-packages\\sklearn\\svm\\_base.py:976: ConvergenceWarning: Liblinear failed to converge, increase the number of iterations.\n",
      "  warnings.warn(\"Liblinear failed to converge, increase \"\n"
     ]
    },
    {
     "name": "stdout",
     "output_type": "stream",
     "text": [
      "Paw\n"
     ]
    },
    {
     "name": "stderr",
     "output_type": "stream",
     "text": [
      "C:\\Users\\oucht\\anaconda3\\lib\\site-packages\\sklearn\\svm\\_base.py:976: ConvergenceWarning: Liblinear failed to converge, increase the number of iterations.\n",
      "  warnings.warn(\"Liblinear failed to converge, increase \"\n",
      "C:\\Users\\oucht\\anaconda3\\lib\\site-packages\\sklearn\\svm\\_base.py:976: ConvergenceWarning: Liblinear failed to converge, increase the number of iterations.\n",
      "  warnings.warn(\"Liblinear failed to converge, increase \"\n",
      "C:\\Users\\oucht\\anaconda3\\lib\\site-packages\\sklearn\\svm\\_base.py:976: ConvergenceWarning: Liblinear failed to converge, increase the number of iterations.\n",
      "  warnings.warn(\"Liblinear failed to converge, increase \"\n",
      "C:\\Users\\oucht\\anaconda3\\lib\\site-packages\\sklearn\\svm\\_base.py:976: ConvergenceWarning: Liblinear failed to converge, increase the number of iterations.\n",
      "  warnings.warn(\"Liblinear failed to converge, increase \"\n",
      "C:\\Users\\oucht\\anaconda3\\lib\\site-packages\\sklearn\\svm\\_base.py:976: ConvergenceWarning: Liblinear failed to converge, increase the number of iterations.\n",
      "  warnings.warn(\"Liblinear failed to converge, increase \"\n",
      "C:\\Users\\oucht\\anaconda3\\lib\\site-packages\\sklearn\\svm\\_base.py:976: ConvergenceWarning: Liblinear failed to converge, increase the number of iterations.\n",
      "  warnings.warn(\"Liblinear failed to converge, increase \"\n",
      "C:\\Users\\oucht\\anaconda3\\lib\\site-packages\\sklearn\\svm\\_base.py:976: ConvergenceWarning: Liblinear failed to converge, increase the number of iterations.\n",
      "  warnings.warn(\"Liblinear failed to converge, increase \"\n",
      "C:\\Users\\oucht\\anaconda3\\lib\\site-packages\\sklearn\\svm\\_base.py:976: ConvergenceWarning: Liblinear failed to converge, increase the number of iterations.\n",
      "  warnings.warn(\"Liblinear failed to converge, increase \"\n",
      "C:\\Users\\oucht\\anaconda3\\lib\\site-packages\\sklearn\\svm\\_base.py:976: ConvergenceWarning: Liblinear failed to converge, increase the number of iterations.\n",
      "  warnings.warn(\"Liblinear failed to converge, increase \"\n",
      "C:\\Users\\oucht\\anaconda3\\lib\\site-packages\\sklearn\\svm\\_base.py:976: ConvergenceWarning: Liblinear failed to converge, increase the number of iterations.\n",
      "  warnings.warn(\"Liblinear failed to converge, increase \"\n"
     ]
    },
    {
     "name": "stdout",
     "output_type": "stream",
     "text": [
      "ecoli1\n",
      "pima\n"
     ]
    },
    {
     "name": "stderr",
     "output_type": "stream",
     "text": [
      "C:\\Users\\oucht\\anaconda3\\lib\\site-packages\\sklearn\\svm\\_base.py:976: ConvergenceWarning: Liblinear failed to converge, increase the number of iterations.\n",
      "  warnings.warn(\"Liblinear failed to converge, increase \"\n",
      "C:\\Users\\oucht\\anaconda3\\lib\\site-packages\\sklearn\\svm\\_base.py:976: ConvergenceWarning: Liblinear failed to converge, increase the number of iterations.\n",
      "  warnings.warn(\"Liblinear failed to converge, increase \"\n",
      "C:\\Users\\oucht\\anaconda3\\lib\\site-packages\\sklearn\\svm\\_base.py:976: ConvergenceWarning: Liblinear failed to converge, increase the number of iterations.\n",
      "  warnings.warn(\"Liblinear failed to converge, increase \"\n",
      "C:\\Users\\oucht\\anaconda3\\lib\\site-packages\\sklearn\\svm\\_base.py:976: ConvergenceWarning: Liblinear failed to converge, increase the number of iterations.\n",
      "  warnings.warn(\"Liblinear failed to converge, increase \"\n",
      "C:\\Users\\oucht\\anaconda3\\lib\\site-packages\\sklearn\\svm\\_base.py:976: ConvergenceWarning: Liblinear failed to converge, increase the number of iterations.\n",
      "  warnings.warn(\"Liblinear failed to converge, increase \"\n",
      "C:\\Users\\oucht\\anaconda3\\lib\\site-packages\\sklearn\\svm\\_base.py:976: ConvergenceWarning: Liblinear failed to converge, increase the number of iterations.\n",
      "  warnings.warn(\"Liblinear failed to converge, increase \"\n",
      "C:\\Users\\oucht\\anaconda3\\lib\\site-packages\\sklearn\\svm\\_base.py:976: ConvergenceWarning: Liblinear failed to converge, increase the number of iterations.\n",
      "  warnings.warn(\"Liblinear failed to converge, increase \"\n",
      "C:\\Users\\oucht\\anaconda3\\lib\\site-packages\\sklearn\\svm\\_base.py:976: ConvergenceWarning: Liblinear failed to converge, increase the number of iterations.\n",
      "  warnings.warn(\"Liblinear failed to converge, increase \"\n",
      "C:\\Users\\oucht\\anaconda3\\lib\\site-packages\\sklearn\\svm\\_base.py:976: ConvergenceWarning: Liblinear failed to converge, increase the number of iterations.\n",
      "  warnings.warn(\"Liblinear failed to converge, increase \"\n",
      "C:\\Users\\oucht\\anaconda3\\lib\\site-packages\\sklearn\\svm\\_base.py:976: ConvergenceWarning: Liblinear failed to converge, increase the number of iterations.\n",
      "  warnings.warn(\"Liblinear failed to converge, increase \"\n"
     ]
    },
    {
     "name": "stdout",
     "output_type": "stream",
     "text": [
      "yeast6\n",
      "page_blocks\n"
     ]
    },
    {
     "name": "stderr",
     "output_type": "stream",
     "text": [
      "C:\\Users\\oucht\\anaconda3\\lib\\site-packages\\sklearn\\svm\\_base.py:976: ConvergenceWarning: Liblinear failed to converge, increase the number of iterations.\n",
      "  warnings.warn(\"Liblinear failed to converge, increase \"\n",
      "C:\\Users\\oucht\\anaconda3\\lib\\site-packages\\sklearn\\svm\\_base.py:976: ConvergenceWarning: Liblinear failed to converge, increase the number of iterations.\n",
      "  warnings.warn(\"Liblinear failed to converge, increase \"\n",
      "C:\\Users\\oucht\\anaconda3\\lib\\site-packages\\sklearn\\svm\\_base.py:976: ConvergenceWarning: Liblinear failed to converge, increase the number of iterations.\n",
      "  warnings.warn(\"Liblinear failed to converge, increase \"\n",
      "C:\\Users\\oucht\\anaconda3\\lib\\site-packages\\sklearn\\svm\\_base.py:976: ConvergenceWarning: Liblinear failed to converge, increase the number of iterations.\n",
      "  warnings.warn(\"Liblinear failed to converge, increase \"\n",
      "C:\\Users\\oucht\\anaconda3\\lib\\site-packages\\sklearn\\svm\\_base.py:976: ConvergenceWarning: Liblinear failed to converge, increase the number of iterations.\n",
      "  warnings.warn(\"Liblinear failed to converge, increase \"\n",
      "C:\\Users\\oucht\\anaconda3\\lib\\site-packages\\sklearn\\svm\\_base.py:976: ConvergenceWarning: Liblinear failed to converge, increase the number of iterations.\n",
      "  warnings.warn(\"Liblinear failed to converge, increase \"\n",
      "C:\\Users\\oucht\\anaconda3\\lib\\site-packages\\sklearn\\svm\\_base.py:976: ConvergenceWarning: Liblinear failed to converge, increase the number of iterations.\n",
      "  warnings.warn(\"Liblinear failed to converge, increase \"\n",
      "C:\\Users\\oucht\\anaconda3\\lib\\site-packages\\sklearn\\svm\\_base.py:976: ConvergenceWarning: Liblinear failed to converge, increase the number of iterations.\n",
      "  warnings.warn(\"Liblinear failed to converge, increase \"\n",
      "C:\\Users\\oucht\\anaconda3\\lib\\site-packages\\sklearn\\svm\\_base.py:976: ConvergenceWarning: Liblinear failed to converge, increase the number of iterations.\n",
      "  warnings.warn(\"Liblinear failed to converge, increase \"\n",
      "C:\\Users\\oucht\\anaconda3\\lib\\site-packages\\sklearn\\svm\\_base.py:976: ConvergenceWarning: Liblinear failed to converge, increase the number of iterations.\n",
      "  warnings.warn(\"Liblinear failed to converge, increase \"\n"
     ]
    },
    {
     "name": "stdout",
     "output_type": "stream",
     "text": [
      "glass\n"
     ]
    },
    {
     "name": "stderr",
     "output_type": "stream",
     "text": [
      "C:\\Users\\oucht\\anaconda3\\lib\\site-packages\\sklearn\\svm\\_base.py:976: ConvergenceWarning: Liblinear failed to converge, increase the number of iterations.\n",
      "  warnings.warn(\"Liblinear failed to converge, increase \"\n",
      "C:\\Users\\oucht\\anaconda3\\lib\\site-packages\\sklearn\\svm\\_base.py:976: ConvergenceWarning: Liblinear failed to converge, increase the number of iterations.\n",
      "  warnings.warn(\"Liblinear failed to converge, increase \"\n",
      "C:\\Users\\oucht\\anaconda3\\lib\\site-packages\\sklearn\\svm\\_base.py:976: ConvergenceWarning: Liblinear failed to converge, increase the number of iterations.\n",
      "  warnings.warn(\"Liblinear failed to converge, increase \"\n",
      "C:\\Users\\oucht\\anaconda3\\lib\\site-packages\\sklearn\\svm\\_base.py:976: ConvergenceWarning: Liblinear failed to converge, increase the number of iterations.\n",
      "  warnings.warn(\"Liblinear failed to converge, increase \"\n",
      "C:\\Users\\oucht\\anaconda3\\lib\\site-packages\\sklearn\\svm\\_base.py:976: ConvergenceWarning: Liblinear failed to converge, increase the number of iterations.\n",
      "  warnings.warn(\"Liblinear failed to converge, increase \"\n",
      "C:\\Users\\oucht\\anaconda3\\lib\\site-packages\\sklearn\\svm\\_base.py:976: ConvergenceWarning: Liblinear failed to converge, increase the number of iterations.\n",
      "  warnings.warn(\"Liblinear failed to converge, increase \"\n",
      "C:\\Users\\oucht\\anaconda3\\lib\\site-packages\\sklearn\\svm\\_base.py:976: ConvergenceWarning: Liblinear failed to converge, increase the number of iterations.\n",
      "  warnings.warn(\"Liblinear failed to converge, increase \"\n",
      "C:\\Users\\oucht\\anaconda3\\lib\\site-packages\\sklearn\\svm\\_base.py:976: ConvergenceWarning: Liblinear failed to converge, increase the number of iterations.\n",
      "  warnings.warn(\"Liblinear failed to converge, increase \"\n",
      "C:\\Users\\oucht\\anaconda3\\lib\\site-packages\\sklearn\\svm\\_base.py:976: ConvergenceWarning: Liblinear failed to converge, increase the number of iterations.\n",
      "  warnings.warn(\"Liblinear failed to converge, increase \"\n",
      "C:\\Users\\oucht\\anaconda3\\lib\\site-packages\\sklearn\\svm\\_base.py:976: ConvergenceWarning: Liblinear failed to converge, increase the number of iterations.\n",
      "  warnings.warn(\"Liblinear failed to converge, increase \"\n"
     ]
    },
    {
     "name": "stdout",
     "output_type": "stream",
     "text": [
      "wisconsin\n"
     ]
    },
    {
     "name": "stderr",
     "output_type": "stream",
     "text": [
      "C:\\Users\\oucht\\anaconda3\\lib\\site-packages\\sklearn\\svm\\_base.py:976: ConvergenceWarning: Liblinear failed to converge, increase the number of iterations.\n",
      "  warnings.warn(\"Liblinear failed to converge, increase \"\n",
      "C:\\Users\\oucht\\anaconda3\\lib\\site-packages\\sklearn\\svm\\_base.py:976: ConvergenceWarning: Liblinear failed to converge, increase the number of iterations.\n",
      "  warnings.warn(\"Liblinear failed to converge, increase \"\n",
      "C:\\Users\\oucht\\anaconda3\\lib\\site-packages\\sklearn\\svm\\_base.py:976: ConvergenceWarning: Liblinear failed to converge, increase the number of iterations.\n",
      "  warnings.warn(\"Liblinear failed to converge, increase \"\n",
      "C:\\Users\\oucht\\anaconda3\\lib\\site-packages\\sklearn\\svm\\_base.py:976: ConvergenceWarning: Liblinear failed to converge, increase the number of iterations.\n",
      "  warnings.warn(\"Liblinear failed to converge, increase \"\n",
      "C:\\Users\\oucht\\anaconda3\\lib\\site-packages\\sklearn\\svm\\_base.py:976: ConvergenceWarning: Liblinear failed to converge, increase the number of iterations.\n",
      "  warnings.warn(\"Liblinear failed to converge, increase \"\n",
      "C:\\Users\\oucht\\anaconda3\\lib\\site-packages\\sklearn\\svm\\_base.py:976: ConvergenceWarning: Liblinear failed to converge, increase the number of iterations.\n",
      "  warnings.warn(\"Liblinear failed to converge, increase \"\n",
      "C:\\Users\\oucht\\anaconda3\\lib\\site-packages\\sklearn\\svm\\_base.py:976: ConvergenceWarning: Liblinear failed to converge, increase the number of iterations.\n",
      "  warnings.warn(\"Liblinear failed to converge, increase \"\n",
      "C:\\Users\\oucht\\anaconda3\\lib\\site-packages\\sklearn\\svm\\_base.py:976: ConvergenceWarning: Liblinear failed to converge, increase the number of iterations.\n",
      "  warnings.warn(\"Liblinear failed to converge, increase \"\n",
      "C:\\Users\\oucht\\anaconda3\\lib\\site-packages\\sklearn\\svm\\_base.py:976: ConvergenceWarning: Liblinear failed to converge, increase the number of iterations.\n",
      "  warnings.warn(\"Liblinear failed to converge, increase \"\n",
      "C:\\Users\\oucht\\anaconda3\\lib\\site-packages\\sklearn\\svm\\_base.py:976: ConvergenceWarning: Liblinear failed to converge, increase the number of iterations.\n",
      "  warnings.warn(\"Liblinear failed to converge, increase \"\n"
     ]
    },
    {
     "name": "stdout",
     "output_type": "stream",
     "text": [
      "yeast4\n",
      "vehicle1\n"
     ]
    },
    {
     "name": "stderr",
     "output_type": "stream",
     "text": [
      "C:\\Users\\oucht\\anaconda3\\lib\\site-packages\\sklearn\\svm\\_base.py:976: ConvergenceWarning: Liblinear failed to converge, increase the number of iterations.\n",
      "  warnings.warn(\"Liblinear failed to converge, increase \"\n",
      "C:\\Users\\oucht\\anaconda3\\lib\\site-packages\\sklearn\\svm\\_base.py:976: ConvergenceWarning: Liblinear failed to converge, increase the number of iterations.\n",
      "  warnings.warn(\"Liblinear failed to converge, increase \"\n",
      "C:\\Users\\oucht\\anaconda3\\lib\\site-packages\\sklearn\\svm\\_base.py:976: ConvergenceWarning: Liblinear failed to converge, increase the number of iterations.\n",
      "  warnings.warn(\"Liblinear failed to converge, increase \"\n",
      "C:\\Users\\oucht\\anaconda3\\lib\\site-packages\\sklearn\\svm\\_base.py:976: ConvergenceWarning: Liblinear failed to converge, increase the number of iterations.\n",
      "  warnings.warn(\"Liblinear failed to converge, increase \"\n",
      "C:\\Users\\oucht\\anaconda3\\lib\\site-packages\\sklearn\\svm\\_base.py:976: ConvergenceWarning: Liblinear failed to converge, increase the number of iterations.\n",
      "  warnings.warn(\"Liblinear failed to converge, increase \"\n",
      "C:\\Users\\oucht\\anaconda3\\lib\\site-packages\\sklearn\\svm\\_base.py:976: ConvergenceWarning: Liblinear failed to converge, increase the number of iterations.\n",
      "  warnings.warn(\"Liblinear failed to converge, increase \"\n",
      "C:\\Users\\oucht\\anaconda3\\lib\\site-packages\\sklearn\\svm\\_base.py:976: ConvergenceWarning: Liblinear failed to converge, increase the number of iterations.\n",
      "  warnings.warn(\"Liblinear failed to converge, increase \"\n",
      "C:\\Users\\oucht\\anaconda3\\lib\\site-packages\\sklearn\\svm\\_base.py:976: ConvergenceWarning: Liblinear failed to converge, increase the number of iterations.\n",
      "  warnings.warn(\"Liblinear failed to converge, increase \"\n",
      "C:\\Users\\oucht\\anaconda3\\lib\\site-packages\\sklearn\\svm\\_base.py:976: ConvergenceWarning: Liblinear failed to converge, increase the number of iterations.\n",
      "  warnings.warn(\"Liblinear failed to converge, increase \"\n",
      "C:\\Users\\oucht\\anaconda3\\lib\\site-packages\\sklearn\\svm\\_base.py:976: ConvergenceWarning: Liblinear failed to converge, increase the number of iterations.\n",
      "  warnings.warn(\"Liblinear failed to converge, increase \"\n"
     ]
    },
    {
     "name": "stdout",
     "output_type": "stream",
     "text": [
      "Subcl35\n"
     ]
    },
    {
     "name": "stderr",
     "output_type": "stream",
     "text": [
      "C:\\Users\\oucht\\anaconda3\\lib\\site-packages\\sklearn\\svm\\_base.py:976: ConvergenceWarning: Liblinear failed to converge, increase the number of iterations.\n",
      "  warnings.warn(\"Liblinear failed to converge, increase \"\n",
      "C:\\Users\\oucht\\anaconda3\\lib\\site-packages\\sklearn\\svm\\_base.py:976: ConvergenceWarning: Liblinear failed to converge, increase the number of iterations.\n",
      "  warnings.warn(\"Liblinear failed to converge, increase \"\n",
      "C:\\Users\\oucht\\anaconda3\\lib\\site-packages\\sklearn\\svm\\_base.py:976: ConvergenceWarning: Liblinear failed to converge, increase the number of iterations.\n",
      "  warnings.warn(\"Liblinear failed to converge, increase \"\n",
      "C:\\Users\\oucht\\anaconda3\\lib\\site-packages\\sklearn\\svm\\_base.py:976: ConvergenceWarning: Liblinear failed to converge, increase the number of iterations.\n",
      "  warnings.warn(\"Liblinear failed to converge, increase \"\n",
      "C:\\Users\\oucht\\anaconda3\\lib\\site-packages\\sklearn\\svm\\_base.py:976: ConvergenceWarning: Liblinear failed to converge, increase the number of iterations.\n",
      "  warnings.warn(\"Liblinear failed to converge, increase \"\n",
      "C:\\Users\\oucht\\anaconda3\\lib\\site-packages\\sklearn\\svm\\_base.py:976: ConvergenceWarning: Liblinear failed to converge, increase the number of iterations.\n",
      "  warnings.warn(\"Liblinear failed to converge, increase \"\n",
      "C:\\Users\\oucht\\anaconda3\\lib\\site-packages\\sklearn\\svm\\_base.py:976: ConvergenceWarning: Liblinear failed to converge, increase the number of iterations.\n",
      "  warnings.warn(\"Liblinear failed to converge, increase \"\n",
      "C:\\Users\\oucht\\anaconda3\\lib\\site-packages\\sklearn\\svm\\_base.py:976: ConvergenceWarning: Liblinear failed to converge, increase the number of iterations.\n",
      "  warnings.warn(\"Liblinear failed to converge, increase \"\n",
      "C:\\Users\\oucht\\anaconda3\\lib\\site-packages\\sklearn\\svm\\_base.py:976: ConvergenceWarning: Liblinear failed to converge, increase the number of iterations.\n",
      "  warnings.warn(\"Liblinear failed to converge, increase \"\n",
      "C:\\Users\\oucht\\anaconda3\\lib\\site-packages\\sklearn\\svm\\_base.py:976: ConvergenceWarning: Liblinear failed to converge, increase the number of iterations.\n",
      "  warnings.warn(\"Liblinear failed to converge, increase \"\n"
     ]
    },
    {
     "name": "stdout",
     "output_type": "stream",
     "text": [
      "Paw\n"
     ]
    },
    {
     "name": "stderr",
     "output_type": "stream",
     "text": [
      "C:\\Users\\oucht\\anaconda3\\lib\\site-packages\\sklearn\\svm\\_base.py:976: ConvergenceWarning: Liblinear failed to converge, increase the number of iterations.\n",
      "  warnings.warn(\"Liblinear failed to converge, increase \"\n",
      "C:\\Users\\oucht\\anaconda3\\lib\\site-packages\\sklearn\\svm\\_base.py:976: ConvergenceWarning: Liblinear failed to converge, increase the number of iterations.\n",
      "  warnings.warn(\"Liblinear failed to converge, increase \"\n",
      "C:\\Users\\oucht\\anaconda3\\lib\\site-packages\\sklearn\\svm\\_base.py:976: ConvergenceWarning: Liblinear failed to converge, increase the number of iterations.\n",
      "  warnings.warn(\"Liblinear failed to converge, increase \"\n",
      "C:\\Users\\oucht\\anaconda3\\lib\\site-packages\\sklearn\\svm\\_base.py:976: ConvergenceWarning: Liblinear failed to converge, increase the number of iterations.\n",
      "  warnings.warn(\"Liblinear failed to converge, increase \"\n",
      "C:\\Users\\oucht\\anaconda3\\lib\\site-packages\\sklearn\\svm\\_base.py:976: ConvergenceWarning: Liblinear failed to converge, increase the number of iterations.\n",
      "  warnings.warn(\"Liblinear failed to converge, increase \"\n",
      "C:\\Users\\oucht\\anaconda3\\lib\\site-packages\\sklearn\\svm\\_base.py:976: ConvergenceWarning: Liblinear failed to converge, increase the number of iterations.\n",
      "  warnings.warn(\"Liblinear failed to converge, increase \"\n",
      "C:\\Users\\oucht\\anaconda3\\lib\\site-packages\\sklearn\\svm\\_base.py:976: ConvergenceWarning: Liblinear failed to converge, increase the number of iterations.\n",
      "  warnings.warn(\"Liblinear failed to converge, increase \"\n",
      "C:\\Users\\oucht\\anaconda3\\lib\\site-packages\\sklearn\\svm\\_base.py:976: ConvergenceWarning: Liblinear failed to converge, increase the number of iterations.\n",
      "  warnings.warn(\"Liblinear failed to converge, increase \"\n",
      "C:\\Users\\oucht\\anaconda3\\lib\\site-packages\\sklearn\\svm\\_base.py:976: ConvergenceWarning: Liblinear failed to converge, increase the number of iterations.\n",
      "  warnings.warn(\"Liblinear failed to converge, increase \"\n",
      "C:\\Users\\oucht\\anaconda3\\lib\\site-packages\\sklearn\\svm\\_base.py:976: ConvergenceWarning: Liblinear failed to converge, increase the number of iterations.\n",
      "  warnings.warn(\"Liblinear failed to converge, increase \"\n"
     ]
    },
    {
     "name": "stdout",
     "output_type": "stream",
     "text": [
      "ecoli1\n",
      "pima\n"
     ]
    },
    {
     "name": "stderr",
     "output_type": "stream",
     "text": [
      "C:\\Users\\oucht\\anaconda3\\lib\\site-packages\\sklearn\\svm\\_base.py:976: ConvergenceWarning: Liblinear failed to converge, increase the number of iterations.\n",
      "  warnings.warn(\"Liblinear failed to converge, increase \"\n",
      "C:\\Users\\oucht\\anaconda3\\lib\\site-packages\\sklearn\\svm\\_base.py:976: ConvergenceWarning: Liblinear failed to converge, increase the number of iterations.\n",
      "  warnings.warn(\"Liblinear failed to converge, increase \"\n",
      "C:\\Users\\oucht\\anaconda3\\lib\\site-packages\\sklearn\\svm\\_base.py:976: ConvergenceWarning: Liblinear failed to converge, increase the number of iterations.\n",
      "  warnings.warn(\"Liblinear failed to converge, increase \"\n",
      "C:\\Users\\oucht\\anaconda3\\lib\\site-packages\\sklearn\\svm\\_base.py:976: ConvergenceWarning: Liblinear failed to converge, increase the number of iterations.\n",
      "  warnings.warn(\"Liblinear failed to converge, increase \"\n",
      "C:\\Users\\oucht\\anaconda3\\lib\\site-packages\\sklearn\\svm\\_base.py:976: ConvergenceWarning: Liblinear failed to converge, increase the number of iterations.\n",
      "  warnings.warn(\"Liblinear failed to converge, increase \"\n",
      "C:\\Users\\oucht\\anaconda3\\lib\\site-packages\\sklearn\\svm\\_base.py:976: ConvergenceWarning: Liblinear failed to converge, increase the number of iterations.\n",
      "  warnings.warn(\"Liblinear failed to converge, increase \"\n",
      "C:\\Users\\oucht\\anaconda3\\lib\\site-packages\\sklearn\\svm\\_base.py:976: ConvergenceWarning: Liblinear failed to converge, increase the number of iterations.\n",
      "  warnings.warn(\"Liblinear failed to converge, increase \"\n",
      "C:\\Users\\oucht\\anaconda3\\lib\\site-packages\\sklearn\\svm\\_base.py:976: ConvergenceWarning: Liblinear failed to converge, increase the number of iterations.\n",
      "  warnings.warn(\"Liblinear failed to converge, increase \"\n",
      "C:\\Users\\oucht\\anaconda3\\lib\\site-packages\\sklearn\\svm\\_base.py:976: ConvergenceWarning: Liblinear failed to converge, increase the number of iterations.\n",
      "  warnings.warn(\"Liblinear failed to converge, increase \"\n",
      "C:\\Users\\oucht\\anaconda3\\lib\\site-packages\\sklearn\\svm\\_base.py:976: ConvergenceWarning: Liblinear failed to converge, increase the number of iterations.\n",
      "  warnings.warn(\"Liblinear failed to converge, increase \"\n"
     ]
    },
    {
     "name": "stdout",
     "output_type": "stream",
     "text": [
      "yeast6\n",
      "page_blocks\n"
     ]
    },
    {
     "name": "stderr",
     "output_type": "stream",
     "text": [
      "C:\\Users\\oucht\\anaconda3\\lib\\site-packages\\sklearn\\svm\\_base.py:976: ConvergenceWarning: Liblinear failed to converge, increase the number of iterations.\n",
      "  warnings.warn(\"Liblinear failed to converge, increase \"\n",
      "C:\\Users\\oucht\\anaconda3\\lib\\site-packages\\sklearn\\svm\\_base.py:976: ConvergenceWarning: Liblinear failed to converge, increase the number of iterations.\n",
      "  warnings.warn(\"Liblinear failed to converge, increase \"\n",
      "C:\\Users\\oucht\\anaconda3\\lib\\site-packages\\sklearn\\svm\\_base.py:976: ConvergenceWarning: Liblinear failed to converge, increase the number of iterations.\n",
      "  warnings.warn(\"Liblinear failed to converge, increase \"\n",
      "C:\\Users\\oucht\\anaconda3\\lib\\site-packages\\sklearn\\svm\\_base.py:976: ConvergenceWarning: Liblinear failed to converge, increase the number of iterations.\n",
      "  warnings.warn(\"Liblinear failed to converge, increase \"\n",
      "C:\\Users\\oucht\\anaconda3\\lib\\site-packages\\sklearn\\svm\\_base.py:976: ConvergenceWarning: Liblinear failed to converge, increase the number of iterations.\n",
      "  warnings.warn(\"Liblinear failed to converge, increase \"\n",
      "C:\\Users\\oucht\\anaconda3\\lib\\site-packages\\sklearn\\svm\\_base.py:976: ConvergenceWarning: Liblinear failed to converge, increase the number of iterations.\n",
      "  warnings.warn(\"Liblinear failed to converge, increase \"\n",
      "C:\\Users\\oucht\\anaconda3\\lib\\site-packages\\sklearn\\svm\\_base.py:976: ConvergenceWarning: Liblinear failed to converge, increase the number of iterations.\n",
      "  warnings.warn(\"Liblinear failed to converge, increase \"\n",
      "C:\\Users\\oucht\\anaconda3\\lib\\site-packages\\sklearn\\svm\\_base.py:976: ConvergenceWarning: Liblinear failed to converge, increase the number of iterations.\n",
      "  warnings.warn(\"Liblinear failed to converge, increase \"\n",
      "C:\\Users\\oucht\\anaconda3\\lib\\site-packages\\sklearn\\svm\\_base.py:976: ConvergenceWarning: Liblinear failed to converge, increase the number of iterations.\n",
      "  warnings.warn(\"Liblinear failed to converge, increase \"\n",
      "C:\\Users\\oucht\\anaconda3\\lib\\site-packages\\sklearn\\svm\\_base.py:976: ConvergenceWarning: Liblinear failed to converge, increase the number of iterations.\n",
      "  warnings.warn(\"Liblinear failed to converge, increase \"\n"
     ]
    },
    {
     "name": "stdout",
     "output_type": "stream",
     "text": [
      "glass\n"
     ]
    },
    {
     "name": "stderr",
     "output_type": "stream",
     "text": [
      "C:\\Users\\oucht\\anaconda3\\lib\\site-packages\\sklearn\\svm\\_base.py:976: ConvergenceWarning: Liblinear failed to converge, increase the number of iterations.\n",
      "  warnings.warn(\"Liblinear failed to converge, increase \"\n",
      "C:\\Users\\oucht\\anaconda3\\lib\\site-packages\\sklearn\\svm\\_base.py:976: ConvergenceWarning: Liblinear failed to converge, increase the number of iterations.\n",
      "  warnings.warn(\"Liblinear failed to converge, increase \"\n",
      "C:\\Users\\oucht\\anaconda3\\lib\\site-packages\\sklearn\\svm\\_base.py:976: ConvergenceWarning: Liblinear failed to converge, increase the number of iterations.\n",
      "  warnings.warn(\"Liblinear failed to converge, increase \"\n",
      "C:\\Users\\oucht\\anaconda3\\lib\\site-packages\\sklearn\\svm\\_base.py:976: ConvergenceWarning: Liblinear failed to converge, increase the number of iterations.\n",
      "  warnings.warn(\"Liblinear failed to converge, increase \"\n",
      "C:\\Users\\oucht\\anaconda3\\lib\\site-packages\\sklearn\\svm\\_base.py:976: ConvergenceWarning: Liblinear failed to converge, increase the number of iterations.\n",
      "  warnings.warn(\"Liblinear failed to converge, increase \"\n",
      "C:\\Users\\oucht\\anaconda3\\lib\\site-packages\\sklearn\\svm\\_base.py:976: ConvergenceWarning: Liblinear failed to converge, increase the number of iterations.\n",
      "  warnings.warn(\"Liblinear failed to converge, increase \"\n",
      "C:\\Users\\oucht\\anaconda3\\lib\\site-packages\\sklearn\\svm\\_base.py:976: ConvergenceWarning: Liblinear failed to converge, increase the number of iterations.\n",
      "  warnings.warn(\"Liblinear failed to converge, increase \"\n",
      "C:\\Users\\oucht\\anaconda3\\lib\\site-packages\\sklearn\\svm\\_base.py:976: ConvergenceWarning: Liblinear failed to converge, increase the number of iterations.\n",
      "  warnings.warn(\"Liblinear failed to converge, increase \"\n",
      "C:\\Users\\oucht\\anaconda3\\lib\\site-packages\\sklearn\\svm\\_base.py:976: ConvergenceWarning: Liblinear failed to converge, increase the number of iterations.\n",
      "  warnings.warn(\"Liblinear failed to converge, increase \"\n",
      "C:\\Users\\oucht\\anaconda3\\lib\\site-packages\\sklearn\\svm\\_base.py:976: ConvergenceWarning: Liblinear failed to converge, increase the number of iterations.\n",
      "  warnings.warn(\"Liblinear failed to converge, increase \"\n",
      "2022-01-21 12:20:26,508:INFO:DBSMOTE: Running sampling via ('DBSMOTE', \"{'proportion': 10, 'eps': 1.2, 'min_samples': 1, 'n_jobs': 1, 'random_state': None}\")\n"
     ]
    },
    {
     "name": "stdout",
     "output_type": "stream",
     "text": [
      "wisconsin\n"
     ]
    },
    {
     "name": "stderr",
     "output_type": "stream",
     "text": [
      "2022-01-21 12:20:27,974:INFO:DBSMOTE: Running sampling via ('DBSMOTE', \"{'proportion': 10, 'eps': 1.2, 'min_samples': 1, 'n_jobs': 1, 'random_state': None}\")\n",
      "2022-01-21 12:20:29,437:INFO:DBSMOTE: Running sampling via ('DBSMOTE', \"{'proportion': 10, 'eps': 1.2, 'min_samples': 1, 'n_jobs': 1, 'random_state': None}\")\n",
      "2022-01-21 12:20:30,937:INFO:DBSMOTE: Running sampling via ('DBSMOTE', \"{'proportion': 10, 'eps': 1.2, 'min_samples': 1, 'n_jobs': 1, 'random_state': None}\")\n",
      "2022-01-21 12:20:32,332:INFO:DBSMOTE: Running sampling via ('DBSMOTE', \"{'proportion': 10, 'eps': 1.2, 'min_samples': 1, 'n_jobs': 1, 'random_state': None}\")\n",
      "2022-01-21 12:20:33,777:INFO:DBSMOTE: Running sampling via ('DBSMOTE', \"{'proportion': 10, 'eps': 1.2, 'min_samples': 1, 'n_jobs': 1, 'random_state': None}\")\n",
      "2022-01-21 12:20:35,304:INFO:DBSMOTE: Running sampling via ('DBSMOTE', \"{'proportion': 10, 'eps': 1.2, 'min_samples': 1, 'n_jobs': 1, 'random_state': None}\")\n",
      "2022-01-21 12:20:36,684:INFO:DBSMOTE: Running sampling via ('DBSMOTE', \"{'proportion': 10, 'eps': 1.2, 'min_samples': 1, 'n_jobs': 1, 'random_state': None}\")\n",
      "2022-01-21 12:20:38,225:INFO:DBSMOTE: Running sampling via ('DBSMOTE', \"{'proportion': 10, 'eps': 1.2, 'min_samples': 1, 'n_jobs': 1, 'random_state': None}\")\n",
      "2022-01-21 12:20:39,601:INFO:DBSMOTE: Running sampling via ('DBSMOTE', \"{'proportion': 10, 'eps': 1.2, 'min_samples': 1, 'n_jobs': 1, 'random_state': None}\")\n",
      "2022-01-21 12:20:41,170:INFO:DBSMOTE: Running sampling via ('DBSMOTE', \"{'proportion': 1, 'eps': 0.8, 'min_samples': 3, 'n_jobs': 1, 'random_state': None}\")\n",
      "2022-01-21 12:20:41,180:INFO:DBSMOTE: Number of clusters is 0, trying to increase eps and decrease min_samples\n",
      "2022-01-21 12:20:41,180:INFO:DBSMOTE: Running sampling via ('DBSMOTE', \"{'proportion': 1, 'eps': 1.2000000000000002, 'min_samples': 2, 'n_jobs': 1, 'random_state': <module 'numpy.random' from 'C:\\\\\\\\Users\\\\\\\\oucht\\\\\\\\anaconda3\\\\\\\\lib\\\\\\\\site-packages\\\\\\\\numpy\\\\\\\\random\\\\\\\\__init__.py'>}\")\n",
      "2022-01-21 12:20:41,351:INFO:DBSMOTE: Running sampling via ('DBSMOTE', \"{'proportion': 1, 'eps': 0.8, 'min_samples': 3, 'n_jobs': 1, 'random_state': None}\")\n",
      "2022-01-21 12:20:41,355:INFO:DBSMOTE: Number of clusters is 0, trying to increase eps and decrease min_samples\n",
      "2022-01-21 12:20:41,355:INFO:DBSMOTE: Running sampling via ('DBSMOTE', \"{'proportion': 1, 'eps': 1.2000000000000002, 'min_samples': 2, 'n_jobs': 1, 'random_state': <module 'numpy.random' from 'C:\\\\\\\\Users\\\\\\\\oucht\\\\\\\\anaconda3\\\\\\\\lib\\\\\\\\site-packages\\\\\\\\numpy\\\\\\\\random\\\\\\\\__init__.py'>}\")\n",
      "2022-01-21 12:20:41,536:INFO:DBSMOTE: Running sampling via ('DBSMOTE', \"{'proportion': 1, 'eps': 0.8, 'min_samples': 3, 'n_jobs': 1, 'random_state': None}\")\n",
      "2022-01-21 12:20:41,550:INFO:DBSMOTE: Number of clusters is 0, trying to increase eps and decrease min_samples\n",
      "2022-01-21 12:20:41,554:INFO:DBSMOTE: Running sampling via ('DBSMOTE', \"{'proportion': 1, 'eps': 1.2000000000000002, 'min_samples': 2, 'n_jobs': 1, 'random_state': <module 'numpy.random' from 'C:\\\\\\\\Users\\\\\\\\oucht\\\\\\\\anaconda3\\\\\\\\lib\\\\\\\\site-packages\\\\\\\\numpy\\\\\\\\random\\\\\\\\__init__.py'>}\")\n",
      "2022-01-21 12:20:41,732:INFO:DBSMOTE: Running sampling via ('DBSMOTE', \"{'proportion': 1, 'eps': 0.8, 'min_samples': 3, 'n_jobs': 1, 'random_state': None}\")\n",
      "2022-01-21 12:20:41,741:INFO:DBSMOTE: Number of clusters is 0, trying to increase eps and decrease min_samples\n",
      "2022-01-21 12:20:41,744:INFO:DBSMOTE: Running sampling via ('DBSMOTE', \"{'proportion': 1, 'eps': 1.2000000000000002, 'min_samples': 2, 'n_jobs': 1, 'random_state': <module 'numpy.random' from 'C:\\\\\\\\Users\\\\\\\\oucht\\\\\\\\anaconda3\\\\\\\\lib\\\\\\\\site-packages\\\\\\\\numpy\\\\\\\\random\\\\\\\\__init__.py'>}\")\n",
      "2022-01-21 12:20:41,909:INFO:DBSMOTE: Running sampling via ('DBSMOTE', \"{'proportion': 1, 'eps': 0.8, 'min_samples': 3, 'n_jobs': 1, 'random_state': None}\")\n",
      "2022-01-21 12:20:41,918:INFO:DBSMOTE: Number of clusters is 0, trying to increase eps and decrease min_samples\n",
      "2022-01-21 12:20:41,918:INFO:DBSMOTE: Running sampling via ('DBSMOTE', \"{'proportion': 1, 'eps': 1.2000000000000002, 'min_samples': 2, 'n_jobs': 1, 'random_state': <module 'numpy.random' from 'C:\\\\\\\\Users\\\\\\\\oucht\\\\\\\\anaconda3\\\\\\\\lib\\\\\\\\site-packages\\\\\\\\numpy\\\\\\\\random\\\\\\\\__init__.py'>}\")\n",
      "2022-01-21 12:20:42,072:INFO:DBSMOTE: Running sampling via ('DBSMOTE', \"{'proportion': 1, 'eps': 0.8, 'min_samples': 3, 'n_jobs': 1, 'random_state': None}\")\n",
      "2022-01-21 12:20:42,080:INFO:DBSMOTE: Number of clusters is 0, trying to increase eps and decrease min_samples\n",
      "2022-01-21 12:20:42,080:INFO:DBSMOTE: Running sampling via ('DBSMOTE', \"{'proportion': 1, 'eps': 1.2000000000000002, 'min_samples': 2, 'n_jobs': 1, 'random_state': <module 'numpy.random' from 'C:\\\\\\\\Users\\\\\\\\oucht\\\\\\\\anaconda3\\\\\\\\lib\\\\\\\\site-packages\\\\\\\\numpy\\\\\\\\random\\\\\\\\__init__.py'>}\")\n",
      "2022-01-21 12:20:42,275:INFO:DBSMOTE: Running sampling via ('DBSMOTE', \"{'proportion': 1, 'eps': 0.8, 'min_samples': 3, 'n_jobs': 1, 'random_state': None}\")\n",
      "2022-01-21 12:20:42,283:INFO:DBSMOTE: Number of clusters is 0, trying to increase eps and decrease min_samples\n",
      "2022-01-21 12:20:42,283:INFO:DBSMOTE: Running sampling via ('DBSMOTE', \"{'proportion': 1, 'eps': 1.2000000000000002, 'min_samples': 2, 'n_jobs': 1, 'random_state': <module 'numpy.random' from 'C:\\\\\\\\Users\\\\\\\\oucht\\\\\\\\anaconda3\\\\\\\\lib\\\\\\\\site-packages\\\\\\\\numpy\\\\\\\\random\\\\\\\\__init__.py'>}\")\n",
      "2022-01-21 12:20:42,452:INFO:DBSMOTE: Running sampling via ('DBSMOTE', \"{'proportion': 1, 'eps': 0.8, 'min_samples': 3, 'n_jobs': 1, 'random_state': None}\")\n",
      "2022-01-21 12:20:42,460:INFO:DBSMOTE: Number of clusters is 0, trying to increase eps and decrease min_samples\n",
      "2022-01-21 12:20:42,463:INFO:DBSMOTE: Running sampling via ('DBSMOTE', \"{'proportion': 1, 'eps': 1.2000000000000002, 'min_samples': 2, 'n_jobs': 1, 'random_state': <module 'numpy.random' from 'C:\\\\\\\\Users\\\\\\\\oucht\\\\\\\\anaconda3\\\\\\\\lib\\\\\\\\site-packages\\\\\\\\numpy\\\\\\\\random\\\\\\\\__init__.py'>}\")\n",
      "2022-01-21 12:20:42,577:INFO:DBSMOTE: Running sampling via ('DBSMOTE', \"{'proportion': 1, 'eps': 0.8, 'min_samples': 3, 'n_jobs': 1, 'random_state': None}\")\n",
      "2022-01-21 12:20:42,588:INFO:DBSMOTE: Number of clusters is 0, trying to increase eps and decrease min_samples\n",
      "2022-01-21 12:20:42,588:INFO:DBSMOTE: Running sampling via ('DBSMOTE', \"{'proportion': 1, 'eps': 1.2000000000000002, 'min_samples': 2, 'n_jobs': 1, 'random_state': <module 'numpy.random' from 'C:\\\\\\\\Users\\\\\\\\oucht\\\\\\\\anaconda3\\\\\\\\lib\\\\\\\\site-packages\\\\\\\\numpy\\\\\\\\random\\\\\\\\__init__.py'>}\")\n",
      "2022-01-21 12:20:42,748:INFO:DBSMOTE: Running sampling via ('DBSMOTE', \"{'proportion': 1, 'eps': 0.8, 'min_samples': 3, 'n_jobs': 1, 'random_state': None}\")\n",
      "2022-01-21 12:20:42,755:INFO:DBSMOTE: Number of clusters is 0, trying to increase eps and decrease min_samples\n",
      "2022-01-21 12:20:42,755:INFO:DBSMOTE: Running sampling via ('DBSMOTE', \"{'proportion': 1, 'eps': 1.2000000000000002, 'min_samples': 2, 'n_jobs': 1, 'random_state': <module 'numpy.random' from 'C:\\\\\\\\Users\\\\\\\\oucht\\\\\\\\anaconda3\\\\\\\\lib\\\\\\\\site-packages\\\\\\\\numpy\\\\\\\\random\\\\\\\\__init__.py'>}\")\n",
      "2022-01-21 12:20:42,941:INFO:DBSMOTE: Running sampling via ('DBSMOTE', \"{'proportion': 10, 'eps': 1.2, 'min_samples': 2, 'n_jobs': 1, 'random_state': None}\")\n",
      "2022-01-21 12:20:43,187:INFO:DBSMOTE: Running sampling via ('DBSMOTE', \"{'proportion': 10, 'eps': 1.2, 'min_samples': 2, 'n_jobs': 1, 'random_state': None}\")\n",
      "2022-01-21 12:20:43,473:INFO:DBSMOTE: Running sampling via ('DBSMOTE', \"{'proportion': 10, 'eps': 1.2, 'min_samples': 2, 'n_jobs': 1, 'random_state': None}\")\n",
      "2022-01-21 12:20:43,729:INFO:DBSMOTE: Running sampling via ('DBSMOTE', \"{'proportion': 10, 'eps': 1.2, 'min_samples': 2, 'n_jobs': 1, 'random_state': None}\")\n",
      "2022-01-21 12:20:43,969:INFO:DBSMOTE: Running sampling via ('DBSMOTE', \"{'proportion': 10, 'eps': 1.2, 'min_samples': 2, 'n_jobs': 1, 'random_state': None}\")\n",
      "2022-01-21 12:20:44,177:INFO:DBSMOTE: Running sampling via ('DBSMOTE', \"{'proportion': 10, 'eps': 1.2, 'min_samples': 2, 'n_jobs': 1, 'random_state': None}\")\n",
      "2022-01-21 12:20:44,499:INFO:DBSMOTE: Running sampling via ('DBSMOTE', \"{'proportion': 10, 'eps': 1.2, 'min_samples': 2, 'n_jobs': 1, 'random_state': None}\")\n",
      "2022-01-21 12:20:44,726:INFO:DBSMOTE: Running sampling via ('DBSMOTE', \"{'proportion': 10, 'eps': 1.2, 'min_samples': 2, 'n_jobs': 1, 'random_state': None}\")\n"
     ]
    },
    {
     "name": "stderr",
     "output_type": "stream",
     "text": [
      "2022-01-21 12:20:44,967:INFO:DBSMOTE: Running sampling via ('DBSMOTE', \"{'proportion': 10, 'eps': 1.2, 'min_samples': 2, 'n_jobs': 1, 'random_state': None}\")\n",
      "2022-01-21 12:20:45,177:INFO:DBSMOTE: Running sampling via ('DBSMOTE', \"{'proportion': 10, 'eps': 1.2, 'min_samples': 2, 'n_jobs': 1, 'random_state': None}\")\n",
      "2022-01-21 12:20:45,482:INFO:DBSMOTE: Running sampling via ('DBSMOTE', \"{'proportion': 2, 'eps': 0.5, 'min_samples': 3, 'n_jobs': 1, 'random_state': None}\")\n",
      "2022-01-21 12:20:45,495:INFO:DBSMOTE: Number of clusters is 0, trying to increase eps and decrease min_samples\n",
      "2022-01-21 12:20:45,496:INFO:DBSMOTE: Running sampling via ('DBSMOTE', \"{'proportion': 2, 'eps': 0.75, 'min_samples': 2, 'n_jobs': 1, 'random_state': <module 'numpy.random' from 'C:\\\\\\\\Users\\\\\\\\oucht\\\\\\\\anaconda3\\\\\\\\lib\\\\\\\\site-packages\\\\\\\\numpy\\\\\\\\random\\\\\\\\__init__.py'>}\")\n",
      "C:\\Users\\oucht\\anaconda3\\lib\\site-packages\\sklearn\\svm\\_base.py:976: ConvergenceWarning: Liblinear failed to converge, increase the number of iterations.\n",
      "  warnings.warn(\"Liblinear failed to converge, increase \"\n",
      "2022-01-21 12:20:45,586:INFO:DBSMOTE: Running sampling via ('DBSMOTE', \"{'proportion': 2, 'eps': 0.5, 'min_samples': 3, 'n_jobs': 1, 'random_state': None}\")\n",
      "2022-01-21 12:20:45,595:INFO:DBSMOTE: Number of clusters is 0, trying to increase eps and decrease min_samples\n",
      "2022-01-21 12:20:45,595:INFO:DBSMOTE: Running sampling via ('DBSMOTE', \"{'proportion': 2, 'eps': 0.75, 'min_samples': 2, 'n_jobs': 1, 'random_state': <module 'numpy.random' from 'C:\\\\\\\\Users\\\\\\\\oucht\\\\\\\\anaconda3\\\\\\\\lib\\\\\\\\site-packages\\\\\\\\numpy\\\\\\\\random\\\\\\\\__init__.py'>}\")\n",
      "C:\\Users\\oucht\\anaconda3\\lib\\site-packages\\sklearn\\svm\\_base.py:976: ConvergenceWarning: Liblinear failed to converge, increase the number of iterations.\n",
      "  warnings.warn(\"Liblinear failed to converge, increase \"\n",
      "2022-01-21 12:20:45,702:INFO:DBSMOTE: Running sampling via ('DBSMOTE', \"{'proportion': 2, 'eps': 0.5, 'min_samples': 3, 'n_jobs': 1, 'random_state': None}\")\n",
      "2022-01-21 12:20:45,710:INFO:DBSMOTE: Number of clusters is 0, trying to increase eps and decrease min_samples\n",
      "2022-01-21 12:20:45,710:INFO:DBSMOTE: Running sampling via ('DBSMOTE', \"{'proportion': 2, 'eps': 0.75, 'min_samples': 2, 'n_jobs': 1, 'random_state': <module 'numpy.random' from 'C:\\\\\\\\Users\\\\\\\\oucht\\\\\\\\anaconda3\\\\\\\\lib\\\\\\\\site-packages\\\\\\\\numpy\\\\\\\\random\\\\\\\\__init__.py'>}\")\n",
      "C:\\Users\\oucht\\anaconda3\\lib\\site-packages\\sklearn\\svm\\_base.py:976: ConvergenceWarning: Liblinear failed to converge, increase the number of iterations.\n",
      "  warnings.warn(\"Liblinear failed to converge, increase \"\n",
      "2022-01-21 12:20:45,810:INFO:DBSMOTE: Running sampling via ('DBSMOTE', \"{'proportion': 2, 'eps': 0.5, 'min_samples': 3, 'n_jobs': 1, 'random_state': None}\")\n",
      "2022-01-21 12:20:45,812:INFO:DBSMOTE: Number of clusters is 0, trying to increase eps and decrease min_samples\n",
      "2022-01-21 12:20:45,820:INFO:DBSMOTE: Running sampling via ('DBSMOTE', \"{'proportion': 2, 'eps': 0.75, 'min_samples': 2, 'n_jobs': 1, 'random_state': <module 'numpy.random' from 'C:\\\\\\\\Users\\\\\\\\oucht\\\\\\\\anaconda3\\\\\\\\lib\\\\\\\\site-packages\\\\\\\\numpy\\\\\\\\random\\\\\\\\__init__.py'>}\")\n",
      "C:\\Users\\oucht\\anaconda3\\lib\\site-packages\\sklearn\\svm\\_base.py:976: ConvergenceWarning: Liblinear failed to converge, increase the number of iterations.\n",
      "  warnings.warn(\"Liblinear failed to converge, increase \"\n",
      "2022-01-21 12:20:45,927:INFO:DBSMOTE: Running sampling via ('DBSMOTE', \"{'proportion': 2, 'eps': 0.5, 'min_samples': 3, 'n_jobs': 1, 'random_state': None}\")\n",
      "2022-01-21 12:20:45,927:INFO:DBSMOTE: Number of clusters is 0, trying to increase eps and decrease min_samples\n",
      "2022-01-21 12:20:45,927:INFO:DBSMOTE: Running sampling via ('DBSMOTE', \"{'proportion': 2, 'eps': 0.75, 'min_samples': 2, 'n_jobs': 1, 'random_state': <module 'numpy.random' from 'C:\\\\\\\\Users\\\\\\\\oucht\\\\\\\\anaconda3\\\\\\\\lib\\\\\\\\site-packages\\\\\\\\numpy\\\\\\\\random\\\\\\\\__init__.py'>}\")\n",
      "C:\\Users\\oucht\\anaconda3\\lib\\site-packages\\sklearn\\svm\\_base.py:976: ConvergenceWarning: Liblinear failed to converge, increase the number of iterations.\n",
      "  warnings.warn(\"Liblinear failed to converge, increase \"\n",
      "2022-01-21 12:20:46,055:INFO:DBSMOTE: Running sampling via ('DBSMOTE', \"{'proportion': 2, 'eps': 0.5, 'min_samples': 3, 'n_jobs': 1, 'random_state': None}\")\n",
      "2022-01-21 12:20:46,066:INFO:DBSMOTE: Number of clusters is 0, trying to increase eps and decrease min_samples\n",
      "2022-01-21 12:20:46,066:INFO:DBSMOTE: Running sampling via ('DBSMOTE', \"{'proportion': 2, 'eps': 0.75, 'min_samples': 2, 'n_jobs': 1, 'random_state': <module 'numpy.random' from 'C:\\\\\\\\Users\\\\\\\\oucht\\\\\\\\anaconda3\\\\\\\\lib\\\\\\\\site-packages\\\\\\\\numpy\\\\\\\\random\\\\\\\\__init__.py'>}\")\n",
      "C:\\Users\\oucht\\anaconda3\\lib\\site-packages\\sklearn\\svm\\_base.py:976: ConvergenceWarning: Liblinear failed to converge, increase the number of iterations.\n",
      "  warnings.warn(\"Liblinear failed to converge, increase \"\n",
      "2022-01-21 12:20:46,156:INFO:DBSMOTE: Running sampling via ('DBSMOTE', \"{'proportion': 2, 'eps': 0.5, 'min_samples': 3, 'n_jobs': 1, 'random_state': None}\")\n",
      "2022-01-21 12:20:46,164:INFO:DBSMOTE: Number of clusters is 0, trying to increase eps and decrease min_samples\n",
      "2022-01-21 12:20:46,172:INFO:DBSMOTE: Running sampling via ('DBSMOTE', \"{'proportion': 2, 'eps': 0.75, 'min_samples': 2, 'n_jobs': 1, 'random_state': <module 'numpy.random' from 'C:\\\\\\\\Users\\\\\\\\oucht\\\\\\\\anaconda3\\\\\\\\lib\\\\\\\\site-packages\\\\\\\\numpy\\\\\\\\random\\\\\\\\__init__.py'>}\")\n",
      "C:\\Users\\oucht\\anaconda3\\lib\\site-packages\\sklearn\\svm\\_base.py:976: ConvergenceWarning: Liblinear failed to converge, increase the number of iterations.\n",
      "  warnings.warn(\"Liblinear failed to converge, increase \"\n",
      "2022-01-21 12:20:46,265:INFO:DBSMOTE: Running sampling via ('DBSMOTE', \"{'proportion': 2, 'eps': 0.5, 'min_samples': 3, 'n_jobs': 1, 'random_state': None}\")\n",
      "2022-01-21 12:20:46,273:INFO:DBSMOTE: Number of clusters is 0, trying to increase eps and decrease min_samples\n",
      "2022-01-21 12:20:46,273:INFO:DBSMOTE: Running sampling via ('DBSMOTE', \"{'proportion': 2, 'eps': 0.75, 'min_samples': 2, 'n_jobs': 1, 'random_state': <module 'numpy.random' from 'C:\\\\\\\\Users\\\\\\\\oucht\\\\\\\\anaconda3\\\\\\\\lib\\\\\\\\site-packages\\\\\\\\numpy\\\\\\\\random\\\\\\\\__init__.py'>}\")\n",
      "C:\\Users\\oucht\\anaconda3\\lib\\site-packages\\sklearn\\svm\\_base.py:976: ConvergenceWarning: Liblinear failed to converge, increase the number of iterations.\n",
      "  warnings.warn(\"Liblinear failed to converge, increase \"\n",
      "2022-01-21 12:20:46,352:INFO:DBSMOTE: Running sampling via ('DBSMOTE', \"{'proportion': 2, 'eps': 0.5, 'min_samples': 3, 'n_jobs': 1, 'random_state': None}\")\n",
      "2022-01-21 12:20:46,360:INFO:DBSMOTE: Number of clusters is 0, trying to increase eps and decrease min_samples\n",
      "2022-01-21 12:20:46,360:INFO:DBSMOTE: Running sampling via ('DBSMOTE', \"{'proportion': 2, 'eps': 0.75, 'min_samples': 2, 'n_jobs': 1, 'random_state': <module 'numpy.random' from 'C:\\\\\\\\Users\\\\\\\\oucht\\\\\\\\anaconda3\\\\\\\\lib\\\\\\\\site-packages\\\\\\\\numpy\\\\\\\\random\\\\\\\\__init__.py'>}\")\n",
      "C:\\Users\\oucht\\anaconda3\\lib\\site-packages\\sklearn\\svm\\_base.py:976: ConvergenceWarning: Liblinear failed to converge, increase the number of iterations.\n",
      "  warnings.warn(\"Liblinear failed to converge, increase \"\n",
      "2022-01-21 12:20:46,465:INFO:DBSMOTE: Running sampling via ('DBSMOTE', \"{'proportion': 2, 'eps': 0.5, 'min_samples': 3, 'n_jobs': 1, 'random_state': None}\")\n",
      "2022-01-21 12:20:46,473:INFO:DBSMOTE: Number of clusters is 0, trying to increase eps and decrease min_samples\n",
      "2022-01-21 12:20:46,473:INFO:DBSMOTE: Running sampling via ('DBSMOTE', \"{'proportion': 2, 'eps': 0.75, 'min_samples': 2, 'n_jobs': 1, 'random_state': <module 'numpy.random' from 'C:\\\\\\\\Users\\\\\\\\oucht\\\\\\\\anaconda3\\\\\\\\lib\\\\\\\\site-packages\\\\\\\\numpy\\\\\\\\random\\\\\\\\__init__.py'>}\")\n",
      "C:\\Users\\oucht\\anaconda3\\lib\\site-packages\\sklearn\\svm\\_base.py:976: ConvergenceWarning: Liblinear failed to converge, increase the number of iterations.\n",
      "  warnings.warn(\"Liblinear failed to converge, increase \"\n",
      "2022-01-21 12:20:46,588:INFO:DBSMOTE: Running sampling via ('DBSMOTE', \"{'proportion': 5, 'eps': 0.5, 'min_samples': 1, 'n_jobs': 1, 'random_state': None}\")\n"
     ]
    },
    {
     "name": "stdout",
     "output_type": "stream",
     "text": [
      "yeast4\n"
     ]
    },
    {
     "name": "stderr",
     "output_type": "stream",
     "text": [
      "2022-01-21 12:20:49,823:INFO:DBSMOTE: Running sampling via ('DBSMOTE', \"{'proportion': 5, 'eps': 0.5, 'min_samples': 1, 'n_jobs': 1, 'random_state': None}\")\n",
      "2022-01-21 12:20:52,615:INFO:DBSMOTE: Running sampling via ('DBSMOTE', \"{'proportion': 5, 'eps': 0.5, 'min_samples': 1, 'n_jobs': 1, 'random_state': None}\")\n",
      "2022-01-21 12:20:55,401:INFO:DBSMOTE: Running sampling via ('DBSMOTE', \"{'proportion': 5, 'eps': 0.5, 'min_samples': 1, 'n_jobs': 1, 'random_state': None}\")\n",
      "2022-01-21 12:20:58,334:INFO:DBSMOTE: Running sampling via ('DBSMOTE', \"{'proportion': 5, 'eps': 0.5, 'min_samples': 1, 'n_jobs': 1, 'random_state': None}\")\n",
      "2022-01-21 12:21:01,458:INFO:DBSMOTE: Running sampling via ('DBSMOTE', \"{'proportion': 5, 'eps': 0.5, 'min_samples': 1, 'n_jobs': 1, 'random_state': None}\")\n",
      "2022-01-21 12:21:04,980:INFO:DBSMOTE: Running sampling via ('DBSMOTE', \"{'proportion': 5, 'eps': 0.5, 'min_samples': 1, 'n_jobs': 1, 'random_state': None}\")\n",
      "2022-01-21 12:21:08,268:INFO:DBSMOTE: Running sampling via ('DBSMOTE', \"{'proportion': 5, 'eps': 0.5, 'min_samples': 1, 'n_jobs': 1, 'random_state': None}\")\n",
      "2022-01-21 12:21:11,795:INFO:DBSMOTE: Running sampling via ('DBSMOTE', \"{'proportion': 5, 'eps': 0.5, 'min_samples': 1, 'n_jobs': 1, 'random_state': None}\")\n",
      "2022-01-21 12:21:15,475:INFO:DBSMOTE: Running sampling via ('DBSMOTE', \"{'proportion': 5, 'eps': 0.5, 'min_samples': 1, 'n_jobs': 1, 'random_state': None}\")\n",
      "2022-01-21 12:21:18,404:INFO:DBSMOTE: Running sampling via ('DBSMOTE', \"{'proportion': 10, 'eps': 0.8, 'min_samples': 1, 'n_jobs': 1, 'random_state': None}\")\n",
      "2022-01-21 12:21:20,592:INFO:DBSMOTE: Running sampling via ('DBSMOTE', \"{'proportion': 10, 'eps': 0.8, 'min_samples': 1, 'n_jobs': 1, 'random_state': None}\")\n",
      "2022-01-21 12:21:22,834:INFO:DBSMOTE: Running sampling via ('DBSMOTE', \"{'proportion': 10, 'eps': 0.8, 'min_samples': 1, 'n_jobs': 1, 'random_state': None}\")\n",
      "2022-01-21 12:21:25,127:INFO:DBSMOTE: Running sampling via ('DBSMOTE', \"{'proportion': 10, 'eps': 0.8, 'min_samples': 1, 'n_jobs': 1, 'random_state': None}\")\n",
      "2022-01-21 12:21:27,325:INFO:DBSMOTE: Running sampling via ('DBSMOTE', \"{'proportion': 10, 'eps': 0.8, 'min_samples': 1, 'n_jobs': 1, 'random_state': None}\")\n",
      "2022-01-21 12:21:29,650:INFO:DBSMOTE: Running sampling via ('DBSMOTE', \"{'proportion': 10, 'eps': 0.8, 'min_samples': 1, 'n_jobs': 1, 'random_state': None}\")\n",
      "2022-01-21 12:21:32,082:INFO:DBSMOTE: Running sampling via ('DBSMOTE', \"{'proportion': 10, 'eps': 0.8, 'min_samples': 1, 'n_jobs': 1, 'random_state': None}\")\n",
      "2022-01-21 12:21:34,942:INFO:DBSMOTE: Running sampling via ('DBSMOTE', \"{'proportion': 10, 'eps': 0.8, 'min_samples': 1, 'n_jobs': 1, 'random_state': None}\")\n",
      "2022-01-21 12:21:37,424:INFO:DBSMOTE: Running sampling via ('DBSMOTE', \"{'proportion': 10, 'eps': 0.8, 'min_samples': 1, 'n_jobs': 1, 'random_state': None}\")\n",
      "2022-01-21 12:21:39,678:INFO:DBSMOTE: Running sampling via ('DBSMOTE', \"{'proportion': 10, 'eps': 0.8, 'min_samples': 1, 'n_jobs': 1, 'random_state': None}\")\n",
      "2022-01-21 12:21:42,151:INFO:DBSMOTE: Running sampling via ('DBSMOTE', \"{'proportion': 10, 'eps': 0.5, 'min_samples': 3, 'n_jobs': 1, 'random_state': None}\")\n",
      "2022-01-21 12:21:43,697:INFO:DBSMOTE: Running sampling via ('DBSMOTE', \"{'proportion': 10, 'eps': 0.5, 'min_samples': 3, 'n_jobs': 1, 'random_state': None}\")\n",
      "2022-01-21 12:21:43,697:INFO:DBSMOTE: Number of clusters is 0, trying to increase eps and decrease min_samples\n",
      "2022-01-21 12:21:43,705:INFO:DBSMOTE: Running sampling via ('DBSMOTE', \"{'proportion': 10, 'eps': 0.75, 'min_samples': 2, 'n_jobs': 1, 'random_state': <module 'numpy.random' from 'C:\\\\\\\\Users\\\\\\\\oucht\\\\\\\\anaconda3\\\\\\\\lib\\\\\\\\site-packages\\\\\\\\numpy\\\\\\\\random\\\\\\\\__init__.py'>}\")\n",
      "2022-01-21 12:21:45,245:INFO:DBSMOTE: Running sampling via ('DBSMOTE', \"{'proportion': 10, 'eps': 0.5, 'min_samples': 3, 'n_jobs': 1, 'random_state': None}\")\n",
      "2022-01-21 12:21:46,482:INFO:DBSMOTE: Running sampling via ('DBSMOTE', \"{'proportion': 10, 'eps': 0.5, 'min_samples': 3, 'n_jobs': 1, 'random_state': None}\")\n",
      "2022-01-21 12:21:46,482:INFO:DBSMOTE: Number of clusters is 0, trying to increase eps and decrease min_samples\n",
      "2022-01-21 12:21:46,491:INFO:DBSMOTE: Running sampling via ('DBSMOTE', \"{'proportion': 10, 'eps': 0.75, 'min_samples': 2, 'n_jobs': 1, 'random_state': <module 'numpy.random' from 'C:\\\\\\\\Users\\\\\\\\oucht\\\\\\\\anaconda3\\\\\\\\lib\\\\\\\\site-packages\\\\\\\\numpy\\\\\\\\random\\\\\\\\__init__.py'>}\")\n",
      "2022-01-21 12:21:48,080:INFO:DBSMOTE: Running sampling via ('DBSMOTE', \"{'proportion': 10, 'eps': 0.5, 'min_samples': 3, 'n_jobs': 1, 'random_state': None}\")\n",
      "2022-01-21 12:21:49,486:INFO:DBSMOTE: Running sampling via ('DBSMOTE', \"{'proportion': 10, 'eps': 0.5, 'min_samples': 3, 'n_jobs': 1, 'random_state': None}\")\n",
      "2022-01-21 12:21:49,496:INFO:DBSMOTE: Number of clusters is 0, trying to increase eps and decrease min_samples\n",
      "2022-01-21 12:21:49,496:INFO:DBSMOTE: Running sampling via ('DBSMOTE', \"{'proportion': 10, 'eps': 0.75, 'min_samples': 2, 'n_jobs': 1, 'random_state': <module 'numpy.random' from 'C:\\\\\\\\Users\\\\\\\\oucht\\\\\\\\anaconda3\\\\\\\\lib\\\\\\\\site-packages\\\\\\\\numpy\\\\\\\\random\\\\\\\\__init__.py'>}\")\n",
      "2022-01-21 12:21:51,068:INFO:DBSMOTE: Running sampling via ('DBSMOTE', \"{'proportion': 10, 'eps': 0.5, 'min_samples': 3, 'n_jobs': 1, 'random_state': None}\")\n",
      "2022-01-21 12:21:51,076:INFO:DBSMOTE: Number of clusters is 0, trying to increase eps and decrease min_samples\n",
      "2022-01-21 12:21:51,076:INFO:DBSMOTE: Running sampling via ('DBSMOTE', \"{'proportion': 10, 'eps': 0.75, 'min_samples': 2, 'n_jobs': 1, 'random_state': <module 'numpy.random' from 'C:\\\\\\\\Users\\\\\\\\oucht\\\\\\\\anaconda3\\\\\\\\lib\\\\\\\\site-packages\\\\\\\\numpy\\\\\\\\random\\\\\\\\__init__.py'>}\")\n",
      "2022-01-21 12:21:52,818:INFO:DBSMOTE: Running sampling via ('DBSMOTE', \"{'proportion': 10, 'eps': 0.5, 'min_samples': 3, 'n_jobs': 1, 'random_state': None}\")\n",
      "2022-01-21 12:21:52,828:INFO:DBSMOTE: Number of clusters is 0, trying to increase eps and decrease min_samples\n",
      "2022-01-21 12:21:52,828:INFO:DBSMOTE: Running sampling via ('DBSMOTE', \"{'proportion': 10, 'eps': 0.75, 'min_samples': 2, 'n_jobs': 1, 'random_state': <module 'numpy.random' from 'C:\\\\\\\\Users\\\\\\\\oucht\\\\\\\\anaconda3\\\\\\\\lib\\\\\\\\site-packages\\\\\\\\numpy\\\\\\\\random\\\\\\\\__init__.py'>}\")\n",
      "2022-01-21 12:21:54,555:INFO:DBSMOTE: Running sampling via ('DBSMOTE', \"{'proportion': 10, 'eps': 0.5, 'min_samples': 3, 'n_jobs': 1, 'random_state': None}\")\n",
      "2022-01-21 12:21:56,380:INFO:DBSMOTE: Running sampling via ('DBSMOTE', \"{'proportion': 10, 'eps': 0.5, 'min_samples': 3, 'n_jobs': 1, 'random_state': None}\")\n",
      "2022-01-21 12:21:56,380:INFO:DBSMOTE: Number of clusters is 0, trying to increase eps and decrease min_samples\n",
      "2022-01-21 12:21:56,380:INFO:DBSMOTE: Running sampling via ('DBSMOTE', \"{'proportion': 10, 'eps': 0.75, 'min_samples': 2, 'n_jobs': 1, 'random_state': <module 'numpy.random' from 'C:\\\\\\\\Users\\\\\\\\oucht\\\\\\\\anaconda3\\\\\\\\lib\\\\\\\\site-packages\\\\\\\\numpy\\\\\\\\random\\\\\\\\__init__.py'>}\")\n",
      "2022-01-21 12:21:57,995:INFO:DBSMOTE: Running sampling via ('DBSMOTE', \"{'proportion': 10, 'eps': 1.2, 'min_samples': 5, 'n_jobs': 1, 'random_state': None}\")\n",
      "2022-01-21 12:21:59,555:INFO:DBSMOTE: Running sampling via ('DBSMOTE', \"{'proportion': 10, 'eps': 1.2, 'min_samples': 5, 'n_jobs': 1, 'random_state': None}\")\n",
      "2022-01-21 12:22:01,097:INFO:DBSMOTE: Running sampling via ('DBSMOTE', \"{'proportion': 10, 'eps': 1.2, 'min_samples': 5, 'n_jobs': 1, 'random_state': None}\")\n",
      "2022-01-21 12:22:02,758:INFO:DBSMOTE: Running sampling via ('DBSMOTE', \"{'proportion': 10, 'eps': 1.2, 'min_samples': 5, 'n_jobs': 1, 'random_state': None}\")\n",
      "2022-01-21 12:22:04,385:INFO:DBSMOTE: Running sampling via ('DBSMOTE', \"{'proportion': 10, 'eps': 1.2, 'min_samples': 5, 'n_jobs': 1, 'random_state': None}\")\n",
      "2022-01-21 12:22:05,975:INFO:DBSMOTE: Running sampling via ('DBSMOTE', \"{'proportion': 10, 'eps': 1.2, 'min_samples': 5, 'n_jobs': 1, 'random_state': None}\")\n",
      "2022-01-21 12:22:07,590:INFO:DBSMOTE: Running sampling via ('DBSMOTE', \"{'proportion': 10, 'eps': 1.2, 'min_samples': 5, 'n_jobs': 1, 'random_state': None}\")\n",
      "2022-01-21 12:22:09,029:INFO:DBSMOTE: Running sampling via ('DBSMOTE', \"{'proportion': 10, 'eps': 1.2, 'min_samples': 5, 'n_jobs': 1, 'random_state': None}\")\n",
      "2022-01-21 12:22:10,625:INFO:DBSMOTE: Running sampling via ('DBSMOTE', \"{'proportion': 10, 'eps': 1.2, 'min_samples': 5, 'n_jobs': 1, 'random_state': None}\")\n"
     ]
    },
    {
     "name": "stderr",
     "output_type": "stream",
     "text": [
      "2022-01-21 12:22:12,553:INFO:DBSMOTE: Running sampling via ('DBSMOTE', \"{'proportion': 10, 'eps': 1.2, 'min_samples': 5, 'n_jobs': 1, 'random_state': None}\")\n",
      "2022-01-21 12:22:14,175:INFO:DBSMOTE: Running sampling via ('DBSMOTE', \"{'proportion': 1, 'eps': 1.0, 'min_samples': 2, 'n_jobs': 1, 'random_state': None}\")\n"
     ]
    },
    {
     "name": "stdout",
     "output_type": "stream",
     "text": [
      "vehicle1\n"
     ]
    },
    {
     "name": "stderr",
     "output_type": "stream",
     "text": [
      "2022-01-21 12:22:14,708:INFO:DBSMOTE: Running sampling via ('DBSMOTE', \"{'proportion': 1, 'eps': 1.0, 'min_samples': 2, 'n_jobs': 1, 'random_state': None}\")\n",
      "2022-01-21 12:22:15,210:INFO:DBSMOTE: Running sampling via ('DBSMOTE', \"{'proportion': 1, 'eps': 1.0, 'min_samples': 2, 'n_jobs': 1, 'random_state': None}\")\n",
      "2022-01-21 12:22:15,723:INFO:DBSMOTE: Running sampling via ('DBSMOTE', \"{'proportion': 1, 'eps': 1.0, 'min_samples': 2, 'n_jobs': 1, 'random_state': None}\")\n",
      "2022-01-21 12:22:16,130:INFO:DBSMOTE: Running sampling via ('DBSMOTE', \"{'proportion': 1, 'eps': 1.0, 'min_samples': 2, 'n_jobs': 1, 'random_state': None}\")\n",
      "2022-01-21 12:22:16,649:INFO:DBSMOTE: Running sampling via ('DBSMOTE', \"{'proportion': 1, 'eps': 1.0, 'min_samples': 2, 'n_jobs': 1, 'random_state': None}\")\n",
      "2022-01-21 12:22:17,106:INFO:DBSMOTE: Running sampling via ('DBSMOTE', \"{'proportion': 1, 'eps': 1.0, 'min_samples': 2, 'n_jobs': 1, 'random_state': None}\")\n",
      "2022-01-21 12:22:17,617:INFO:DBSMOTE: Running sampling via ('DBSMOTE', \"{'proportion': 1, 'eps': 1.0, 'min_samples': 2, 'n_jobs': 1, 'random_state': None}\")\n",
      "2022-01-21 12:22:18,098:INFO:DBSMOTE: Running sampling via ('DBSMOTE', \"{'proportion': 1, 'eps': 1.0, 'min_samples': 2, 'n_jobs': 1, 'random_state': None}\")\n",
      "2022-01-21 12:22:18,461:INFO:DBSMOTE: Running sampling via ('DBSMOTE', \"{'proportion': 1, 'eps': 1.0, 'min_samples': 2, 'n_jobs': 1, 'random_state': None}\")\n",
      "2022-01-21 12:22:18,858:INFO:DBSMOTE: Running sampling via ('DBSMOTE', \"{'proportion': 1, 'eps': 1.2, 'min_samples': 5, 'n_jobs': 1, 'random_state': None}\")\n",
      "2022-01-21 12:22:18,866:INFO:DBSMOTE: Number of clusters is 0, trying to increase eps and decrease min_samples\n",
      "2022-01-21 12:22:18,866:INFO:DBSMOTE: Running sampling via ('DBSMOTE', \"{'proportion': 1, 'eps': 1.7999999999999998, 'min_samples': 4, 'n_jobs': 1, 'random_state': <module 'numpy.random' from 'C:\\\\\\\\Users\\\\\\\\oucht\\\\\\\\anaconda3\\\\\\\\lib\\\\\\\\site-packages\\\\\\\\numpy\\\\\\\\random\\\\\\\\__init__.py'>}\")\n",
      "2022-01-21 12:22:19,129:INFO:DBSMOTE: Running sampling via ('DBSMOTE', \"{'proportion': 1, 'eps': 1.2, 'min_samples': 5, 'n_jobs': 1, 'random_state': None}\")\n",
      "2022-01-21 12:22:19,137:INFO:DBSMOTE: Number of clusters is 0, trying to increase eps and decrease min_samples\n",
      "2022-01-21 12:22:19,145:INFO:DBSMOTE: Running sampling via ('DBSMOTE', \"{'proportion': 1, 'eps': 1.7999999999999998, 'min_samples': 4, 'n_jobs': 1, 'random_state': <module 'numpy.random' from 'C:\\\\\\\\Users\\\\\\\\oucht\\\\\\\\anaconda3\\\\\\\\lib\\\\\\\\site-packages\\\\\\\\numpy\\\\\\\\random\\\\\\\\__init__.py'>}\")\n",
      "2022-01-21 12:22:19,398:INFO:DBSMOTE: Running sampling via ('DBSMOTE', \"{'proportion': 1, 'eps': 1.2, 'min_samples': 5, 'n_jobs': 1, 'random_state': None}\")\n",
      "2022-01-21 12:22:19,414:INFO:DBSMOTE: Number of clusters is 0, trying to increase eps and decrease min_samples\n",
      "2022-01-21 12:22:19,414:INFO:DBSMOTE: Running sampling via ('DBSMOTE', \"{'proportion': 1, 'eps': 1.7999999999999998, 'min_samples': 4, 'n_jobs': 1, 'random_state': <module 'numpy.random' from 'C:\\\\\\\\Users\\\\\\\\oucht\\\\\\\\anaconda3\\\\\\\\lib\\\\\\\\site-packages\\\\\\\\numpy\\\\\\\\random\\\\\\\\__init__.py'>}\")\n",
      "2022-01-21 12:22:19,764:INFO:DBSMOTE: Running sampling via ('DBSMOTE', \"{'proportion': 1, 'eps': 1.2, 'min_samples': 5, 'n_jobs': 1, 'random_state': None}\")\n",
      "2022-01-21 12:22:19,772:INFO:DBSMOTE: Number of clusters is 0, trying to increase eps and decrease min_samples\n",
      "2022-01-21 12:22:19,780:INFO:DBSMOTE: Running sampling via ('DBSMOTE', \"{'proportion': 1, 'eps': 1.7999999999999998, 'min_samples': 4, 'n_jobs': 1, 'random_state': <module 'numpy.random' from 'C:\\\\\\\\Users\\\\\\\\oucht\\\\\\\\anaconda3\\\\\\\\lib\\\\\\\\site-packages\\\\\\\\numpy\\\\\\\\random\\\\\\\\__init__.py'>}\")\n",
      "2022-01-21 12:22:19,986:INFO:DBSMOTE: Running sampling via ('DBSMOTE', \"{'proportion': 1, 'eps': 1.2, 'min_samples': 5, 'n_jobs': 1, 'random_state': None}\")\n",
      "2022-01-21 12:22:19,997:INFO:DBSMOTE: Number of clusters is 0, trying to increase eps and decrease min_samples\n",
      "2022-01-21 12:22:19,997:INFO:DBSMOTE: Running sampling via ('DBSMOTE', \"{'proportion': 1, 'eps': 1.7999999999999998, 'min_samples': 4, 'n_jobs': 1, 'random_state': <module 'numpy.random' from 'C:\\\\\\\\Users\\\\\\\\oucht\\\\\\\\anaconda3\\\\\\\\lib\\\\\\\\site-packages\\\\\\\\numpy\\\\\\\\random\\\\\\\\__init__.py'>}\")\n",
      "2022-01-21 12:22:20,285:INFO:DBSMOTE: Running sampling via ('DBSMOTE', \"{'proportion': 1, 'eps': 1.2, 'min_samples': 5, 'n_jobs': 1, 'random_state': None}\")\n",
      "2022-01-21 12:22:20,295:INFO:DBSMOTE: Number of clusters is 0, trying to increase eps and decrease min_samples\n",
      "2022-01-21 12:22:20,295:INFO:DBSMOTE: Running sampling via ('DBSMOTE', \"{'proportion': 1, 'eps': 1.7999999999999998, 'min_samples': 4, 'n_jobs': 1, 'random_state': <module 'numpy.random' from 'C:\\\\\\\\Users\\\\\\\\oucht\\\\\\\\anaconda3\\\\\\\\lib\\\\\\\\site-packages\\\\\\\\numpy\\\\\\\\random\\\\\\\\__init__.py'>}\")\n",
      "2022-01-21 12:22:20,551:INFO:DBSMOTE: Running sampling via ('DBSMOTE', \"{'proportion': 1, 'eps': 1.2, 'min_samples': 5, 'n_jobs': 1, 'random_state': None}\")\n",
      "2022-01-21 12:22:20,570:INFO:DBSMOTE: Number of clusters is 0, trying to increase eps and decrease min_samples\n",
      "2022-01-21 12:22:20,570:INFO:DBSMOTE: Running sampling via ('DBSMOTE', \"{'proportion': 1, 'eps': 1.7999999999999998, 'min_samples': 4, 'n_jobs': 1, 'random_state': <module 'numpy.random' from 'C:\\\\\\\\Users\\\\\\\\oucht\\\\\\\\anaconda3\\\\\\\\lib\\\\\\\\site-packages\\\\\\\\numpy\\\\\\\\random\\\\\\\\__init__.py'>}\")\n",
      "2022-01-21 12:22:20,913:INFO:DBSMOTE: Running sampling via ('DBSMOTE', \"{'proportion': 1, 'eps': 1.2, 'min_samples': 5, 'n_jobs': 1, 'random_state': None}\")\n",
      "2022-01-21 12:22:20,921:INFO:DBSMOTE: Number of clusters is 0, trying to increase eps and decrease min_samples\n",
      "2022-01-21 12:22:20,921:INFO:DBSMOTE: Running sampling via ('DBSMOTE', \"{'proportion': 1, 'eps': 1.7999999999999998, 'min_samples': 4, 'n_jobs': 1, 'random_state': <module 'numpy.random' from 'C:\\\\\\\\Users\\\\\\\\oucht\\\\\\\\anaconda3\\\\\\\\lib\\\\\\\\site-packages\\\\\\\\numpy\\\\\\\\random\\\\\\\\__init__.py'>}\")\n",
      "2022-01-21 12:22:21,181:INFO:DBSMOTE: Running sampling via ('DBSMOTE', \"{'proportion': 1, 'eps': 1.2, 'min_samples': 5, 'n_jobs': 1, 'random_state': None}\")\n",
      "2022-01-21 12:22:21,181:INFO:DBSMOTE: Number of clusters is 0, trying to increase eps and decrease min_samples\n",
      "2022-01-21 12:22:21,181:INFO:DBSMOTE: Running sampling via ('DBSMOTE', \"{'proportion': 1, 'eps': 1.7999999999999998, 'min_samples': 4, 'n_jobs': 1, 'random_state': <module 'numpy.random' from 'C:\\\\\\\\Users\\\\\\\\oucht\\\\\\\\anaconda3\\\\\\\\lib\\\\\\\\site-packages\\\\\\\\numpy\\\\\\\\random\\\\\\\\__init__.py'>}\")\n",
      "2022-01-21 12:22:21,500:INFO:DBSMOTE: Running sampling via ('DBSMOTE', \"{'proportion': 1, 'eps': 1.2, 'min_samples': 5, 'n_jobs': 1, 'random_state': None}\")\n",
      "2022-01-21 12:22:21,511:INFO:DBSMOTE: Number of clusters is 0, trying to increase eps and decrease min_samples\n",
      "2022-01-21 12:22:21,511:INFO:DBSMOTE: Running sampling via ('DBSMOTE', \"{'proportion': 1, 'eps': 1.7999999999999998, 'min_samples': 4, 'n_jobs': 1, 'random_state': <module 'numpy.random' from 'C:\\\\\\\\Users\\\\\\\\oucht\\\\\\\\anaconda3\\\\\\\\lib\\\\\\\\site-packages\\\\\\\\numpy\\\\\\\\random\\\\\\\\__init__.py'>}\")\n",
      "2022-01-21 12:22:21,785:INFO:DBSMOTE: Running sampling via ('DBSMOTE', \"{'proportion': 5, 'eps': 0.5, 'min_samples': 1, 'n_jobs': 1, 'random_state': None}\")\n",
      "2022-01-21 12:22:22,343:INFO:DBSMOTE: Running sampling via ('DBSMOTE', \"{'proportion': 5, 'eps': 0.5, 'min_samples': 1, 'n_jobs': 1, 'random_state': None}\")\n",
      "2022-01-21 12:22:22,834:INFO:DBSMOTE: Running sampling via ('DBSMOTE', \"{'proportion': 5, 'eps': 0.5, 'min_samples': 1, 'n_jobs': 1, 'random_state': None}\")\n",
      "2022-01-21 12:22:23,270:INFO:DBSMOTE: Running sampling via ('DBSMOTE', \"{'proportion': 5, 'eps': 0.5, 'min_samples': 1, 'n_jobs': 1, 'random_state': None}\")\n",
      "2022-01-21 12:22:23,800:INFO:DBSMOTE: Running sampling via ('DBSMOTE', \"{'proportion': 5, 'eps': 0.5, 'min_samples': 1, 'n_jobs': 1, 'random_state': None}\")\n",
      "2022-01-21 12:22:24,220:INFO:DBSMOTE: Running sampling via ('DBSMOTE', \"{'proportion': 5, 'eps': 0.5, 'min_samples': 1, 'n_jobs': 1, 'random_state': None}\")\n",
      "2022-01-21 12:22:24,647:INFO:DBSMOTE: Running sampling via ('DBSMOTE', \"{'proportion': 5, 'eps': 0.5, 'min_samples': 1, 'n_jobs': 1, 'random_state': None}\")\n",
      "2022-01-21 12:22:25,080:INFO:DBSMOTE: Running sampling via ('DBSMOTE', \"{'proportion': 5, 'eps': 0.5, 'min_samples': 1, 'n_jobs': 1, 'random_state': None}\")\n"
     ]
    },
    {
     "name": "stderr",
     "output_type": "stream",
     "text": [
      "2022-01-21 12:22:25,569:INFO:DBSMOTE: Running sampling via ('DBSMOTE', \"{'proportion': 5, 'eps': 0.5, 'min_samples': 1, 'n_jobs': 1, 'random_state': None}\")\n",
      "2022-01-21 12:22:26,105:INFO:DBSMOTE: Running sampling via ('DBSMOTE', \"{'proportion': 5, 'eps': 0.5, 'min_samples': 1, 'n_jobs': 1, 'random_state': None}\")\n",
      "2022-01-21 12:22:26,584:INFO:DBSMOTE: Running sampling via ('DBSMOTE', \"{'proportion': 5, 'eps': 1.0, 'min_samples': 1, 'n_jobs': 1, 'random_state': None}\")\n",
      "C:\\Users\\oucht\\anaconda3\\lib\\site-packages\\sklearn\\svm\\_base.py:976: ConvergenceWarning: Liblinear failed to converge, increase the number of iterations.\n",
      "  warnings.warn(\"Liblinear failed to converge, increase \"\n",
      "2022-01-21 12:22:27,250:INFO:DBSMOTE: Running sampling via ('DBSMOTE', \"{'proportion': 5, 'eps': 1.0, 'min_samples': 1, 'n_jobs': 1, 'random_state': None}\")\n",
      "C:\\Users\\oucht\\anaconda3\\lib\\site-packages\\sklearn\\svm\\_base.py:976: ConvergenceWarning: Liblinear failed to converge, increase the number of iterations.\n",
      "  warnings.warn(\"Liblinear failed to converge, increase \"\n",
      "2022-01-21 12:22:27,950:INFO:DBSMOTE: Running sampling via ('DBSMOTE', \"{'proportion': 5, 'eps': 1.0, 'min_samples': 1, 'n_jobs': 1, 'random_state': None}\")\n",
      "C:\\Users\\oucht\\anaconda3\\lib\\site-packages\\sklearn\\svm\\_base.py:976: ConvergenceWarning: Liblinear failed to converge, increase the number of iterations.\n",
      "  warnings.warn(\"Liblinear failed to converge, increase \"\n",
      "2022-01-21 12:22:28,663:INFO:DBSMOTE: Running sampling via ('DBSMOTE', \"{'proportion': 5, 'eps': 1.0, 'min_samples': 1, 'n_jobs': 1, 'random_state': None}\")\n",
      "C:\\Users\\oucht\\anaconda3\\lib\\site-packages\\sklearn\\svm\\_base.py:976: ConvergenceWarning: Liblinear failed to converge, increase the number of iterations.\n",
      "  warnings.warn(\"Liblinear failed to converge, increase \"\n",
      "2022-01-21 12:22:29,433:INFO:DBSMOTE: Running sampling via ('DBSMOTE', \"{'proportion': 5, 'eps': 1.0, 'min_samples': 1, 'n_jobs': 1, 'random_state': None}\")\n",
      "C:\\Users\\oucht\\anaconda3\\lib\\site-packages\\sklearn\\svm\\_base.py:976: ConvergenceWarning: Liblinear failed to converge, increase the number of iterations.\n",
      "  warnings.warn(\"Liblinear failed to converge, increase \"\n",
      "2022-01-21 12:22:29,985:INFO:DBSMOTE: Running sampling via ('DBSMOTE', \"{'proportion': 5, 'eps': 1.0, 'min_samples': 1, 'n_jobs': 1, 'random_state': None}\")\n",
      "C:\\Users\\oucht\\anaconda3\\lib\\site-packages\\sklearn\\svm\\_base.py:976: ConvergenceWarning: Liblinear failed to converge, increase the number of iterations.\n",
      "  warnings.warn(\"Liblinear failed to converge, increase \"\n",
      "2022-01-21 12:22:30,715:INFO:DBSMOTE: Running sampling via ('DBSMOTE', \"{'proportion': 5, 'eps': 1.0, 'min_samples': 1, 'n_jobs': 1, 'random_state': None}\")\n",
      "C:\\Users\\oucht\\anaconda3\\lib\\site-packages\\sklearn\\svm\\_base.py:976: ConvergenceWarning: Liblinear failed to converge, increase the number of iterations.\n",
      "  warnings.warn(\"Liblinear failed to converge, increase \"\n",
      "2022-01-21 12:22:31,281:INFO:DBSMOTE: Running sampling via ('DBSMOTE', \"{'proportion': 5, 'eps': 1.0, 'min_samples': 1, 'n_jobs': 1, 'random_state': None}\")\n",
      "C:\\Users\\oucht\\anaconda3\\lib\\site-packages\\sklearn\\svm\\_base.py:976: ConvergenceWarning: Liblinear failed to converge, increase the number of iterations.\n",
      "  warnings.warn(\"Liblinear failed to converge, increase \"\n",
      "2022-01-21 12:22:31,968:INFO:DBSMOTE: Running sampling via ('DBSMOTE', \"{'proportion': 5, 'eps': 1.0, 'min_samples': 1, 'n_jobs': 1, 'random_state': None}\")\n",
      "C:\\Users\\oucht\\anaconda3\\lib\\site-packages\\sklearn\\svm\\_base.py:976: ConvergenceWarning: Liblinear failed to converge, increase the number of iterations.\n",
      "  warnings.warn(\"Liblinear failed to converge, increase \"\n",
      "2022-01-21 12:22:32,641:INFO:DBSMOTE: Running sampling via ('DBSMOTE', \"{'proportion': 5, 'eps': 1.0, 'min_samples': 1, 'n_jobs': 1, 'random_state': None}\")\n",
      "C:\\Users\\oucht\\anaconda3\\lib\\site-packages\\sklearn\\svm\\_base.py:976: ConvergenceWarning: Liblinear failed to converge, increase the number of iterations.\n",
      "  warnings.warn(\"Liblinear failed to converge, increase \"\n",
      "2022-01-21 12:22:33,282:INFO:DBSMOTE: Running sampling via ('DBSMOTE', \"{'proportion': 10, 'eps': 0.8, 'min_samples': 2, 'n_jobs': 1, 'random_state': None}\")\n"
     ]
    },
    {
     "name": "stdout",
     "output_type": "stream",
     "text": [
      "Subcl35\n"
     ]
    },
    {
     "name": "stderr",
     "output_type": "stream",
     "text": [
      "2022-01-21 12:22:34,152:INFO:DBSMOTE: Running sampling via ('DBSMOTE', \"{'proportion': 10, 'eps': 0.8, 'min_samples': 2, 'n_jobs': 1, 'random_state': None}\")\n",
      "2022-01-21 12:22:35,156:INFO:DBSMOTE: Running sampling via ('DBSMOTE', \"{'proportion': 10, 'eps': 0.8, 'min_samples': 2, 'n_jobs': 1, 'random_state': None}\")\n",
      "2022-01-21 12:22:36,093:INFO:DBSMOTE: Running sampling via ('DBSMOTE', \"{'proportion': 10, 'eps': 0.8, 'min_samples': 2, 'n_jobs': 1, 'random_state': None}\")\n",
      "2022-01-21 12:22:37,148:INFO:DBSMOTE: Running sampling via ('DBSMOTE', \"{'proportion': 10, 'eps': 0.8, 'min_samples': 2, 'n_jobs': 1, 'random_state': None}\")\n",
      "2022-01-21 12:22:38,143:INFO:DBSMOTE: Running sampling via ('DBSMOTE', \"{'proportion': 10, 'eps': 0.8, 'min_samples': 2, 'n_jobs': 1, 'random_state': None}\")\n",
      "2022-01-21 12:22:39,079:INFO:DBSMOTE: Running sampling via ('DBSMOTE', \"{'proportion': 10, 'eps': 0.8, 'min_samples': 2, 'n_jobs': 1, 'random_state': None}\")\n",
      "2022-01-21 12:22:40,019:INFO:DBSMOTE: Running sampling via ('DBSMOTE', \"{'proportion': 10, 'eps': 0.8, 'min_samples': 2, 'n_jobs': 1, 'random_state': None}\")\n",
      "2022-01-21 12:22:40,902:INFO:DBSMOTE: Running sampling via ('DBSMOTE', \"{'proportion': 10, 'eps': 0.8, 'min_samples': 2, 'n_jobs': 1, 'random_state': None}\")\n",
      "2022-01-21 12:22:41,848:INFO:DBSMOTE: Running sampling via ('DBSMOTE', \"{'proportion': 10, 'eps': 0.8, 'min_samples': 2, 'n_jobs': 1, 'random_state': None}\")\n",
      "2022-01-21 12:22:42,887:INFO:DBSMOTE: Running sampling via ('DBSMOTE', \"{'proportion': 5, 'eps': 0.8, 'min_samples': 5, 'n_jobs': 1, 'random_state': None}\")\n",
      "2022-01-21 12:22:43,289:INFO:DBSMOTE: Running sampling via ('DBSMOTE', \"{'proportion': 5, 'eps': 0.8, 'min_samples': 5, 'n_jobs': 1, 'random_state': None}\")\n",
      "2022-01-21 12:22:43,817:INFO:DBSMOTE: Running sampling via ('DBSMOTE', \"{'proportion': 5, 'eps': 0.8, 'min_samples': 5, 'n_jobs': 1, 'random_state': None}\")\n",
      "2022-01-21 12:22:44,296:INFO:DBSMOTE: Running sampling via ('DBSMOTE', \"{'proportion': 5, 'eps': 0.8, 'min_samples': 5, 'n_jobs': 1, 'random_state': None}\")\n",
      "2022-01-21 12:22:44,723:INFO:DBSMOTE: Running sampling via ('DBSMOTE', \"{'proportion': 5, 'eps': 0.8, 'min_samples': 5, 'n_jobs': 1, 'random_state': None}\")\n",
      "2022-01-21 12:22:45,231:INFO:DBSMOTE: Running sampling via ('DBSMOTE', \"{'proportion': 5, 'eps': 0.8, 'min_samples': 5, 'n_jobs': 1, 'random_state': None}\")\n",
      "2022-01-21 12:22:45,756:INFO:DBSMOTE: Running sampling via ('DBSMOTE', \"{'proportion': 5, 'eps': 0.8, 'min_samples': 5, 'n_jobs': 1, 'random_state': None}\")\n",
      "2022-01-21 12:22:46,163:INFO:DBSMOTE: Running sampling via ('DBSMOTE', \"{'proportion': 5, 'eps': 0.8, 'min_samples': 5, 'n_jobs': 1, 'random_state': None}\")\n",
      "2022-01-21 12:22:46,609:INFO:DBSMOTE: Running sampling via ('DBSMOTE', \"{'proportion': 5, 'eps': 0.8, 'min_samples': 5, 'n_jobs': 1, 'random_state': None}\")\n",
      "2022-01-21 12:22:47,016:INFO:DBSMOTE: Running sampling via ('DBSMOTE', \"{'proportion': 5, 'eps': 0.8, 'min_samples': 5, 'n_jobs': 1, 'random_state': None}\")\n",
      "2022-01-21 12:22:47,449:INFO:DBSMOTE: Running sampling via ('DBSMOTE', \"{'proportion': 2, 'eps': 0.5, 'min_samples': 5, 'n_jobs': 1, 'random_state': None}\")\n",
      "2022-01-21 12:22:47,638:INFO:DBSMOTE: Running sampling via ('DBSMOTE', \"{'proportion': 2, 'eps': 0.5, 'min_samples': 5, 'n_jobs': 1, 'random_state': None}\")\n",
      "2022-01-21 12:22:47,825:INFO:DBSMOTE: Running sampling via ('DBSMOTE', \"{'proportion': 2, 'eps': 0.5, 'min_samples': 5, 'n_jobs': 1, 'random_state': None}\")\n",
      "2022-01-21 12:22:48,057:INFO:DBSMOTE: Running sampling via ('DBSMOTE', \"{'proportion': 2, 'eps': 0.5, 'min_samples': 5, 'n_jobs': 1, 'random_state': None}\")\n",
      "2022-01-21 12:22:48,233:INFO:DBSMOTE: Running sampling via ('DBSMOTE', \"{'proportion': 2, 'eps': 0.5, 'min_samples': 5, 'n_jobs': 1, 'random_state': None}\")\n",
      "2022-01-21 12:22:48,401:INFO:DBSMOTE: Running sampling via ('DBSMOTE', \"{'proportion': 2, 'eps': 0.5, 'min_samples': 5, 'n_jobs': 1, 'random_state': None}\")\n",
      "2022-01-21 12:22:48,615:INFO:DBSMOTE: Running sampling via ('DBSMOTE', \"{'proportion': 2, 'eps': 0.5, 'min_samples': 5, 'n_jobs': 1, 'random_state': None}\")\n",
      "2022-01-21 12:22:48,865:INFO:DBSMOTE: Running sampling via ('DBSMOTE', \"{'proportion': 2, 'eps': 0.5, 'min_samples': 5, 'n_jobs': 1, 'random_state': None}\")\n",
      "2022-01-21 12:22:49,031:INFO:DBSMOTE: Running sampling via ('DBSMOTE', \"{'proportion': 2, 'eps': 0.5, 'min_samples': 5, 'n_jobs': 1, 'random_state': None}\")\n",
      "2022-01-21 12:22:49,238:INFO:DBSMOTE: Running sampling via ('DBSMOTE', \"{'proportion': 2, 'eps': 0.5, 'min_samples': 5, 'n_jobs': 1, 'random_state': None}\")\n",
      "2022-01-21 12:22:49,390:INFO:DBSMOTE: Running sampling via ('DBSMOTE', \"{'proportion': 2, 'eps': 1.0, 'min_samples': 1, 'n_jobs': 1, 'random_state': None}\")\n",
      "C:\\Users\\oucht\\anaconda3\\lib\\site-packages\\sklearn\\svm\\_base.py:976: ConvergenceWarning: Liblinear failed to converge, increase the number of iterations.\n",
      "  warnings.warn(\"Liblinear failed to converge, increase \"\n",
      "2022-01-21 12:22:49,597:INFO:DBSMOTE: Running sampling via ('DBSMOTE', \"{'proportion': 2, 'eps': 1.0, 'min_samples': 1, 'n_jobs': 1, 'random_state': None}\")\n",
      "C:\\Users\\oucht\\anaconda3\\lib\\site-packages\\sklearn\\svm\\_base.py:976: ConvergenceWarning: Liblinear failed to converge, increase the number of iterations.\n",
      "  warnings.warn(\"Liblinear failed to converge, increase \"\n",
      "2022-01-21 12:22:49,778:INFO:DBSMOTE: Running sampling via ('DBSMOTE', \"{'proportion': 2, 'eps': 1.0, 'min_samples': 1, 'n_jobs': 1, 'random_state': None}\")\n",
      "C:\\Users\\oucht\\anaconda3\\lib\\site-packages\\sklearn\\svm\\_base.py:976: ConvergenceWarning: Liblinear failed to converge, increase the number of iterations.\n",
      "  warnings.warn(\"Liblinear failed to converge, increase \"\n",
      "2022-01-21 12:22:50,035:INFO:DBSMOTE: Running sampling via ('DBSMOTE', \"{'proportion': 2, 'eps': 1.0, 'min_samples': 1, 'n_jobs': 1, 'random_state': None}\")\n",
      "C:\\Users\\oucht\\anaconda3\\lib\\site-packages\\sklearn\\svm\\_base.py:976: ConvergenceWarning: Liblinear failed to converge, increase the number of iterations.\n",
      "  warnings.warn(\"Liblinear failed to converge, increase \"\n",
      "2022-01-21 12:22:50,239:INFO:DBSMOTE: Running sampling via ('DBSMOTE', \"{'proportion': 2, 'eps': 1.0, 'min_samples': 1, 'n_jobs': 1, 'random_state': None}\")\n",
      "C:\\Users\\oucht\\anaconda3\\lib\\site-packages\\sklearn\\svm\\_base.py:976: ConvergenceWarning: Liblinear failed to converge, increase the number of iterations.\n",
      "  warnings.warn(\"Liblinear failed to converge, increase \"\n",
      "2022-01-21 12:22:50,466:INFO:DBSMOTE: Running sampling via ('DBSMOTE', \"{'proportion': 2, 'eps': 1.0, 'min_samples': 1, 'n_jobs': 1, 'random_state': None}\")\n",
      "C:\\Users\\oucht\\anaconda3\\lib\\site-packages\\sklearn\\svm\\_base.py:976: ConvergenceWarning: Liblinear failed to converge, increase the number of iterations.\n",
      "  warnings.warn(\"Liblinear failed to converge, increase \"\n",
      "2022-01-21 12:22:50,631:INFO:DBSMOTE: Running sampling via ('DBSMOTE', \"{'proportion': 2, 'eps': 1.0, 'min_samples': 1, 'n_jobs': 1, 'random_state': None}\")\n",
      "C:\\Users\\oucht\\anaconda3\\lib\\site-packages\\sklearn\\svm\\_base.py:976: ConvergenceWarning: Liblinear failed to converge, increase the number of iterations.\n",
      "  warnings.warn(\"Liblinear failed to converge, increase \"\n",
      "2022-01-21 12:22:50,834:INFO:DBSMOTE: Running sampling via ('DBSMOTE', \"{'proportion': 2, 'eps': 1.0, 'min_samples': 1, 'n_jobs': 1, 'random_state': None}\")\n",
      "C:\\Users\\oucht\\anaconda3\\lib\\site-packages\\sklearn\\svm\\_base.py:976: ConvergenceWarning: Liblinear failed to converge, increase the number of iterations.\n",
      "  warnings.warn(\"Liblinear failed to converge, increase \"\n",
      "2022-01-21 12:22:51,031:INFO:DBSMOTE: Running sampling via ('DBSMOTE', \"{'proportion': 2, 'eps': 1.0, 'min_samples': 1, 'n_jobs': 1, 'random_state': None}\")\n",
      "C:\\Users\\oucht\\anaconda3\\lib\\site-packages\\sklearn\\svm\\_base.py:976: ConvergenceWarning: Liblinear failed to converge, increase the number of iterations.\n",
      "  warnings.warn(\"Liblinear failed to converge, increase \"\n",
      "2022-01-21 12:22:51,293:INFO:DBSMOTE: Running sampling via ('DBSMOTE', \"{'proportion': 2, 'eps': 1.0, 'min_samples': 1, 'n_jobs': 1, 'random_state': None}\")\n",
      "C:\\Users\\oucht\\anaconda3\\lib\\site-packages\\sklearn\\svm\\_base.py:976: ConvergenceWarning: Liblinear failed to converge, increase the number of iterations.\n",
      "  warnings.warn(\"Liblinear failed to converge, increase \"\n"
     ]
    },
    {
     "name": "stderr",
     "output_type": "stream",
     "text": [
      "2022-01-21 12:22:51,494:INFO:DBSMOTE: Running sampling via ('DBSMOTE', \"{'proportion': 2, 'eps': 1.2, 'min_samples': 5, 'n_jobs': 1, 'random_state': None}\")\n"
     ]
    },
    {
     "name": "stdout",
     "output_type": "stream",
     "text": [
      "Paw\n"
     ]
    },
    {
     "name": "stderr",
     "output_type": "stream",
     "text": [
      "2022-01-21 12:22:52,057:INFO:DBSMOTE: Running sampling via ('DBSMOTE', \"{'proportion': 2, 'eps': 1.2, 'min_samples': 5, 'n_jobs': 1, 'random_state': None}\")\n",
      "2022-01-21 12:22:52,766:INFO:DBSMOTE: Running sampling via ('DBSMOTE', \"{'proportion': 2, 'eps': 1.2, 'min_samples': 5, 'n_jobs': 1, 'random_state': None}\")\n",
      "2022-01-21 12:22:53,278:INFO:DBSMOTE: Running sampling via ('DBSMOTE', \"{'proportion': 2, 'eps': 1.2, 'min_samples': 5, 'n_jobs': 1, 'random_state': None}\")\n",
      "2022-01-21 12:22:53,884:INFO:DBSMOTE: Running sampling via ('DBSMOTE', \"{'proportion': 2, 'eps': 1.2, 'min_samples': 5, 'n_jobs': 1, 'random_state': None}\")\n",
      "2022-01-21 12:22:54,397:INFO:DBSMOTE: Running sampling via ('DBSMOTE', \"{'proportion': 2, 'eps': 1.2, 'min_samples': 5, 'n_jobs': 1, 'random_state': None}\")\n",
      "2022-01-21 12:22:54,976:INFO:DBSMOTE: Running sampling via ('DBSMOTE', \"{'proportion': 2, 'eps': 1.2, 'min_samples': 5, 'n_jobs': 1, 'random_state': None}\")\n",
      "2022-01-21 12:22:55,623:INFO:DBSMOTE: Running sampling via ('DBSMOTE', \"{'proportion': 2, 'eps': 1.2, 'min_samples': 5, 'n_jobs': 1, 'random_state': None}\")\n",
      "2022-01-21 12:22:56,147:INFO:DBSMOTE: Running sampling via ('DBSMOTE', \"{'proportion': 2, 'eps': 1.2, 'min_samples': 5, 'n_jobs': 1, 'random_state': None}\")\n",
      "2022-01-21 12:22:56,683:INFO:DBSMOTE: Running sampling via ('DBSMOTE', \"{'proportion': 2, 'eps': 1.2, 'min_samples': 5, 'n_jobs': 1, 'random_state': None}\")\n",
      "2022-01-21 12:22:57,179:INFO:DBSMOTE: Running sampling via ('DBSMOTE', \"{'proportion': 10, 'eps': 0.8, 'min_samples': 5, 'n_jobs': 1, 'random_state': None}\")\n",
      "2022-01-21 12:22:57,947:INFO:DBSMOTE: Running sampling via ('DBSMOTE', \"{'proportion': 10, 'eps': 0.8, 'min_samples': 5, 'n_jobs': 1, 'random_state': None}\")\n",
      "2022-01-21 12:22:58,753:INFO:DBSMOTE: Running sampling via ('DBSMOTE', \"{'proportion': 10, 'eps': 0.8, 'min_samples': 5, 'n_jobs': 1, 'random_state': None}\")\n",
      "2022-01-21 12:22:59,673:INFO:DBSMOTE: Running sampling via ('DBSMOTE', \"{'proportion': 10, 'eps': 0.8, 'min_samples': 5, 'n_jobs': 1, 'random_state': None}\")\n",
      "2022-01-21 12:23:00,518:INFO:DBSMOTE: Running sampling via ('DBSMOTE', \"{'proportion': 10, 'eps': 0.8, 'min_samples': 5, 'n_jobs': 1, 'random_state': None}\")\n",
      "2022-01-21 12:23:01,288:INFO:DBSMOTE: Running sampling via ('DBSMOTE', \"{'proportion': 10, 'eps': 0.8, 'min_samples': 5, 'n_jobs': 1, 'random_state': None}\")\n",
      "2022-01-21 12:23:02,225:INFO:DBSMOTE: Running sampling via ('DBSMOTE', \"{'proportion': 10, 'eps': 0.8, 'min_samples': 5, 'n_jobs': 1, 'random_state': None}\")\n",
      "2022-01-21 12:23:03,177:INFO:DBSMOTE: Running sampling via ('DBSMOTE', \"{'proportion': 10, 'eps': 0.8, 'min_samples': 5, 'n_jobs': 1, 'random_state': None}\")\n",
      "2022-01-21 12:23:04,163:INFO:DBSMOTE: Running sampling via ('DBSMOTE', \"{'proportion': 10, 'eps': 0.8, 'min_samples': 5, 'n_jobs': 1, 'random_state': None}\")\n",
      "2022-01-21 12:23:05,209:INFO:DBSMOTE: Running sampling via ('DBSMOTE', \"{'proportion': 10, 'eps': 0.8, 'min_samples': 5, 'n_jobs': 1, 'random_state': None}\")\n",
      "2022-01-21 12:23:06,161:INFO:DBSMOTE: Running sampling via ('DBSMOTE', \"{'proportion': 2, 'eps': 0.8, 'min_samples': 5, 'n_jobs': 1, 'random_state': None}\")\n",
      "2022-01-21 12:23:06,397:INFO:DBSMOTE: Running sampling via ('DBSMOTE', \"{'proportion': 2, 'eps': 0.8, 'min_samples': 5, 'n_jobs': 1, 'random_state': None}\")\n",
      "2022-01-21 12:23:06,659:INFO:DBSMOTE: Running sampling via ('DBSMOTE', \"{'proportion': 2, 'eps': 0.8, 'min_samples': 5, 'n_jobs': 1, 'random_state': None}\")\n",
      "2022-01-21 12:23:06,865:INFO:DBSMOTE: Running sampling via ('DBSMOTE', \"{'proportion': 2, 'eps': 0.8, 'min_samples': 5, 'n_jobs': 1, 'random_state': None}\")\n",
      "2022-01-21 12:23:07,142:INFO:DBSMOTE: Running sampling via ('DBSMOTE', \"{'proportion': 2, 'eps': 0.8, 'min_samples': 5, 'n_jobs': 1, 'random_state': None}\")\n",
      "2022-01-21 12:23:07,500:INFO:DBSMOTE: Running sampling via ('DBSMOTE', \"{'proportion': 2, 'eps': 0.8, 'min_samples': 5, 'n_jobs': 1, 'random_state': None}\")\n",
      "2022-01-21 12:23:07,783:INFO:DBSMOTE: Running sampling via ('DBSMOTE', \"{'proportion': 2, 'eps': 0.8, 'min_samples': 5, 'n_jobs': 1, 'random_state': None}\")\n",
      "2022-01-21 12:23:08,094:INFO:DBSMOTE: Running sampling via ('DBSMOTE', \"{'proportion': 2, 'eps': 0.8, 'min_samples': 5, 'n_jobs': 1, 'random_state': None}\")\n",
      "2022-01-21 12:23:08,347:INFO:DBSMOTE: Running sampling via ('DBSMOTE', \"{'proportion': 2, 'eps': 0.8, 'min_samples': 5, 'n_jobs': 1, 'random_state': None}\")\n",
      "2022-01-21 12:23:08,646:INFO:DBSMOTE: Running sampling via ('DBSMOTE', \"{'proportion': 2, 'eps': 0.8, 'min_samples': 5, 'n_jobs': 1, 'random_state': None}\")\n",
      "2022-01-21 12:23:08,978:INFO:DBSMOTE: Running sampling via ('DBSMOTE', \"{'proportion': 1, 'eps': 0.8, 'min_samples': 2, 'n_jobs': 1, 'random_state': None}\")\n",
      "C:\\Users\\oucht\\anaconda3\\lib\\site-packages\\sklearn\\svm\\_base.py:976: ConvergenceWarning: Liblinear failed to converge, increase the number of iterations.\n",
      "  warnings.warn(\"Liblinear failed to converge, increase \"\n",
      "2022-01-21 12:23:09,170:INFO:DBSMOTE: Running sampling via ('DBSMOTE', \"{'proportion': 1, 'eps': 0.8, 'min_samples': 2, 'n_jobs': 1, 'random_state': None}\")\n",
      "C:\\Users\\oucht\\anaconda3\\lib\\site-packages\\sklearn\\svm\\_base.py:976: ConvergenceWarning: Liblinear failed to converge, increase the number of iterations.\n",
      "  warnings.warn(\"Liblinear failed to converge, increase \"\n",
      "2022-01-21 12:23:09,356:INFO:DBSMOTE: Running sampling via ('DBSMOTE', \"{'proportion': 1, 'eps': 0.8, 'min_samples': 2, 'n_jobs': 1, 'random_state': None}\")\n",
      "C:\\Users\\oucht\\anaconda3\\lib\\site-packages\\sklearn\\svm\\_base.py:976: ConvergenceWarning: Liblinear failed to converge, increase the number of iterations.\n",
      "  warnings.warn(\"Liblinear failed to converge, increase \"\n",
      "2022-01-21 12:23:09,554:INFO:DBSMOTE: Running sampling via ('DBSMOTE', \"{'proportion': 1, 'eps': 0.8, 'min_samples': 2, 'n_jobs': 1, 'random_state': None}\")\n",
      "C:\\Users\\oucht\\anaconda3\\lib\\site-packages\\sklearn\\svm\\_base.py:976: ConvergenceWarning: Liblinear failed to converge, increase the number of iterations.\n",
      "  warnings.warn(\"Liblinear failed to converge, increase \"\n",
      "2022-01-21 12:23:09,737:INFO:DBSMOTE: Running sampling via ('DBSMOTE', \"{'proportion': 1, 'eps': 0.8, 'min_samples': 2, 'n_jobs': 1, 'random_state': None}\")\n",
      "C:\\Users\\oucht\\anaconda3\\lib\\site-packages\\sklearn\\svm\\_base.py:976: ConvergenceWarning: Liblinear failed to converge, increase the number of iterations.\n",
      "  warnings.warn(\"Liblinear failed to converge, increase \"\n",
      "2022-01-21 12:23:09,980:INFO:DBSMOTE: Running sampling via ('DBSMOTE', \"{'proportion': 1, 'eps': 0.8, 'min_samples': 2, 'n_jobs': 1, 'random_state': None}\")\n",
      "C:\\Users\\oucht\\anaconda3\\lib\\site-packages\\sklearn\\svm\\_base.py:976: ConvergenceWarning: Liblinear failed to converge, increase the number of iterations.\n",
      "  warnings.warn(\"Liblinear failed to converge, increase \"\n",
      "2022-01-21 12:23:10,177:INFO:DBSMOTE: Running sampling via ('DBSMOTE', \"{'proportion': 1, 'eps': 0.8, 'min_samples': 2, 'n_jobs': 1, 'random_state': None}\")\n",
      "C:\\Users\\oucht\\anaconda3\\lib\\site-packages\\sklearn\\svm\\_base.py:976: ConvergenceWarning: Liblinear failed to converge, increase the number of iterations.\n",
      "  warnings.warn(\"Liblinear failed to converge, increase \"\n",
      "2022-01-21 12:23:10,339:INFO:DBSMOTE: Running sampling via ('DBSMOTE', \"{'proportion': 1, 'eps': 0.8, 'min_samples': 2, 'n_jobs': 1, 'random_state': None}\")\n",
      "C:\\Users\\oucht\\anaconda3\\lib\\site-packages\\sklearn\\svm\\_base.py:976: ConvergenceWarning: Liblinear failed to converge, increase the number of iterations.\n",
      "  warnings.warn(\"Liblinear failed to converge, increase \"\n",
      "2022-01-21 12:23:10,524:INFO:DBSMOTE: Running sampling via ('DBSMOTE', \"{'proportion': 1, 'eps': 0.8, 'min_samples': 2, 'n_jobs': 1, 'random_state': None}\")\n",
      "C:\\Users\\oucht\\anaconda3\\lib\\site-packages\\sklearn\\svm\\_base.py:976: ConvergenceWarning: Liblinear failed to converge, increase the number of iterations.\n",
      "  warnings.warn(\"Liblinear failed to converge, increase \"\n",
      "2022-01-21 12:23:10,717:INFO:DBSMOTE: Running sampling via ('DBSMOTE', \"{'proportion': 1, 'eps': 0.8, 'min_samples': 2, 'n_jobs': 1, 'random_state': None}\")\n",
      "C:\\Users\\oucht\\anaconda3\\lib\\site-packages\\sklearn\\svm\\_base.py:976: ConvergenceWarning: Liblinear failed to converge, increase the number of iterations.\n",
      "  warnings.warn(\"Liblinear failed to converge, increase \"\n",
      "2022-01-21 12:23:10,929:INFO:DBSMOTE: Running sampling via ('DBSMOTE', \"{'proportion': 1, 'eps': 1.0, 'min_samples': 3, 'n_jobs': 1, 'random_state': None}\")\n"
     ]
    },
    {
     "name": "stderr",
     "output_type": "stream",
     "text": [
      "2022-01-21 12:23:11,101:INFO:DBSMOTE: Running sampling via ('DBSMOTE', \"{'proportion': 1, 'eps': 1.0, 'min_samples': 3, 'n_jobs': 1, 'random_state': None}\")\n"
     ]
    },
    {
     "name": "stdout",
     "output_type": "stream",
     "text": [
      "ecoli1\n"
     ]
    },
    {
     "name": "stderr",
     "output_type": "stream",
     "text": [
      "2022-01-21 12:23:11,321:INFO:DBSMOTE: Running sampling via ('DBSMOTE', \"{'proportion': 1, 'eps': 1.0, 'min_samples': 3, 'n_jobs': 1, 'random_state': None}\")\n",
      "2022-01-21 12:23:11,553:INFO:DBSMOTE: Running sampling via ('DBSMOTE', \"{'proportion': 1, 'eps': 1.0, 'min_samples': 3, 'n_jobs': 1, 'random_state': None}\")\n",
      "2022-01-21 12:23:11,766:INFO:DBSMOTE: Running sampling via ('DBSMOTE', \"{'proportion': 1, 'eps': 1.0, 'min_samples': 3, 'n_jobs': 1, 'random_state': None}\")\n",
      "2022-01-21 12:23:11,977:INFO:DBSMOTE: Running sampling via ('DBSMOTE', \"{'proportion': 1, 'eps': 1.0, 'min_samples': 3, 'n_jobs': 1, 'random_state': None}\")\n",
      "2022-01-21 12:23:12,189:INFO:DBSMOTE: Running sampling via ('DBSMOTE', \"{'proportion': 1, 'eps': 1.0, 'min_samples': 3, 'n_jobs': 1, 'random_state': None}\")\n",
      "2022-01-21 12:23:12,338:INFO:DBSMOTE: Running sampling via ('DBSMOTE', \"{'proportion': 1, 'eps': 1.0, 'min_samples': 3, 'n_jobs': 1, 'random_state': None}\")\n",
      "2022-01-21 12:23:12,541:INFO:DBSMOTE: Running sampling via ('DBSMOTE', \"{'proportion': 1, 'eps': 1.0, 'min_samples': 3, 'n_jobs': 1, 'random_state': None}\")\n",
      "2022-01-21 12:23:12,711:INFO:DBSMOTE: Running sampling via ('DBSMOTE', \"{'proportion': 1, 'eps': 1.0, 'min_samples': 3, 'n_jobs': 1, 'random_state': None}\")\n",
      "2022-01-21 12:23:12,918:INFO:DBSMOTE: Running sampling via ('DBSMOTE', \"{'proportion': 2, 'eps': 0.5, 'min_samples': 3, 'n_jobs': 1, 'random_state': None}\")\n",
      "2022-01-21 12:23:13,022:INFO:DBSMOTE: Running sampling via ('DBSMOTE', \"{'proportion': 2, 'eps': 0.5, 'min_samples': 3, 'n_jobs': 1, 'random_state': None}\")\n",
      "2022-01-21 12:23:13,022:INFO:DBSMOTE: Number of clusters is 0, trying to increase eps and decrease min_samples\n",
      "2022-01-21 12:23:13,022:INFO:DBSMOTE: Running sampling via ('DBSMOTE', \"{'proportion': 2, 'eps': 0.75, 'min_samples': 2, 'n_jobs': 1, 'random_state': <module 'numpy.random' from 'C:\\\\\\\\Users\\\\\\\\oucht\\\\\\\\anaconda3\\\\\\\\lib\\\\\\\\site-packages\\\\\\\\numpy\\\\\\\\random\\\\\\\\__init__.py'>}\")\n",
      "2022-01-21 12:23:13,139:INFO:DBSMOTE: Running sampling via ('DBSMOTE', \"{'proportion': 2, 'eps': 0.5, 'min_samples': 3, 'n_jobs': 1, 'random_state': None}\")\n",
      "2022-01-21 12:23:13,285:INFO:DBSMOTE: Running sampling via ('DBSMOTE', \"{'proportion': 2, 'eps': 0.5, 'min_samples': 3, 'n_jobs': 1, 'random_state': None}\")\n",
      "2022-01-21 12:23:13,446:INFO:DBSMOTE: Running sampling via ('DBSMOTE', \"{'proportion': 2, 'eps': 0.5, 'min_samples': 3, 'n_jobs': 1, 'random_state': None}\")\n",
      "2022-01-21 12:23:13,446:INFO:DBSMOTE: Number of clusters is 0, trying to increase eps and decrease min_samples\n",
      "2022-01-21 12:23:13,454:INFO:DBSMOTE: Running sampling via ('DBSMOTE', \"{'proportion': 2, 'eps': 0.75, 'min_samples': 2, 'n_jobs': 1, 'random_state': <module 'numpy.random' from 'C:\\\\\\\\Users\\\\\\\\oucht\\\\\\\\anaconda3\\\\\\\\lib\\\\\\\\site-packages\\\\\\\\numpy\\\\\\\\random\\\\\\\\__init__.py'>}\")\n",
      "2022-01-21 12:23:13,595:INFO:DBSMOTE: Running sampling via ('DBSMOTE', \"{'proportion': 2, 'eps': 0.5, 'min_samples': 3, 'n_jobs': 1, 'random_state': None}\")\n",
      "2022-01-21 12:23:13,724:INFO:DBSMOTE: Running sampling via ('DBSMOTE', \"{'proportion': 2, 'eps': 0.5, 'min_samples': 3, 'n_jobs': 1, 'random_state': None}\")\n",
      "2022-01-21 12:23:13,727:INFO:DBSMOTE: Number of clusters is 0, trying to increase eps and decrease min_samples\n",
      "2022-01-21 12:23:13,727:INFO:DBSMOTE: Running sampling via ('DBSMOTE', \"{'proportion': 2, 'eps': 0.75, 'min_samples': 2, 'n_jobs': 1, 'random_state': <module 'numpy.random' from 'C:\\\\\\\\Users\\\\\\\\oucht\\\\\\\\anaconda3\\\\\\\\lib\\\\\\\\site-packages\\\\\\\\numpy\\\\\\\\random\\\\\\\\__init__.py'>}\")\n",
      "2022-01-21 12:23:13,878:INFO:DBSMOTE: Running sampling via ('DBSMOTE', \"{'proportion': 2, 'eps': 0.5, 'min_samples': 3, 'n_jobs': 1, 'random_state': None}\")\n",
      "2022-01-21 12:23:13,991:INFO:DBSMOTE: Running sampling via ('DBSMOTE', \"{'proportion': 2, 'eps': 0.5, 'min_samples': 3, 'n_jobs': 1, 'random_state': None}\")\n",
      "2022-01-21 12:23:14,002:INFO:DBSMOTE: Number of clusters is 0, trying to increase eps and decrease min_samples\n",
      "2022-01-21 12:23:14,011:INFO:DBSMOTE: Running sampling via ('DBSMOTE', \"{'proportion': 2, 'eps': 0.75, 'min_samples': 2, 'n_jobs': 1, 'random_state': <module 'numpy.random' from 'C:\\\\\\\\Users\\\\\\\\oucht\\\\\\\\anaconda3\\\\\\\\lib\\\\\\\\site-packages\\\\\\\\numpy\\\\\\\\random\\\\\\\\__init__.py'>}\")\n",
      "2022-01-21 12:23:14,097:INFO:DBSMOTE: Running sampling via ('DBSMOTE', \"{'proportion': 2, 'eps': 0.5, 'min_samples': 3, 'n_jobs': 1, 'random_state': None}\")\n",
      "2022-01-21 12:23:14,201:INFO:DBSMOTE: Running sampling via ('DBSMOTE', \"{'proportion': 1, 'eps': 1.2, 'min_samples': 1, 'n_jobs': 1, 'random_state': None}\")\n",
      "2022-01-21 12:23:14,249:INFO:DBSMOTE: Running sampling via ('DBSMOTE', \"{'proportion': 1, 'eps': 1.2, 'min_samples': 1, 'n_jobs': 1, 'random_state': None}\")\n",
      "2022-01-21 12:23:14,302:INFO:DBSMOTE: Running sampling via ('DBSMOTE', \"{'proportion': 1, 'eps': 1.2, 'min_samples': 1, 'n_jobs': 1, 'random_state': None}\")\n",
      "2022-01-21 12:23:14,366:INFO:DBSMOTE: Running sampling via ('DBSMOTE', \"{'proportion': 1, 'eps': 1.2, 'min_samples': 1, 'n_jobs': 1, 'random_state': None}\")\n",
      "2022-01-21 12:23:14,439:INFO:DBSMOTE: Running sampling via ('DBSMOTE', \"{'proportion': 1, 'eps': 1.2, 'min_samples': 1, 'n_jobs': 1, 'random_state': None}\")\n",
      "2022-01-21 12:23:14,539:INFO:DBSMOTE: Running sampling via ('DBSMOTE', \"{'proportion': 1, 'eps': 1.2, 'min_samples': 1, 'n_jobs': 1, 'random_state': None}\")\n",
      "2022-01-21 12:23:14,622:INFO:DBSMOTE: Running sampling via ('DBSMOTE', \"{'proportion': 1, 'eps': 1.2, 'min_samples': 1, 'n_jobs': 1, 'random_state': None}\")\n",
      "2022-01-21 12:23:14,712:INFO:DBSMOTE: Running sampling via ('DBSMOTE', \"{'proportion': 1, 'eps': 1.2, 'min_samples': 1, 'n_jobs': 1, 'random_state': None}\")\n",
      "2022-01-21 12:23:14,787:INFO:DBSMOTE: Running sampling via ('DBSMOTE', \"{'proportion': 1, 'eps': 1.2, 'min_samples': 1, 'n_jobs': 1, 'random_state': None}\")\n",
      "2022-01-21 12:23:14,862:INFO:DBSMOTE: Running sampling via ('DBSMOTE', \"{'proportion': 1, 'eps': 1.2, 'min_samples': 1, 'n_jobs': 1, 'random_state': None}\")\n",
      "2022-01-21 12:23:14,951:INFO:DBSMOTE: Running sampling via ('DBSMOTE', \"{'proportion': 10, 'eps': 0.8, 'min_samples': 3, 'n_jobs': 1, 'random_state': None}\")\n",
      "2022-01-21 12:23:15,198:INFO:DBSMOTE: Running sampling via ('DBSMOTE', \"{'proportion': 10, 'eps': 0.8, 'min_samples': 3, 'n_jobs': 1, 'random_state': None}\")\n",
      "2022-01-21 12:23:15,410:INFO:DBSMOTE: Running sampling via ('DBSMOTE', \"{'proportion': 10, 'eps': 0.8, 'min_samples': 3, 'n_jobs': 1, 'random_state': None}\")\n",
      "2022-01-21 12:23:15,628:INFO:DBSMOTE: Running sampling via ('DBSMOTE', \"{'proportion': 10, 'eps': 0.8, 'min_samples': 3, 'n_jobs': 1, 'random_state': None}\")\n",
      "2022-01-21 12:23:15,826:INFO:DBSMOTE: Running sampling via ('DBSMOTE', \"{'proportion': 10, 'eps': 0.8, 'min_samples': 3, 'n_jobs': 1, 'random_state': None}\")\n",
      "2022-01-21 12:23:16,097:INFO:DBSMOTE: Running sampling via ('DBSMOTE', \"{'proportion': 10, 'eps': 0.8, 'min_samples': 3, 'n_jobs': 1, 'random_state': None}\")\n",
      "2022-01-21 12:23:16,281:INFO:DBSMOTE: Running sampling via ('DBSMOTE', \"{'proportion': 10, 'eps': 0.8, 'min_samples': 3, 'n_jobs': 1, 'random_state': None}\")\n",
      "2022-01-21 12:23:16,530:INFO:DBSMOTE: Running sampling via ('DBSMOTE', \"{'proportion': 10, 'eps': 0.8, 'min_samples': 3, 'n_jobs': 1, 'random_state': None}\")\n",
      "2022-01-21 12:23:16,737:INFO:DBSMOTE: Running sampling via ('DBSMOTE', \"{'proportion': 10, 'eps': 0.8, 'min_samples': 3, 'n_jobs': 1, 'random_state': None}\")\n",
      "2022-01-21 12:23:16,947:INFO:DBSMOTE: Running sampling via ('DBSMOTE', \"{'proportion': 10, 'eps': 0.8, 'min_samples': 3, 'n_jobs': 1, 'random_state': None}\")\n",
      "2022-01-21 12:23:17,227:INFO:DBSMOTE: Running sampling via ('DBSMOTE', \"{'proportion': 5, 'eps': 0.5, 'min_samples': 2, 'n_jobs': 1, 'random_state': None}\")\n"
     ]
    },
    {
     "name": "stdout",
     "output_type": "stream",
     "text": [
      "pima\n"
     ]
    },
    {
     "name": "stderr",
     "output_type": "stream",
     "text": [
      "2022-01-21 12:23:17,842:INFO:DBSMOTE: Running sampling via ('DBSMOTE', \"{'proportion': 5, 'eps': 0.5, 'min_samples': 2, 'n_jobs': 1, 'random_state': None}\")\n",
      "2022-01-21 12:23:18,429:INFO:DBSMOTE: Running sampling via ('DBSMOTE', \"{'proportion': 5, 'eps': 0.5, 'min_samples': 2, 'n_jobs': 1, 'random_state': None}\")\n",
      "2022-01-21 12:23:18,945:INFO:DBSMOTE: Running sampling via ('DBSMOTE', \"{'proportion': 5, 'eps': 0.5, 'min_samples': 2, 'n_jobs': 1, 'random_state': None}\")\n",
      "2022-01-21 12:23:19,410:INFO:DBSMOTE: Running sampling via ('DBSMOTE', \"{'proportion': 5, 'eps': 0.5, 'min_samples': 2, 'n_jobs': 1, 'random_state': None}\")\n",
      "2022-01-21 12:23:19,900:INFO:DBSMOTE: Running sampling via ('DBSMOTE', \"{'proportion': 5, 'eps': 0.5, 'min_samples': 2, 'n_jobs': 1, 'random_state': None}\")\n",
      "2022-01-21 12:23:20,379:INFO:DBSMOTE: Running sampling via ('DBSMOTE', \"{'proportion': 5, 'eps': 0.5, 'min_samples': 2, 'n_jobs': 1, 'random_state': None}\")\n",
      "2022-01-21 12:23:20,870:INFO:DBSMOTE: Running sampling via ('DBSMOTE', \"{'proportion': 5, 'eps': 0.5, 'min_samples': 2, 'n_jobs': 1, 'random_state': None}\")\n",
      "2022-01-21 12:23:21,347:INFO:DBSMOTE: Running sampling via ('DBSMOTE', \"{'proportion': 5, 'eps': 0.5, 'min_samples': 2, 'n_jobs': 1, 'random_state': None}\")\n",
      "2022-01-21 12:23:21,793:INFO:DBSMOTE: Running sampling via ('DBSMOTE', \"{'proportion': 5, 'eps': 0.5, 'min_samples': 2, 'n_jobs': 1, 'random_state': None}\")\n",
      "2022-01-21 12:23:22,258:INFO:DBSMOTE: Running sampling via ('DBSMOTE', \"{'proportion': 1, 'eps': 0.5, 'min_samples': 5, 'n_jobs': 1, 'random_state': None}\")\n",
      "2022-01-21 12:23:22,258:INFO:DBSMOTE: Number of clusters is 0, trying to increase eps and decrease min_samples\n",
      "2022-01-21 12:23:22,258:INFO:DBSMOTE: Running sampling via ('DBSMOTE', \"{'proportion': 1, 'eps': 0.75, 'min_samples': 4, 'n_jobs': 1, 'random_state': <module 'numpy.random' from 'C:\\\\\\\\Users\\\\\\\\oucht\\\\\\\\anaconda3\\\\\\\\lib\\\\\\\\site-packages\\\\\\\\numpy\\\\\\\\random\\\\\\\\__init__.py'>}\")\n",
      "2022-01-21 12:23:22,269:INFO:DBSMOTE: Number of clusters is 0, trying to increase eps and decrease min_samples\n",
      "2022-01-21 12:23:22,269:INFO:DBSMOTE: Running sampling via ('DBSMOTE', \"{'proportion': 1, 'eps': 1.125, 'min_samples': 3, 'n_jobs': 1, 'random_state': <module 'numpy.random' from 'C:\\\\\\\\Users\\\\\\\\oucht\\\\\\\\anaconda3\\\\\\\\lib\\\\\\\\site-packages\\\\\\\\numpy\\\\\\\\random\\\\\\\\__init__.py'>}\")\n",
      "2022-01-21 12:23:22,430:INFO:DBSMOTE: Running sampling via ('DBSMOTE', \"{'proportion': 1, 'eps': 0.5, 'min_samples': 5, 'n_jobs': 1, 'random_state': None}\")\n",
      "2022-01-21 12:23:22,438:INFO:DBSMOTE: Number of clusters is 0, trying to increase eps and decrease min_samples\n",
      "2022-01-21 12:23:22,438:INFO:DBSMOTE: Running sampling via ('DBSMOTE', \"{'proportion': 1, 'eps': 0.75, 'min_samples': 4, 'n_jobs': 1, 'random_state': <module 'numpy.random' from 'C:\\\\\\\\Users\\\\\\\\oucht\\\\\\\\anaconda3\\\\\\\\lib\\\\\\\\site-packages\\\\\\\\numpy\\\\\\\\random\\\\\\\\__init__.py'>}\")\n",
      "2022-01-21 12:23:22,446:INFO:DBSMOTE: Number of clusters is 0, trying to increase eps and decrease min_samples\n",
      "2022-01-21 12:23:22,446:INFO:DBSMOTE: Running sampling via ('DBSMOTE', \"{'proportion': 1, 'eps': 1.125, 'min_samples': 3, 'n_jobs': 1, 'random_state': <module 'numpy.random' from 'C:\\\\\\\\Users\\\\\\\\oucht\\\\\\\\anaconda3\\\\\\\\lib\\\\\\\\site-packages\\\\\\\\numpy\\\\\\\\random\\\\\\\\__init__.py'>}\")\n",
      "2022-01-21 12:23:22,600:INFO:DBSMOTE: Running sampling via ('DBSMOTE', \"{'proportion': 1, 'eps': 0.5, 'min_samples': 5, 'n_jobs': 1, 'random_state': None}\")\n",
      "2022-01-21 12:23:22,608:INFO:DBSMOTE: Number of clusters is 0, trying to increase eps and decrease min_samples\n",
      "2022-01-21 12:23:22,616:INFO:DBSMOTE: Running sampling via ('DBSMOTE', \"{'proportion': 1, 'eps': 0.75, 'min_samples': 4, 'n_jobs': 1, 'random_state': <module 'numpy.random' from 'C:\\\\\\\\Users\\\\\\\\oucht\\\\\\\\anaconda3\\\\\\\\lib\\\\\\\\site-packages\\\\\\\\numpy\\\\\\\\random\\\\\\\\__init__.py'>}\")\n",
      "2022-01-21 12:23:22,624:INFO:DBSMOTE: Number of clusters is 0, trying to increase eps and decrease min_samples\n",
      "2022-01-21 12:23:22,624:INFO:DBSMOTE: Running sampling via ('DBSMOTE', \"{'proportion': 1, 'eps': 1.125, 'min_samples': 3, 'n_jobs': 1, 'random_state': <module 'numpy.random' from 'C:\\\\\\\\Users\\\\\\\\oucht\\\\\\\\anaconda3\\\\\\\\lib\\\\\\\\site-packages\\\\\\\\numpy\\\\\\\\random\\\\\\\\__init__.py'>}\")\n",
      "2022-01-21 12:23:22,756:INFO:DBSMOTE: Running sampling via ('DBSMOTE', \"{'proportion': 1, 'eps': 0.5, 'min_samples': 5, 'n_jobs': 1, 'random_state': None}\")\n",
      "2022-01-21 12:23:22,770:INFO:DBSMOTE: Number of clusters is 0, trying to increase eps and decrease min_samples\n",
      "2022-01-21 12:23:22,771:INFO:DBSMOTE: Running sampling via ('DBSMOTE', \"{'proportion': 1, 'eps': 0.75, 'min_samples': 4, 'n_jobs': 1, 'random_state': <module 'numpy.random' from 'C:\\\\\\\\Users\\\\\\\\oucht\\\\\\\\anaconda3\\\\\\\\lib\\\\\\\\site-packages\\\\\\\\numpy\\\\\\\\random\\\\\\\\__init__.py'>}\")\n",
      "2022-01-21 12:23:22,780:INFO:DBSMOTE: Number of clusters is 0, trying to increase eps and decrease min_samples\n",
      "2022-01-21 12:23:22,780:INFO:DBSMOTE: Running sampling via ('DBSMOTE', \"{'proportion': 1, 'eps': 1.125, 'min_samples': 3, 'n_jobs': 1, 'random_state': <module 'numpy.random' from 'C:\\\\\\\\Users\\\\\\\\oucht\\\\\\\\anaconda3\\\\\\\\lib\\\\\\\\site-packages\\\\\\\\numpy\\\\\\\\random\\\\\\\\__init__.py'>}\")\n",
      "2022-01-21 12:23:22,932:INFO:DBSMOTE: Running sampling via ('DBSMOTE', \"{'proportion': 1, 'eps': 0.5, 'min_samples': 5, 'n_jobs': 1, 'random_state': None}\")\n",
      "2022-01-21 12:23:22,940:INFO:DBSMOTE: Number of clusters is 0, trying to increase eps and decrease min_samples\n",
      "2022-01-21 12:23:22,940:INFO:DBSMOTE: Running sampling via ('DBSMOTE', \"{'proportion': 1, 'eps': 0.75, 'min_samples': 4, 'n_jobs': 1, 'random_state': <module 'numpy.random' from 'C:\\\\\\\\Users\\\\\\\\oucht\\\\\\\\anaconda3\\\\\\\\lib\\\\\\\\site-packages\\\\\\\\numpy\\\\\\\\random\\\\\\\\__init__.py'>}\")\n",
      "2022-01-21 12:23:22,948:INFO:DBSMOTE: Number of clusters is 0, trying to increase eps and decrease min_samples\n",
      "2022-01-21 12:23:22,948:INFO:DBSMOTE: Running sampling via ('DBSMOTE', \"{'proportion': 1, 'eps': 1.125, 'min_samples': 3, 'n_jobs': 1, 'random_state': <module 'numpy.random' from 'C:\\\\\\\\Users\\\\\\\\oucht\\\\\\\\anaconda3\\\\\\\\lib\\\\\\\\site-packages\\\\\\\\numpy\\\\\\\\random\\\\\\\\__init__.py'>}\")\n",
      "2022-01-21 12:23:23,097:INFO:DBSMOTE: Running sampling via ('DBSMOTE', \"{'proportion': 1, 'eps': 0.5, 'min_samples': 5, 'n_jobs': 1, 'random_state': None}\")\n",
      "2022-01-21 12:23:23,105:INFO:DBSMOTE: Number of clusters is 0, trying to increase eps and decrease min_samples\n",
      "2022-01-21 12:23:23,105:INFO:DBSMOTE: Running sampling via ('DBSMOTE', \"{'proportion': 1, 'eps': 0.75, 'min_samples': 4, 'n_jobs': 1, 'random_state': <module 'numpy.random' from 'C:\\\\\\\\Users\\\\\\\\oucht\\\\\\\\anaconda3\\\\\\\\lib\\\\\\\\site-packages\\\\\\\\numpy\\\\\\\\random\\\\\\\\__init__.py'>}\")\n",
      "2022-01-21 12:23:23,113:INFO:DBSMOTE: Number of clusters is 0, trying to increase eps and decrease min_samples\n",
      "2022-01-21 12:23:23,113:INFO:DBSMOTE: Running sampling via ('DBSMOTE', \"{'proportion': 1, 'eps': 1.125, 'min_samples': 3, 'n_jobs': 1, 'random_state': <module 'numpy.random' from 'C:\\\\\\\\Users\\\\\\\\oucht\\\\\\\\anaconda3\\\\\\\\lib\\\\\\\\site-packages\\\\\\\\numpy\\\\\\\\random\\\\\\\\__init__.py'>}\")\n",
      "2022-01-21 12:23:23,274:INFO:DBSMOTE: Running sampling via ('DBSMOTE', \"{'proportion': 1, 'eps': 0.5, 'min_samples': 5, 'n_jobs': 1, 'random_state': None}\")\n",
      "2022-01-21 12:23:23,282:INFO:DBSMOTE: Number of clusters is 0, trying to increase eps and decrease min_samples\n",
      "2022-01-21 12:23:23,282:INFO:DBSMOTE: Running sampling via ('DBSMOTE', \"{'proportion': 1, 'eps': 0.75, 'min_samples': 4, 'n_jobs': 1, 'random_state': <module 'numpy.random' from 'C:\\\\\\\\Users\\\\\\\\oucht\\\\\\\\anaconda3\\\\\\\\lib\\\\\\\\site-packages\\\\\\\\numpy\\\\\\\\random\\\\\\\\__init__.py'>}\")\n",
      "2022-01-21 12:23:23,291:INFO:DBSMOTE: Number of clusters is 0, trying to increase eps and decrease min_samples\n",
      "2022-01-21 12:23:23,291:INFO:DBSMOTE: Running sampling via ('DBSMOTE', \"{'proportion': 1, 'eps': 1.125, 'min_samples': 3, 'n_jobs': 1, 'random_state': <module 'numpy.random' from 'C:\\\\\\\\Users\\\\\\\\oucht\\\\\\\\anaconda3\\\\\\\\lib\\\\\\\\site-packages\\\\\\\\numpy\\\\\\\\random\\\\\\\\__init__.py'>}\")\n",
      "2022-01-21 12:23:23,453:INFO:DBSMOTE: Running sampling via ('DBSMOTE', \"{'proportion': 1, 'eps': 0.5, 'min_samples': 5, 'n_jobs': 1, 'random_state': None}\")\n",
      "2022-01-21 12:23:23,466:INFO:DBSMOTE: Number of clusters is 0, trying to increase eps and decrease min_samples\n"
     ]
    },
    {
     "name": "stderr",
     "output_type": "stream",
     "text": [
      "2022-01-21 12:23:23,466:INFO:DBSMOTE: Running sampling via ('DBSMOTE', \"{'proportion': 1, 'eps': 0.75, 'min_samples': 4, 'n_jobs': 1, 'random_state': <module 'numpy.random' from 'C:\\\\\\\\Users\\\\\\\\oucht\\\\\\\\anaconda3\\\\\\\\lib\\\\\\\\site-packages\\\\\\\\numpy\\\\\\\\random\\\\\\\\__init__.py'>}\")\n",
      "2022-01-21 12:23:23,474:INFO:DBSMOTE: Number of clusters is 0, trying to increase eps and decrease min_samples\n",
      "2022-01-21 12:23:23,474:INFO:DBSMOTE: Running sampling via ('DBSMOTE', \"{'proportion': 1, 'eps': 1.125, 'min_samples': 3, 'n_jobs': 1, 'random_state': <module 'numpy.random' from 'C:\\\\\\\\Users\\\\\\\\oucht\\\\\\\\anaconda3\\\\\\\\lib\\\\\\\\site-packages\\\\\\\\numpy\\\\\\\\random\\\\\\\\__init__.py'>}\")\n",
      "2022-01-21 12:23:23,614:INFO:DBSMOTE: Running sampling via ('DBSMOTE', \"{'proportion': 1, 'eps': 0.5, 'min_samples': 5, 'n_jobs': 1, 'random_state': None}\")\n",
      "2022-01-21 12:23:23,630:INFO:DBSMOTE: Number of clusters is 0, trying to increase eps and decrease min_samples\n",
      "2022-01-21 12:23:23,630:INFO:DBSMOTE: Running sampling via ('DBSMOTE', \"{'proportion': 1, 'eps': 0.75, 'min_samples': 4, 'n_jobs': 1, 'random_state': <module 'numpy.random' from 'C:\\\\\\\\Users\\\\\\\\oucht\\\\\\\\anaconda3\\\\\\\\lib\\\\\\\\site-packages\\\\\\\\numpy\\\\\\\\random\\\\\\\\__init__.py'>}\")\n",
      "2022-01-21 12:23:23,638:INFO:DBSMOTE: Number of clusters is 0, trying to increase eps and decrease min_samples\n",
      "2022-01-21 12:23:23,638:INFO:DBSMOTE: Running sampling via ('DBSMOTE', \"{'proportion': 1, 'eps': 1.125, 'min_samples': 3, 'n_jobs': 1, 'random_state': <module 'numpy.random' from 'C:\\\\\\\\Users\\\\\\\\oucht\\\\\\\\anaconda3\\\\\\\\lib\\\\\\\\site-packages\\\\\\\\numpy\\\\\\\\random\\\\\\\\__init__.py'>}\")\n",
      "2022-01-21 12:23:23,818:INFO:DBSMOTE: Running sampling via ('DBSMOTE', \"{'proportion': 1, 'eps': 0.5, 'min_samples': 5, 'n_jobs': 1, 'random_state': None}\")\n",
      "2022-01-21 12:23:23,826:INFO:DBSMOTE: Number of clusters is 0, trying to increase eps and decrease min_samples\n",
      "2022-01-21 12:23:23,826:INFO:DBSMOTE: Running sampling via ('DBSMOTE', \"{'proportion': 1, 'eps': 0.75, 'min_samples': 4, 'n_jobs': 1, 'random_state': <module 'numpy.random' from 'C:\\\\\\\\Users\\\\\\\\oucht\\\\\\\\anaconda3\\\\\\\\lib\\\\\\\\site-packages\\\\\\\\numpy\\\\\\\\random\\\\\\\\__init__.py'>}\")\n",
      "2022-01-21 12:23:23,834:INFO:DBSMOTE: Number of clusters is 0, trying to increase eps and decrease min_samples\n",
      "2022-01-21 12:23:23,834:INFO:DBSMOTE: Running sampling via ('DBSMOTE', \"{'proportion': 1, 'eps': 1.125, 'min_samples': 3, 'n_jobs': 1, 'random_state': <module 'numpy.random' from 'C:\\\\\\\\Users\\\\\\\\oucht\\\\\\\\anaconda3\\\\\\\\lib\\\\\\\\site-packages\\\\\\\\numpy\\\\\\\\random\\\\\\\\__init__.py'>}\")\n",
      "2022-01-21 12:23:24,033:INFO:DBSMOTE: Running sampling via ('DBSMOTE', \"{'proportion': 5, 'eps': 1.2, 'min_samples': 5, 'n_jobs': 1, 'random_state': None}\")\n",
      "2022-01-21 12:23:24,188:INFO:DBSMOTE: Running sampling via ('DBSMOTE', \"{'proportion': 5, 'eps': 1.2, 'min_samples': 5, 'n_jobs': 1, 'random_state': None}\")\n",
      "2022-01-21 12:23:24,345:INFO:DBSMOTE: Running sampling via ('DBSMOTE', \"{'proportion': 5, 'eps': 1.2, 'min_samples': 5, 'n_jobs': 1, 'random_state': None}\")\n",
      "2022-01-21 12:23:24,521:INFO:DBSMOTE: Running sampling via ('DBSMOTE', \"{'proportion': 5, 'eps': 1.2, 'min_samples': 5, 'n_jobs': 1, 'random_state': None}\")\n",
      "2022-01-21 12:23:24,670:INFO:DBSMOTE: Running sampling via ('DBSMOTE', \"{'proportion': 5, 'eps': 1.2, 'min_samples': 5, 'n_jobs': 1, 'random_state': None}\")\n",
      "2022-01-21 12:23:24,818:INFO:DBSMOTE: Running sampling via ('DBSMOTE', \"{'proportion': 5, 'eps': 1.2, 'min_samples': 5, 'n_jobs': 1, 'random_state': None}\")\n",
      "2022-01-21 12:23:24,984:INFO:DBSMOTE: Running sampling via ('DBSMOTE', \"{'proportion': 5, 'eps': 1.2, 'min_samples': 5, 'n_jobs': 1, 'random_state': None}\")\n",
      "2022-01-21 12:23:25,126:INFO:DBSMOTE: Running sampling via ('DBSMOTE', \"{'proportion': 5, 'eps': 1.2, 'min_samples': 5, 'n_jobs': 1, 'random_state': None}\")\n",
      "2022-01-21 12:23:25,273:INFO:DBSMOTE: Running sampling via ('DBSMOTE', \"{'proportion': 5, 'eps': 1.2, 'min_samples': 5, 'n_jobs': 1, 'random_state': None}\")\n",
      "2022-01-21 12:23:25,437:INFO:DBSMOTE: Running sampling via ('DBSMOTE', \"{'proportion': 5, 'eps': 1.2, 'min_samples': 5, 'n_jobs': 1, 'random_state': None}\")\n",
      "2022-01-21 12:23:25,586:INFO:DBSMOTE: Running sampling via ('DBSMOTE', \"{'proportion': 1, 'eps': 0.8, 'min_samples': 3, 'n_jobs': 1, 'random_state': None}\")\n",
      "C:\\Users\\oucht\\anaconda3\\lib\\site-packages\\sklearn\\svm\\_base.py:976: ConvergenceWarning: Liblinear failed to converge, increase the number of iterations.\n",
      "  warnings.warn(\"Liblinear failed to converge, increase \"\n",
      "2022-01-21 12:23:25,671:INFO:DBSMOTE: Running sampling via ('DBSMOTE', \"{'proportion': 1, 'eps': 0.8, 'min_samples': 3, 'n_jobs': 1, 'random_state': None}\")\n",
      "C:\\Users\\oucht\\anaconda3\\lib\\site-packages\\sklearn\\svm\\_base.py:976: ConvergenceWarning: Liblinear failed to converge, increase the number of iterations.\n",
      "  warnings.warn(\"Liblinear failed to converge, increase \"\n",
      "2022-01-21 12:23:25,777:INFO:DBSMOTE: Running sampling via ('DBSMOTE', \"{'proportion': 1, 'eps': 0.8, 'min_samples': 3, 'n_jobs': 1, 'random_state': None}\")\n",
      "C:\\Users\\oucht\\anaconda3\\lib\\site-packages\\sklearn\\svm\\_base.py:976: ConvergenceWarning: Liblinear failed to converge, increase the number of iterations.\n",
      "  warnings.warn(\"Liblinear failed to converge, increase \"\n",
      "2022-01-21 12:23:25,849:INFO:DBSMOTE: Running sampling via ('DBSMOTE', \"{'proportion': 1, 'eps': 0.8, 'min_samples': 3, 'n_jobs': 1, 'random_state': None}\")\n",
      "C:\\Users\\oucht\\anaconda3\\lib\\site-packages\\sklearn\\svm\\_base.py:976: ConvergenceWarning: Liblinear failed to converge, increase the number of iterations.\n",
      "  warnings.warn(\"Liblinear failed to converge, increase \"\n",
      "2022-01-21 12:23:25,918:INFO:DBSMOTE: Running sampling via ('DBSMOTE', \"{'proportion': 1, 'eps': 0.8, 'min_samples': 3, 'n_jobs': 1, 'random_state': None}\")\n",
      "C:\\Users\\oucht\\anaconda3\\lib\\site-packages\\sklearn\\svm\\_base.py:976: ConvergenceWarning: Liblinear failed to converge, increase the number of iterations.\n",
      "  warnings.warn(\"Liblinear failed to converge, increase \"\n",
      "2022-01-21 12:23:26,002:INFO:DBSMOTE: Running sampling via ('DBSMOTE', \"{'proportion': 1, 'eps': 0.8, 'min_samples': 3, 'n_jobs': 1, 'random_state': None}\")\n",
      "C:\\Users\\oucht\\anaconda3\\lib\\site-packages\\sklearn\\svm\\_base.py:976: ConvergenceWarning: Liblinear failed to converge, increase the number of iterations.\n",
      "  warnings.warn(\"Liblinear failed to converge, increase \"\n",
      "2022-01-21 12:23:26,079:INFO:DBSMOTE: Running sampling via ('DBSMOTE', \"{'proportion': 1, 'eps': 0.8, 'min_samples': 3, 'n_jobs': 1, 'random_state': None}\")\n",
      "C:\\Users\\oucht\\anaconda3\\lib\\site-packages\\sklearn\\svm\\_base.py:976: ConvergenceWarning: Liblinear failed to converge, increase the number of iterations.\n",
      "  warnings.warn(\"Liblinear failed to converge, increase \"\n",
      "2022-01-21 12:23:26,148:INFO:DBSMOTE: Running sampling via ('DBSMOTE', \"{'proportion': 1, 'eps': 0.8, 'min_samples': 3, 'n_jobs': 1, 'random_state': None}\")\n",
      "C:\\Users\\oucht\\anaconda3\\lib\\site-packages\\sklearn\\svm\\_base.py:976: ConvergenceWarning: Liblinear failed to converge, increase the number of iterations.\n",
      "  warnings.warn(\"Liblinear failed to converge, increase \"\n",
      "2022-01-21 12:23:26,248:INFO:DBSMOTE: Running sampling via ('DBSMOTE', \"{'proportion': 1, 'eps': 0.8, 'min_samples': 3, 'n_jobs': 1, 'random_state': None}\")\n",
      "C:\\Users\\oucht\\anaconda3\\lib\\site-packages\\sklearn\\svm\\_base.py:976: ConvergenceWarning: Liblinear failed to converge, increase the number of iterations.\n",
      "  warnings.warn(\"Liblinear failed to converge, increase \"\n",
      "2022-01-21 12:23:26,353:INFO:DBSMOTE: Running sampling via ('DBSMOTE', \"{'proportion': 1, 'eps': 0.8, 'min_samples': 3, 'n_jobs': 1, 'random_state': None}\")\n",
      "C:\\Users\\oucht\\anaconda3\\lib\\site-packages\\sklearn\\svm\\_base.py:976: ConvergenceWarning: Liblinear failed to converge, increase the number of iterations.\n",
      "  warnings.warn(\"Liblinear failed to converge, increase \"\n",
      "2022-01-21 12:23:26,461:INFO:DBSMOTE: Running sampling via ('DBSMOTE', \"{'proportion': 10, 'eps': 1.0, 'min_samples': 1, 'n_jobs': 1, 'random_state': None}\")\n"
     ]
    },
    {
     "name": "stdout",
     "output_type": "stream",
     "text": [
      "yeast6\n"
     ]
    },
    {
     "name": "stderr",
     "output_type": "stream",
     "text": [
      "2022-01-21 12:23:34,625:INFO:DBSMOTE: Running sampling via ('DBSMOTE', \"{'proportion': 10, 'eps': 1.0, 'min_samples': 1, 'n_jobs': 1, 'random_state': None}\")\n",
      "2022-01-21 12:23:42,078:INFO:DBSMOTE: Running sampling via ('DBSMOTE', \"{'proportion': 10, 'eps': 1.0, 'min_samples': 1, 'n_jobs': 1, 'random_state': None}\")\n",
      "2022-01-21 12:23:50,686:INFO:DBSMOTE: Running sampling via ('DBSMOTE', \"{'proportion': 10, 'eps': 1.0, 'min_samples': 1, 'n_jobs': 1, 'random_state': None}\")\n",
      "2022-01-21 12:23:58,918:INFO:DBSMOTE: Running sampling via ('DBSMOTE', \"{'proportion': 10, 'eps': 1.0, 'min_samples': 1, 'n_jobs': 1, 'random_state': None}\")\n",
      "2022-01-21 12:24:06,045:INFO:DBSMOTE: Running sampling via ('DBSMOTE', \"{'proportion': 10, 'eps': 1.0, 'min_samples': 1, 'n_jobs': 1, 'random_state': None}\")\n",
      "2022-01-21 12:24:13,405:INFO:DBSMOTE: Running sampling via ('DBSMOTE', \"{'proportion': 10, 'eps': 1.0, 'min_samples': 1, 'n_jobs': 1, 'random_state': None}\")\n",
      "2022-01-21 12:24:21,319:INFO:DBSMOTE: Running sampling via ('DBSMOTE', \"{'proportion': 10, 'eps': 1.0, 'min_samples': 1, 'n_jobs': 1, 'random_state': None}\")\n",
      "2022-01-21 12:24:28,636:INFO:DBSMOTE: Running sampling via ('DBSMOTE', \"{'proportion': 10, 'eps': 1.0, 'min_samples': 1, 'n_jobs': 1, 'random_state': None}\")\n",
      "2022-01-21 12:24:37,479:INFO:DBSMOTE: Running sampling via ('DBSMOTE', \"{'proportion': 10, 'eps': 1.0, 'min_samples': 1, 'n_jobs': 1, 'random_state': None}\")\n",
      "2022-01-21 12:24:46,760:INFO:DBSMOTE: Running sampling via ('DBSMOTE', \"{'proportion': 1, 'eps': 0.8, 'min_samples': 5, 'n_jobs': 1, 'random_state': None}\")\n",
      "2022-01-21 12:24:47,141:INFO:DBSMOTE: Running sampling via ('DBSMOTE', \"{'proportion': 1, 'eps': 0.8, 'min_samples': 5, 'n_jobs': 1, 'random_state': None}\")\n",
      "2022-01-21 12:24:47,149:INFO:DBSMOTE: Number of clusters is 0, trying to increase eps and decrease min_samples\n",
      "2022-01-21 12:24:47,150:INFO:DBSMOTE: Running sampling via ('DBSMOTE', \"{'proportion': 1, 'eps': 1.2000000000000002, 'min_samples': 4, 'n_jobs': 1, 'random_state': <module 'numpy.random' from 'C:\\\\\\\\Users\\\\\\\\oucht\\\\\\\\anaconda3\\\\\\\\lib\\\\\\\\site-packages\\\\\\\\numpy\\\\\\\\random\\\\\\\\__init__.py'>}\")\n",
      "2022-01-21 12:24:47,638:INFO:DBSMOTE: Running sampling via ('DBSMOTE', \"{'proportion': 1, 'eps': 0.8, 'min_samples': 5, 'n_jobs': 1, 'random_state': None}\")\n",
      "2022-01-21 12:24:47,646:INFO:DBSMOTE: Number of clusters is 0, trying to increase eps and decrease min_samples\n",
      "2022-01-21 12:24:47,646:INFO:DBSMOTE: Running sampling via ('DBSMOTE', \"{'proportion': 1, 'eps': 1.2000000000000002, 'min_samples': 4, 'n_jobs': 1, 'random_state': <module 'numpy.random' from 'C:\\\\\\\\Users\\\\\\\\oucht\\\\\\\\anaconda3\\\\\\\\lib\\\\\\\\site-packages\\\\\\\\numpy\\\\\\\\random\\\\\\\\__init__.py'>}\")\n",
      "2022-01-21 12:24:48,140:INFO:DBSMOTE: Running sampling via ('DBSMOTE', \"{'proportion': 1, 'eps': 0.8, 'min_samples': 5, 'n_jobs': 1, 'random_state': None}\")\n",
      "2022-01-21 12:24:48,148:INFO:DBSMOTE: Number of clusters is 0, trying to increase eps and decrease min_samples\n",
      "2022-01-21 12:24:48,148:INFO:DBSMOTE: Running sampling via ('DBSMOTE', \"{'proportion': 1, 'eps': 1.2000000000000002, 'min_samples': 4, 'n_jobs': 1, 'random_state': <module 'numpy.random' from 'C:\\\\\\\\Users\\\\\\\\oucht\\\\\\\\anaconda3\\\\\\\\lib\\\\\\\\site-packages\\\\\\\\numpy\\\\\\\\random\\\\\\\\__init__.py'>}\")\n",
      "2022-01-21 12:24:48,577:INFO:DBSMOTE: Running sampling via ('DBSMOTE', \"{'proportion': 1, 'eps': 0.8, 'min_samples': 5, 'n_jobs': 1, 'random_state': None}\")\n",
      "2022-01-21 12:24:48,585:INFO:DBSMOTE: Number of clusters is 0, trying to increase eps and decrease min_samples\n",
      "2022-01-21 12:24:48,585:INFO:DBSMOTE: Running sampling via ('DBSMOTE', \"{'proportion': 1, 'eps': 1.2000000000000002, 'min_samples': 4, 'n_jobs': 1, 'random_state': <module 'numpy.random' from 'C:\\\\\\\\Users\\\\\\\\oucht\\\\\\\\anaconda3\\\\\\\\lib\\\\\\\\site-packages\\\\\\\\numpy\\\\\\\\random\\\\\\\\__init__.py'>}\")\n",
      "2022-01-21 12:24:49,053:INFO:DBSMOTE: Running sampling via ('DBSMOTE', \"{'proportion': 1, 'eps': 0.8, 'min_samples': 5, 'n_jobs': 1, 'random_state': None}\")\n",
      "2022-01-21 12:24:49,053:INFO:DBSMOTE: Number of clusters is 0, trying to increase eps and decrease min_samples\n",
      "2022-01-21 12:24:49,062:INFO:DBSMOTE: Running sampling via ('DBSMOTE', \"{'proportion': 1, 'eps': 1.2000000000000002, 'min_samples': 4, 'n_jobs': 1, 'random_state': <module 'numpy.random' from 'C:\\\\\\\\Users\\\\\\\\oucht\\\\\\\\anaconda3\\\\\\\\lib\\\\\\\\site-packages\\\\\\\\numpy\\\\\\\\random\\\\\\\\__init__.py'>}\")\n",
      "2022-01-21 12:24:49,467:INFO:DBSMOTE: Running sampling via ('DBSMOTE', \"{'proportion': 1, 'eps': 0.8, 'min_samples': 5, 'n_jobs': 1, 'random_state': None}\")\n",
      "2022-01-21 12:24:49,831:INFO:DBSMOTE: Running sampling via ('DBSMOTE', \"{'proportion': 1, 'eps': 0.8, 'min_samples': 5, 'n_jobs': 1, 'random_state': None}\")\n",
      "2022-01-21 12:24:49,839:INFO:DBSMOTE: Number of clusters is 0, trying to increase eps and decrease min_samples\n",
      "2022-01-21 12:24:49,839:INFO:DBSMOTE: Running sampling via ('DBSMOTE', \"{'proportion': 1, 'eps': 1.2000000000000002, 'min_samples': 4, 'n_jobs': 1, 'random_state': <module 'numpy.random' from 'C:\\\\\\\\Users\\\\\\\\oucht\\\\\\\\anaconda3\\\\\\\\lib\\\\\\\\site-packages\\\\\\\\numpy\\\\\\\\random\\\\\\\\__init__.py'>}\")\n",
      "2022-01-21 12:24:50,193:INFO:DBSMOTE: Running sampling via ('DBSMOTE', \"{'proportion': 1, 'eps': 0.8, 'min_samples': 5, 'n_jobs': 1, 'random_state': None}\")\n",
      "2022-01-21 12:24:50,201:INFO:DBSMOTE: Number of clusters is 0, trying to increase eps and decrease min_samples\n",
      "2022-01-21 12:24:50,201:INFO:DBSMOTE: Running sampling via ('DBSMOTE', \"{'proportion': 1, 'eps': 1.2000000000000002, 'min_samples': 4, 'n_jobs': 1, 'random_state': <module 'numpy.random' from 'C:\\\\\\\\Users\\\\\\\\oucht\\\\\\\\anaconda3\\\\\\\\lib\\\\\\\\site-packages\\\\\\\\numpy\\\\\\\\random\\\\\\\\__init__.py'>}\")\n",
      "2022-01-21 12:24:50,610:INFO:DBSMOTE: Running sampling via ('DBSMOTE', \"{'proportion': 1, 'eps': 0.8, 'min_samples': 5, 'n_jobs': 1, 'random_state': None}\")\n",
      "2022-01-21 12:24:50,619:INFO:DBSMOTE: Number of clusters is 0, trying to increase eps and decrease min_samples\n",
      "2022-01-21 12:24:50,619:INFO:DBSMOTE: Running sampling via ('DBSMOTE', \"{'proportion': 1, 'eps': 1.2000000000000002, 'min_samples': 4, 'n_jobs': 1, 'random_state': <module 'numpy.random' from 'C:\\\\\\\\Users\\\\\\\\oucht\\\\\\\\anaconda3\\\\\\\\lib\\\\\\\\site-packages\\\\\\\\numpy\\\\\\\\random\\\\\\\\__init__.py'>}\")\n",
      "2022-01-21 12:24:51,030:INFO:DBSMOTE: Running sampling via ('DBSMOTE', \"{'proportion': 1, 'eps': 1.0, 'min_samples': 1, 'n_jobs': 1, 'random_state': None}\")\n",
      "2022-01-21 12:24:51,228:INFO:DBSMOTE: Running sampling via ('DBSMOTE', \"{'proportion': 1, 'eps': 1.0, 'min_samples': 1, 'n_jobs': 1, 'random_state': None}\")\n",
      "2022-01-21 12:24:51,387:INFO:DBSMOTE: Running sampling via ('DBSMOTE', \"{'proportion': 1, 'eps': 1.0, 'min_samples': 1, 'n_jobs': 1, 'random_state': None}\")\n",
      "2022-01-21 12:24:51,550:INFO:DBSMOTE: Running sampling via ('DBSMOTE', \"{'proportion': 1, 'eps': 1.0, 'min_samples': 1, 'n_jobs': 1, 'random_state': None}\")\n",
      "2022-01-21 12:24:51,702:INFO:DBSMOTE: Running sampling via ('DBSMOTE', \"{'proportion': 1, 'eps': 1.0, 'min_samples': 1, 'n_jobs': 1, 'random_state': None}\")\n",
      "2022-01-21 12:24:51,862:INFO:DBSMOTE: Running sampling via ('DBSMOTE', \"{'proportion': 1, 'eps': 1.0, 'min_samples': 1, 'n_jobs': 1, 'random_state': None}\")\n",
      "2022-01-21 12:24:52,050:INFO:DBSMOTE: Running sampling via ('DBSMOTE', \"{'proportion': 1, 'eps': 1.0, 'min_samples': 1, 'n_jobs': 1, 'random_state': None}\")\n",
      "2022-01-21 12:24:52,198:INFO:DBSMOTE: Running sampling via ('DBSMOTE', \"{'proportion': 1, 'eps': 1.0, 'min_samples': 1, 'n_jobs': 1, 'random_state': None}\")\n",
      "2022-01-21 12:24:52,334:INFO:DBSMOTE: Running sampling via ('DBSMOTE', \"{'proportion': 1, 'eps': 1.0, 'min_samples': 1, 'n_jobs': 1, 'random_state': None}\")\n",
      "2022-01-21 12:24:52,519:INFO:DBSMOTE: Running sampling via ('DBSMOTE', \"{'proportion': 1, 'eps': 1.0, 'min_samples': 1, 'n_jobs': 1, 'random_state': None}\")\n",
      "2022-01-21 12:24:52,697:INFO:DBSMOTE: Running sampling via ('DBSMOTE', \"{'proportion': 1, 'eps': 0.8, 'min_samples': 5, 'n_jobs': 1, 'random_state': None}\")\n",
      "2022-01-21 12:24:52,705:INFO:DBSMOTE: Number of clusters is 0, trying to increase eps and decrease min_samples\n",
      "2022-01-21 12:24:52,705:INFO:DBSMOTE: Running sampling via ('DBSMOTE', \"{'proportion': 1, 'eps': 1.2000000000000002, 'min_samples': 4, 'n_jobs': 1, 'random_state': <module 'numpy.random' from 'C:\\\\\\\\Users\\\\\\\\oucht\\\\\\\\anaconda3\\\\\\\\lib\\\\\\\\site-packages\\\\\\\\numpy\\\\\\\\random\\\\\\\\__init__.py'>}\")\n"
     ]
    },
    {
     "name": "stderr",
     "output_type": "stream",
     "text": [
      "2022-01-21 12:24:52,882:INFO:DBSMOTE: Running sampling via ('DBSMOTE', \"{'proportion': 1, 'eps': 0.8, 'min_samples': 5, 'n_jobs': 1, 'random_state': None}\")\n",
      "2022-01-21 12:24:53,036:INFO:DBSMOTE: Running sampling via ('DBSMOTE', \"{'proportion': 1, 'eps': 0.8, 'min_samples': 5, 'n_jobs': 1, 'random_state': None}\")\n",
      "2022-01-21 12:24:53,044:INFO:DBSMOTE: Number of clusters is 0, trying to increase eps and decrease min_samples\n",
      "2022-01-21 12:24:53,044:INFO:DBSMOTE: Running sampling via ('DBSMOTE', \"{'proportion': 1, 'eps': 1.2000000000000002, 'min_samples': 4, 'n_jobs': 1, 'random_state': <module 'numpy.random' from 'C:\\\\\\\\Users\\\\\\\\oucht\\\\\\\\anaconda3\\\\\\\\lib\\\\\\\\site-packages\\\\\\\\numpy\\\\\\\\random\\\\\\\\__init__.py'>}\")\n",
      "2022-01-21 12:24:53,217:INFO:DBSMOTE: Running sampling via ('DBSMOTE', \"{'proportion': 1, 'eps': 0.8, 'min_samples': 5, 'n_jobs': 1, 'random_state': None}\")\n",
      "2022-01-21 12:24:53,225:INFO:DBSMOTE: Number of clusters is 0, trying to increase eps and decrease min_samples\n",
      "2022-01-21 12:24:53,225:INFO:DBSMOTE: Running sampling via ('DBSMOTE', \"{'proportion': 1, 'eps': 1.2000000000000002, 'min_samples': 4, 'n_jobs': 1, 'random_state': <module 'numpy.random' from 'C:\\\\\\\\Users\\\\\\\\oucht\\\\\\\\anaconda3\\\\\\\\lib\\\\\\\\site-packages\\\\\\\\numpy\\\\\\\\random\\\\\\\\__init__.py'>}\")\n",
      "2022-01-21 12:24:53,393:INFO:DBSMOTE: Running sampling via ('DBSMOTE', \"{'proportion': 1, 'eps': 0.8, 'min_samples': 5, 'n_jobs': 1, 'random_state': None}\")\n",
      "2022-01-21 12:24:53,401:INFO:DBSMOTE: Number of clusters is 0, trying to increase eps and decrease min_samples\n",
      "2022-01-21 12:24:53,409:INFO:DBSMOTE: Running sampling via ('DBSMOTE', \"{'proportion': 1, 'eps': 1.2000000000000002, 'min_samples': 4, 'n_jobs': 1, 'random_state': <module 'numpy.random' from 'C:\\\\\\\\Users\\\\\\\\oucht\\\\\\\\anaconda3\\\\\\\\lib\\\\\\\\site-packages\\\\\\\\numpy\\\\\\\\random\\\\\\\\__init__.py'>}\")\n",
      "2022-01-21 12:24:53,561:INFO:DBSMOTE: Running sampling via ('DBSMOTE', \"{'proportion': 1, 'eps': 0.8, 'min_samples': 5, 'n_jobs': 1, 'random_state': None}\")\n",
      "2022-01-21 12:24:53,569:INFO:DBSMOTE: Number of clusters is 0, trying to increase eps and decrease min_samples\n",
      "2022-01-21 12:24:53,569:INFO:DBSMOTE: Running sampling via ('DBSMOTE', \"{'proportion': 1, 'eps': 1.2000000000000002, 'min_samples': 4, 'n_jobs': 1, 'random_state': <module 'numpy.random' from 'C:\\\\\\\\Users\\\\\\\\oucht\\\\\\\\anaconda3\\\\\\\\lib\\\\\\\\site-packages\\\\\\\\numpy\\\\\\\\random\\\\\\\\__init__.py'>}\")\n",
      "2022-01-21 12:24:53,793:INFO:DBSMOTE: Running sampling via ('DBSMOTE', \"{'proportion': 1, 'eps': 0.8, 'min_samples': 5, 'n_jobs': 1, 'random_state': None}\")\n",
      "2022-01-21 12:24:53,793:INFO:DBSMOTE: Number of clusters is 0, trying to increase eps and decrease min_samples\n",
      "2022-01-21 12:24:53,799:INFO:DBSMOTE: Running sampling via ('DBSMOTE', \"{'proportion': 1, 'eps': 1.2000000000000002, 'min_samples': 4, 'n_jobs': 1, 'random_state': <module 'numpy.random' from 'C:\\\\\\\\Users\\\\\\\\oucht\\\\\\\\anaconda3\\\\\\\\lib\\\\\\\\site-packages\\\\\\\\numpy\\\\\\\\random\\\\\\\\__init__.py'>}\")\n",
      "2022-01-21 12:24:53,962:INFO:DBSMOTE: Running sampling via ('DBSMOTE', \"{'proportion': 1, 'eps': 0.8, 'min_samples': 5, 'n_jobs': 1, 'random_state': None}\")\n",
      "2022-01-21 12:24:53,970:INFO:DBSMOTE: Number of clusters is 0, trying to increase eps and decrease min_samples\n",
      "2022-01-21 12:24:53,970:INFO:DBSMOTE: Running sampling via ('DBSMOTE', \"{'proportion': 1, 'eps': 1.2000000000000002, 'min_samples': 4, 'n_jobs': 1, 'random_state': <module 'numpy.random' from 'C:\\\\\\\\Users\\\\\\\\oucht\\\\\\\\anaconda3\\\\\\\\lib\\\\\\\\site-packages\\\\\\\\numpy\\\\\\\\random\\\\\\\\__init__.py'>}\")\n",
      "2022-01-21 12:24:54,155:INFO:DBSMOTE: Running sampling via ('DBSMOTE', \"{'proportion': 1, 'eps': 0.8, 'min_samples': 5, 'n_jobs': 1, 'random_state': None}\")\n",
      "2022-01-21 12:24:54,339:INFO:DBSMOTE: Running sampling via ('DBSMOTE', \"{'proportion': 1, 'eps': 0.8, 'min_samples': 5, 'n_jobs': 1, 'random_state': None}\")\n",
      "2022-01-21 12:24:54,344:INFO:DBSMOTE: Number of clusters is 0, trying to increase eps and decrease min_samples\n",
      "2022-01-21 12:24:54,348:INFO:DBSMOTE: Running sampling via ('DBSMOTE', \"{'proportion': 1, 'eps': 1.2000000000000002, 'min_samples': 4, 'n_jobs': 1, 'random_state': <module 'numpy.random' from 'C:\\\\\\\\Users\\\\\\\\oucht\\\\\\\\anaconda3\\\\\\\\lib\\\\\\\\site-packages\\\\\\\\numpy\\\\\\\\random\\\\\\\\__init__.py'>}\")\n",
      "2022-01-21 12:24:54,535:INFO:DBSMOTE: Running sampling via ('DBSMOTE', \"{'proportion': 2, 'eps': 0.5, 'min_samples': 5, 'n_jobs': 1, 'random_state': None}\")\n"
     ]
    },
    {
     "name": "stdout",
     "output_type": "stream",
     "text": [
      "page_blocks\n"
     ]
    },
    {
     "name": "stderr",
     "output_type": "stream",
     "text": [
      "2022-01-21 12:24:54,907:INFO:DBSMOTE: Running sampling via ('DBSMOTE', \"{'proportion': 2, 'eps': 0.5, 'min_samples': 5, 'n_jobs': 1, 'random_state': None}\")\n",
      "2022-01-21 12:24:55,270:INFO:DBSMOTE: Running sampling via ('DBSMOTE', \"{'proportion': 2, 'eps': 0.5, 'min_samples': 5, 'n_jobs': 1, 'random_state': None}\")\n",
      "2022-01-21 12:24:55,701:INFO:DBSMOTE: Running sampling via ('DBSMOTE', \"{'proportion': 2, 'eps': 0.5, 'min_samples': 5, 'n_jobs': 1, 'random_state': None}\")\n",
      "2022-01-21 12:24:56,114:INFO:DBSMOTE: Running sampling via ('DBSMOTE', \"{'proportion': 2, 'eps': 0.5, 'min_samples': 5, 'n_jobs': 1, 'random_state': None}\")\n",
      "2022-01-21 12:24:56,115:INFO:DBSMOTE: Number of clusters is 0, trying to increase eps and decrease min_samples\n",
      "2022-01-21 12:24:56,115:INFO:DBSMOTE: Running sampling via ('DBSMOTE', \"{'proportion': 2, 'eps': 0.75, 'min_samples': 4, 'n_jobs': 1, 'random_state': <module 'numpy.random' from 'C:\\\\\\\\Users\\\\\\\\oucht\\\\\\\\anaconda3\\\\\\\\lib\\\\\\\\site-packages\\\\\\\\numpy\\\\\\\\random\\\\\\\\__init__.py'>}\")\n",
      "2022-01-21 12:24:56,125:INFO:DBSMOTE: Number of clusters is 0, trying to increase eps and decrease min_samples\n",
      "2022-01-21 12:24:56,125:INFO:DBSMOTE: Running sampling via ('DBSMOTE', \"{'proportion': 2, 'eps': 1.125, 'min_samples': 3, 'n_jobs': 1, 'random_state': <module 'numpy.random' from 'C:\\\\\\\\Users\\\\\\\\oucht\\\\\\\\anaconda3\\\\\\\\lib\\\\\\\\site-packages\\\\\\\\numpy\\\\\\\\random\\\\\\\\__init__.py'>}\")\n",
      "2022-01-21 12:24:56,540:INFO:DBSMOTE: Running sampling via ('DBSMOTE', \"{'proportion': 2, 'eps': 0.5, 'min_samples': 5, 'n_jobs': 1, 'random_state': None}\")\n",
      "2022-01-21 12:24:56,924:INFO:DBSMOTE: Running sampling via ('DBSMOTE', \"{'proportion': 2, 'eps': 0.5, 'min_samples': 5, 'n_jobs': 1, 'random_state': None}\")\n",
      "2022-01-21 12:24:57,289:INFO:DBSMOTE: Running sampling via ('DBSMOTE', \"{'proportion': 2, 'eps': 0.5, 'min_samples': 5, 'n_jobs': 1, 'random_state': None}\")\n",
      "2022-01-21 12:24:57,667:INFO:DBSMOTE: Running sampling via ('DBSMOTE', \"{'proportion': 2, 'eps': 0.5, 'min_samples': 5, 'n_jobs': 1, 'random_state': None}\")\n",
      "2022-01-21 12:24:58,007:INFO:DBSMOTE: Running sampling via ('DBSMOTE', \"{'proportion': 2, 'eps': 0.5, 'min_samples': 5, 'n_jobs': 1, 'random_state': None}\")\n",
      "2022-01-21 12:24:58,360:INFO:DBSMOTE: Running sampling via ('DBSMOTE', \"{'proportion': 2, 'eps': 0.8, 'min_samples': 5, 'n_jobs': 1, 'random_state': None}\")\n",
      "2022-01-21 12:24:58,562:INFO:DBSMOTE: Running sampling via ('DBSMOTE', \"{'proportion': 2, 'eps': 0.8, 'min_samples': 5, 'n_jobs': 1, 'random_state': None}\")\n",
      "2022-01-21 12:24:58,725:INFO:DBSMOTE: Running sampling via ('DBSMOTE', \"{'proportion': 2, 'eps': 0.8, 'min_samples': 5, 'n_jobs': 1, 'random_state': None}\")\n",
      "2022-01-21 12:24:58,934:INFO:DBSMOTE: Running sampling via ('DBSMOTE', \"{'proportion': 2, 'eps': 0.8, 'min_samples': 5, 'n_jobs': 1, 'random_state': None}\")\n",
      "2022-01-21 12:24:59,142:INFO:DBSMOTE: Running sampling via ('DBSMOTE', \"{'proportion': 2, 'eps': 0.8, 'min_samples': 5, 'n_jobs': 1, 'random_state': None}\")\n",
      "2022-01-21 12:24:59,345:INFO:DBSMOTE: Running sampling via ('DBSMOTE', \"{'proportion': 2, 'eps': 0.8, 'min_samples': 5, 'n_jobs': 1, 'random_state': None}\")\n",
      "2022-01-21 12:24:59,513:INFO:DBSMOTE: Running sampling via ('DBSMOTE', \"{'proportion': 2, 'eps': 0.8, 'min_samples': 5, 'n_jobs': 1, 'random_state': None}\")\n",
      "2022-01-21 12:24:59,716:INFO:DBSMOTE: Running sampling via ('DBSMOTE', \"{'proportion': 2, 'eps': 0.8, 'min_samples': 5, 'n_jobs': 1, 'random_state': None}\")\n",
      "2022-01-21 12:24:59,890:INFO:DBSMOTE: Running sampling via ('DBSMOTE', \"{'proportion': 2, 'eps': 0.8, 'min_samples': 5, 'n_jobs': 1, 'random_state': None}\")\n",
      "2022-01-21 12:25:00,081:INFO:DBSMOTE: Running sampling via ('DBSMOTE', \"{'proportion': 2, 'eps': 0.8, 'min_samples': 5, 'n_jobs': 1, 'random_state': None}\")\n",
      "2022-01-21 12:25:00,243:INFO:DBSMOTE: Running sampling via ('DBSMOTE', \"{'proportion': 1, 'eps': 0.5, 'min_samples': 2, 'n_jobs': 1, 'random_state': None}\")\n",
      "2022-01-21 12:25:00,324:INFO:DBSMOTE: Running sampling via ('DBSMOTE', \"{'proportion': 1, 'eps': 0.5, 'min_samples': 2, 'n_jobs': 1, 'random_state': None}\")\n",
      "2022-01-21 12:25:00,404:INFO:DBSMOTE: Running sampling via ('DBSMOTE', \"{'proportion': 1, 'eps': 0.5, 'min_samples': 2, 'n_jobs': 1, 'random_state': None}\")\n",
      "2022-01-21 12:25:00,497:INFO:DBSMOTE: Running sampling via ('DBSMOTE', \"{'proportion': 1, 'eps': 0.5, 'min_samples': 2, 'n_jobs': 1, 'random_state': None}\")\n",
      "2022-01-21 12:25:00,554:INFO:DBSMOTE: Running sampling via ('DBSMOTE', \"{'proportion': 1, 'eps': 0.5, 'min_samples': 2, 'n_jobs': 1, 'random_state': None}\")\n",
      "2022-01-21 12:25:00,631:INFO:DBSMOTE: Running sampling via ('DBSMOTE', \"{'proportion': 1, 'eps': 0.5, 'min_samples': 2, 'n_jobs': 1, 'random_state': None}\")\n",
      "2022-01-21 12:25:00,713:INFO:DBSMOTE: Running sampling via ('DBSMOTE', \"{'proportion': 1, 'eps': 0.5, 'min_samples': 2, 'n_jobs': 1, 'random_state': None}\")\n",
      "2022-01-21 12:25:00,796:INFO:DBSMOTE: Running sampling via ('DBSMOTE', \"{'proportion': 1, 'eps': 0.5, 'min_samples': 2, 'n_jobs': 1, 'random_state': None}\")\n",
      "2022-01-21 12:25:00,872:INFO:DBSMOTE: Running sampling via ('DBSMOTE', \"{'proportion': 1, 'eps': 0.5, 'min_samples': 2, 'n_jobs': 1, 'random_state': None}\")\n",
      "2022-01-21 12:25:00,931:INFO:DBSMOTE: Running sampling via ('DBSMOTE', \"{'proportion': 1, 'eps': 0.5, 'min_samples': 2, 'n_jobs': 1, 'random_state': None}\")\n",
      "2022-01-21 12:25:00,984:INFO:DBSMOTE: Running sampling via ('DBSMOTE', \"{'proportion': 2, 'eps': 1.2, 'min_samples': 5, 'n_jobs': 1, 'random_state': None}\")\n",
      "C:\\Users\\oucht\\anaconda3\\lib\\site-packages\\sklearn\\svm\\_base.py:976: ConvergenceWarning: Liblinear failed to converge, increase the number of iterations.\n",
      "  warnings.warn(\"Liblinear failed to converge, increase \"\n",
      "2022-01-21 12:25:01,096:INFO:DBSMOTE: Running sampling via ('DBSMOTE', \"{'proportion': 2, 'eps': 1.2, 'min_samples': 5, 'n_jobs': 1, 'random_state': None}\")\n",
      "C:\\Users\\oucht\\anaconda3\\lib\\site-packages\\sklearn\\svm\\_base.py:976: ConvergenceWarning: Liblinear failed to converge, increase the number of iterations.\n",
      "  warnings.warn(\"Liblinear failed to converge, increase \"\n",
      "2022-01-21 12:25:01,262:INFO:DBSMOTE: Running sampling via ('DBSMOTE', \"{'proportion': 2, 'eps': 1.2, 'min_samples': 5, 'n_jobs': 1, 'random_state': None}\")\n",
      "C:\\Users\\oucht\\anaconda3\\lib\\site-packages\\sklearn\\svm\\_base.py:976: ConvergenceWarning: Liblinear failed to converge, increase the number of iterations.\n",
      "  warnings.warn(\"Liblinear failed to converge, increase \"\n",
      "2022-01-21 12:25:01,369:INFO:DBSMOTE: Running sampling via ('DBSMOTE', \"{'proportion': 2, 'eps': 1.2, 'min_samples': 5, 'n_jobs': 1, 'random_state': None}\")\n",
      "C:\\Users\\oucht\\anaconda3\\lib\\site-packages\\sklearn\\svm\\_base.py:976: ConvergenceWarning: Liblinear failed to converge, increase the number of iterations.\n",
      "  warnings.warn(\"Liblinear failed to converge, increase \"\n",
      "2022-01-21 12:25:01,562:INFO:DBSMOTE: Running sampling via ('DBSMOTE', \"{'proportion': 2, 'eps': 1.2, 'min_samples': 5, 'n_jobs': 1, 'random_state': None}\")\n",
      "C:\\Users\\oucht\\anaconda3\\lib\\site-packages\\sklearn\\svm\\_base.py:976: ConvergenceWarning: Liblinear failed to converge, increase the number of iterations.\n",
      "  warnings.warn(\"Liblinear failed to converge, increase \"\n",
      "2022-01-21 12:25:01,671:INFO:DBSMOTE: Running sampling via ('DBSMOTE', \"{'proportion': 2, 'eps': 1.2, 'min_samples': 5, 'n_jobs': 1, 'random_state': None}\")\n",
      "C:\\Users\\oucht\\anaconda3\\lib\\site-packages\\sklearn\\svm\\_base.py:976: ConvergenceWarning: Liblinear failed to converge, increase the number of iterations.\n",
      "  warnings.warn(\"Liblinear failed to converge, increase \"\n",
      "2022-01-21 12:25:01,809:INFO:DBSMOTE: Running sampling via ('DBSMOTE', \"{'proportion': 2, 'eps': 1.2, 'min_samples': 5, 'n_jobs': 1, 'random_state': None}\")\n",
      "C:\\Users\\oucht\\anaconda3\\lib\\site-packages\\sklearn\\svm\\_base.py:976: ConvergenceWarning: Liblinear failed to converge, increase the number of iterations.\n",
      "  warnings.warn(\"Liblinear failed to converge, increase \"\n",
      "2022-01-21 12:25:01,945:INFO:DBSMOTE: Running sampling via ('DBSMOTE', \"{'proportion': 2, 'eps': 1.2, 'min_samples': 5, 'n_jobs': 1, 'random_state': None}\")\n",
      "C:\\Users\\oucht\\anaconda3\\lib\\site-packages\\sklearn\\svm\\_base.py:976: ConvergenceWarning: Liblinear failed to converge, increase the number of iterations.\n",
      "  warnings.warn(\"Liblinear failed to converge, increase \"\n",
      "2022-01-21 12:25:02,097:INFO:DBSMOTE: Running sampling via ('DBSMOTE', \"{'proportion': 2, 'eps': 1.2, 'min_samples': 5, 'n_jobs': 1, 'random_state': None}\")\n"
     ]
    },
    {
     "name": "stderr",
     "output_type": "stream",
     "text": [
      "C:\\Users\\oucht\\anaconda3\\lib\\site-packages\\sklearn\\svm\\_base.py:976: ConvergenceWarning: Liblinear failed to converge, increase the number of iterations.\n",
      "  warnings.warn(\"Liblinear failed to converge, increase \"\n",
      "2022-01-21 12:25:02,247:INFO:DBSMOTE: Running sampling via ('DBSMOTE', \"{'proportion': 2, 'eps': 1.2, 'min_samples': 5, 'n_jobs': 1, 'random_state': None}\")\n",
      "C:\\Users\\oucht\\anaconda3\\lib\\site-packages\\sklearn\\svm\\_base.py:976: ConvergenceWarning: Liblinear failed to converge, increase the number of iterations.\n",
      "  warnings.warn(\"Liblinear failed to converge, increase \"\n",
      "2022-01-21 12:25:02,375:INFO:DBSMOTE: Running sampling via ('DBSMOTE', \"{'proportion': 2, 'eps': 0.5, 'min_samples': 1, 'n_jobs': 1, 'random_state': None}\")\n"
     ]
    },
    {
     "name": "stdout",
     "output_type": "stream",
     "text": [
      "glass\n"
     ]
    },
    {
     "name": "stderr",
     "output_type": "stream",
     "text": [
      "2022-01-21 12:25:02,589:INFO:DBSMOTE: Running sampling via ('DBSMOTE', \"{'proportion': 2, 'eps': 0.5, 'min_samples': 1, 'n_jobs': 1, 'random_state': None}\")\n",
      "2022-01-21 12:25:02,779:INFO:DBSMOTE: Running sampling via ('DBSMOTE', \"{'proportion': 2, 'eps': 0.5, 'min_samples': 1, 'n_jobs': 1, 'random_state': None}\")\n",
      "2022-01-21 12:25:02,962:INFO:DBSMOTE: Running sampling via ('DBSMOTE', \"{'proportion': 2, 'eps': 0.5, 'min_samples': 1, 'n_jobs': 1, 'random_state': None}\")\n",
      "2022-01-21 12:25:03,118:INFO:DBSMOTE: Running sampling via ('DBSMOTE', \"{'proportion': 2, 'eps': 0.5, 'min_samples': 1, 'n_jobs': 1, 'random_state': None}\")\n",
      "2022-01-21 12:25:03,270:INFO:DBSMOTE: Running sampling via ('DBSMOTE', \"{'proportion': 2, 'eps': 0.5, 'min_samples': 1, 'n_jobs': 1, 'random_state': None}\")\n",
      "2022-01-21 12:25:03,403:INFO:DBSMOTE: Running sampling via ('DBSMOTE', \"{'proportion': 2, 'eps': 0.5, 'min_samples': 1, 'n_jobs': 1, 'random_state': None}\")\n",
      "2022-01-21 12:25:03,577:INFO:DBSMOTE: Running sampling via ('DBSMOTE', \"{'proportion': 2, 'eps': 0.5, 'min_samples': 1, 'n_jobs': 1, 'random_state': None}\")\n",
      "2022-01-21 12:25:03,739:INFO:DBSMOTE: Running sampling via ('DBSMOTE', \"{'proportion': 2, 'eps': 0.5, 'min_samples': 1, 'n_jobs': 1, 'random_state': None}\")\n",
      "2022-01-21 12:25:03,943:INFO:DBSMOTE: Running sampling via ('DBSMOTE', \"{'proportion': 2, 'eps': 0.5, 'min_samples': 1, 'n_jobs': 1, 'random_state': None}\")\n",
      "2022-01-21 12:25:04,137:INFO:DBSMOTE: Running sampling via ('DBSMOTE', \"{'proportion': 5, 'eps': 1.0, 'min_samples': 2, 'n_jobs': 1, 'random_state': None}\")\n",
      "2022-01-21 12:25:04,270:INFO:DBSMOTE: Running sampling via ('DBSMOTE', \"{'proportion': 5, 'eps': 1.0, 'min_samples': 2, 'n_jobs': 1, 'random_state': None}\")\n",
      "2022-01-21 12:25:04,379:INFO:DBSMOTE: Running sampling via ('DBSMOTE', \"{'proportion': 5, 'eps': 1.0, 'min_samples': 2, 'n_jobs': 1, 'random_state': None}\")\n",
      "2022-01-21 12:25:04,528:INFO:DBSMOTE: Running sampling via ('DBSMOTE', \"{'proportion': 5, 'eps': 1.0, 'min_samples': 2, 'n_jobs': 1, 'random_state': None}\")\n",
      "2022-01-21 12:25:04,635:INFO:DBSMOTE: Running sampling via ('DBSMOTE', \"{'proportion': 5, 'eps': 1.0, 'min_samples': 2, 'n_jobs': 1, 'random_state': None}\")\n",
      "2022-01-21 12:25:04,733:INFO:DBSMOTE: Running sampling via ('DBSMOTE', \"{'proportion': 5, 'eps': 1.0, 'min_samples': 2, 'n_jobs': 1, 'random_state': None}\")\n",
      "2022-01-21 12:25:04,889:INFO:DBSMOTE: Running sampling via ('DBSMOTE', \"{'proportion': 5, 'eps': 1.0, 'min_samples': 2, 'n_jobs': 1, 'random_state': None}\")\n",
      "2022-01-21 12:25:04,987:INFO:DBSMOTE: Running sampling via ('DBSMOTE', \"{'proportion': 5, 'eps': 1.0, 'min_samples': 2, 'n_jobs': 1, 'random_state': None}\")\n",
      "2022-01-21 12:25:05,143:INFO:DBSMOTE: Running sampling via ('DBSMOTE', \"{'proportion': 5, 'eps': 1.0, 'min_samples': 2, 'n_jobs': 1, 'random_state': None}\")\n",
      "2022-01-21 12:25:05,264:INFO:DBSMOTE: Running sampling via ('DBSMOTE', \"{'proportion': 5, 'eps': 1.0, 'min_samples': 2, 'n_jobs': 1, 'random_state': None}\")\n",
      "2022-01-21 12:25:05,377:INFO:DBSMOTE: Running sampling via ('DBSMOTE', \"{'proportion': 5, 'eps': 0.8, 'min_samples': 1, 'n_jobs': 1, 'random_state': None}\")\n",
      "2022-01-21 12:25:05,470:INFO:DBSMOTE: Running sampling via ('DBSMOTE', \"{'proportion': 5, 'eps': 0.8, 'min_samples': 1, 'n_jobs': 1, 'random_state': None}\")\n",
      "2022-01-21 12:25:05,558:INFO:DBSMOTE: Running sampling via ('DBSMOTE', \"{'proportion': 5, 'eps': 0.8, 'min_samples': 1, 'n_jobs': 1, 'random_state': None}\")\n",
      "2022-01-21 12:25:05,650:INFO:DBSMOTE: Running sampling via ('DBSMOTE', \"{'proportion': 5, 'eps': 0.8, 'min_samples': 1, 'n_jobs': 1, 'random_state': None}\")\n",
      "2022-01-21 12:25:05,729:INFO:DBSMOTE: Running sampling via ('DBSMOTE', \"{'proportion': 5, 'eps': 0.8, 'min_samples': 1, 'n_jobs': 1, 'random_state': None}\")\n",
      "2022-01-21 12:25:05,810:INFO:DBSMOTE: Running sampling via ('DBSMOTE', \"{'proportion': 5, 'eps': 0.8, 'min_samples': 1, 'n_jobs': 1, 'random_state': None}\")\n",
      "2022-01-21 12:25:05,885:INFO:DBSMOTE: Running sampling via ('DBSMOTE', \"{'proportion': 5, 'eps': 0.8, 'min_samples': 1, 'n_jobs': 1, 'random_state': None}\")\n",
      "2022-01-21 12:25:05,977:INFO:DBSMOTE: Running sampling via ('DBSMOTE', \"{'proportion': 5, 'eps': 0.8, 'min_samples': 1, 'n_jobs': 1, 'random_state': None}\")\n",
      "2022-01-21 12:25:06,110:INFO:DBSMOTE: Running sampling via ('DBSMOTE', \"{'proportion': 5, 'eps': 0.8, 'min_samples': 1, 'n_jobs': 1, 'random_state': None}\")\n",
      "2022-01-21 12:25:06,207:INFO:DBSMOTE: Running sampling via ('DBSMOTE', \"{'proportion': 5, 'eps': 0.8, 'min_samples': 1, 'n_jobs': 1, 'random_state': None}\")\n",
      "2022-01-21 12:25:06,329:INFO:DBSMOTE: Running sampling via ('DBSMOTE', \"{'proportion': 1, 'eps': 1.2, 'min_samples': 3, 'n_jobs': 1, 'random_state': None}\")\n",
      "C:\\Users\\oucht\\anaconda3\\lib\\site-packages\\sklearn\\svm\\_base.py:976: ConvergenceWarning: Liblinear failed to converge, increase the number of iterations.\n",
      "  warnings.warn(\"Liblinear failed to converge, increase \"\n",
      "2022-01-21 12:25:06,376:INFO:DBSMOTE: Running sampling via ('DBSMOTE', \"{'proportion': 1, 'eps': 1.2, 'min_samples': 3, 'n_jobs': 1, 'random_state': None}\")\n",
      "C:\\Users\\oucht\\anaconda3\\lib\\site-packages\\sklearn\\svm\\_base.py:976: ConvergenceWarning: Liblinear failed to converge, increase the number of iterations.\n",
      "  warnings.warn(\"Liblinear failed to converge, increase \"\n",
      "2022-01-21 12:25:06,418:INFO:DBSMOTE: Running sampling via ('DBSMOTE', \"{'proportion': 1, 'eps': 1.2, 'min_samples': 3, 'n_jobs': 1, 'random_state': None}\")\n",
      "C:\\Users\\oucht\\anaconda3\\lib\\site-packages\\sklearn\\svm\\_base.py:976: ConvergenceWarning: Liblinear failed to converge, increase the number of iterations.\n",
      "  warnings.warn(\"Liblinear failed to converge, increase \"\n",
      "2022-01-21 12:25:06,459:INFO:DBSMOTE: Running sampling via ('DBSMOTE', \"{'proportion': 1, 'eps': 1.2, 'min_samples': 3, 'n_jobs': 1, 'random_state': None}\")\n",
      "C:\\Users\\oucht\\anaconda3\\lib\\site-packages\\sklearn\\svm\\_base.py:976: ConvergenceWarning: Liblinear failed to converge, increase the number of iterations.\n",
      "  warnings.warn(\"Liblinear failed to converge, increase \"\n",
      "2022-01-21 12:25:06,492:INFO:DBSMOTE: Running sampling via ('DBSMOTE', \"{'proportion': 1, 'eps': 1.2, 'min_samples': 3, 'n_jobs': 1, 'random_state': None}\")\n",
      "C:\\Users\\oucht\\anaconda3\\lib\\site-packages\\sklearn\\svm\\_base.py:976: ConvergenceWarning: Liblinear failed to converge, increase the number of iterations.\n",
      "  warnings.warn(\"Liblinear failed to converge, increase \"\n",
      "2022-01-21 12:25:06,535:INFO:DBSMOTE: Running sampling via ('DBSMOTE', \"{'proportion': 1, 'eps': 1.2, 'min_samples': 3, 'n_jobs': 1, 'random_state': None}\")\n",
      "C:\\Users\\oucht\\anaconda3\\lib\\site-packages\\sklearn\\svm\\_base.py:976: ConvergenceWarning: Liblinear failed to converge, increase the number of iterations.\n",
      "  warnings.warn(\"Liblinear failed to converge, increase \"\n",
      "2022-01-21 12:25:06,587:INFO:DBSMOTE: Running sampling via ('DBSMOTE', \"{'proportion': 1, 'eps': 1.2, 'min_samples': 3, 'n_jobs': 1, 'random_state': None}\")\n",
      "C:\\Users\\oucht\\anaconda3\\lib\\site-packages\\sklearn\\svm\\_base.py:976: ConvergenceWarning: Liblinear failed to converge, increase the number of iterations.\n",
      "  warnings.warn(\"Liblinear failed to converge, increase \"\n",
      "2022-01-21 12:25:06,631:INFO:DBSMOTE: Running sampling via ('DBSMOTE', \"{'proportion': 1, 'eps': 1.2, 'min_samples': 3, 'n_jobs': 1, 'random_state': None}\")\n",
      "C:\\Users\\oucht\\anaconda3\\lib\\site-packages\\sklearn\\svm\\_base.py:976: ConvergenceWarning: Liblinear failed to converge, increase the number of iterations.\n",
      "  warnings.warn(\"Liblinear failed to converge, increase \"\n",
      "2022-01-21 12:25:06,679:INFO:DBSMOTE: Running sampling via ('DBSMOTE', \"{'proportion': 1, 'eps': 1.2, 'min_samples': 3, 'n_jobs': 1, 'random_state': None}\")\n",
      "C:\\Users\\oucht\\anaconda3\\lib\\site-packages\\sklearn\\svm\\_base.py:976: ConvergenceWarning: Liblinear failed to converge, increase the number of iterations.\n",
      "  warnings.warn(\"Liblinear failed to converge, increase \"\n",
      "2022-01-21 12:25:06,743:INFO:DBSMOTE: Running sampling via ('DBSMOTE', \"{'proportion': 1, 'eps': 1.2, 'min_samples': 3, 'n_jobs': 1, 'random_state': None}\")\n",
      "C:\\Users\\oucht\\anaconda3\\lib\\site-packages\\sklearn\\svm\\_base.py:976: ConvergenceWarning: Liblinear failed to converge, increase the number of iterations.\n",
      "  warnings.warn(\"Liblinear failed to converge, increase \"\n"
     ]
    },
    {
     "name": "stdout",
     "output_type": "stream",
     "text": [
      "wisconsin\n"
     ]
    },
    {
     "name": "stderr",
     "output_type": "stream",
     "text": [
      "C:\\Users\\oucht\\anaconda3\\lib\\site-packages\\sklearn\\svm\\_base.py:976: ConvergenceWarning: Liblinear failed to converge, increase the number of iterations.\n",
      "  warnings.warn(\"Liblinear failed to converge, increase \"\n",
      "C:\\Users\\oucht\\anaconda3\\lib\\site-packages\\sklearn\\svm\\_base.py:976: ConvergenceWarning: Liblinear failed to converge, increase the number of iterations.\n",
      "  warnings.warn(\"Liblinear failed to converge, increase \"\n",
      "C:\\Users\\oucht\\anaconda3\\lib\\site-packages\\sklearn\\svm\\_base.py:976: ConvergenceWarning: Liblinear failed to converge, increase the number of iterations.\n",
      "  warnings.warn(\"Liblinear failed to converge, increase \"\n",
      "C:\\Users\\oucht\\anaconda3\\lib\\site-packages\\sklearn\\svm\\_base.py:976: ConvergenceWarning: Liblinear failed to converge, increase the number of iterations.\n",
      "  warnings.warn(\"Liblinear failed to converge, increase \"\n",
      "C:\\Users\\oucht\\anaconda3\\lib\\site-packages\\sklearn\\svm\\_base.py:976: ConvergenceWarning: Liblinear failed to converge, increase the number of iterations.\n",
      "  warnings.warn(\"Liblinear failed to converge, increase \"\n",
      "C:\\Users\\oucht\\anaconda3\\lib\\site-packages\\sklearn\\svm\\_base.py:976: ConvergenceWarning: Liblinear failed to converge, increase the number of iterations.\n",
      "  warnings.warn(\"Liblinear failed to converge, increase \"\n",
      "C:\\Users\\oucht\\anaconda3\\lib\\site-packages\\sklearn\\svm\\_base.py:976: ConvergenceWarning: Liblinear failed to converge, increase the number of iterations.\n",
      "  warnings.warn(\"Liblinear failed to converge, increase \"\n",
      "C:\\Users\\oucht\\anaconda3\\lib\\site-packages\\sklearn\\svm\\_base.py:976: ConvergenceWarning: Liblinear failed to converge, increase the number of iterations.\n",
      "  warnings.warn(\"Liblinear failed to converge, increase \"\n",
      "C:\\Users\\oucht\\anaconda3\\lib\\site-packages\\sklearn\\svm\\_base.py:976: ConvergenceWarning: Liblinear failed to converge, increase the number of iterations.\n",
      "  warnings.warn(\"Liblinear failed to converge, increase \"\n",
      "C:\\Users\\oucht\\anaconda3\\lib\\site-packages\\sklearn\\svm\\_base.py:976: ConvergenceWarning: Liblinear failed to converge, increase the number of iterations.\n",
      "  warnings.warn(\"Liblinear failed to converge, increase \"\n"
     ]
    },
    {
     "name": "stdout",
     "output_type": "stream",
     "text": [
      "yeast4\n",
      "vehicle1\n"
     ]
    },
    {
     "name": "stderr",
     "output_type": "stream",
     "text": [
      "C:\\Users\\oucht\\anaconda3\\lib\\site-packages\\sklearn\\svm\\_base.py:976: ConvergenceWarning: Liblinear failed to converge, increase the number of iterations.\n",
      "  warnings.warn(\"Liblinear failed to converge, increase \"\n",
      "C:\\Users\\oucht\\anaconda3\\lib\\site-packages\\sklearn\\svm\\_base.py:976: ConvergenceWarning: Liblinear failed to converge, increase the number of iterations.\n",
      "  warnings.warn(\"Liblinear failed to converge, increase \"\n",
      "C:\\Users\\oucht\\anaconda3\\lib\\site-packages\\sklearn\\svm\\_base.py:976: ConvergenceWarning: Liblinear failed to converge, increase the number of iterations.\n",
      "  warnings.warn(\"Liblinear failed to converge, increase \"\n",
      "C:\\Users\\oucht\\anaconda3\\lib\\site-packages\\sklearn\\svm\\_base.py:976: ConvergenceWarning: Liblinear failed to converge, increase the number of iterations.\n",
      "  warnings.warn(\"Liblinear failed to converge, increase \"\n",
      "C:\\Users\\oucht\\anaconda3\\lib\\site-packages\\sklearn\\svm\\_base.py:976: ConvergenceWarning: Liblinear failed to converge, increase the number of iterations.\n",
      "  warnings.warn(\"Liblinear failed to converge, increase \"\n",
      "C:\\Users\\oucht\\anaconda3\\lib\\site-packages\\sklearn\\svm\\_base.py:976: ConvergenceWarning: Liblinear failed to converge, increase the number of iterations.\n",
      "  warnings.warn(\"Liblinear failed to converge, increase \"\n",
      "C:\\Users\\oucht\\anaconda3\\lib\\site-packages\\sklearn\\svm\\_base.py:976: ConvergenceWarning: Liblinear failed to converge, increase the number of iterations.\n",
      "  warnings.warn(\"Liblinear failed to converge, increase \"\n",
      "C:\\Users\\oucht\\anaconda3\\lib\\site-packages\\sklearn\\svm\\_base.py:976: ConvergenceWarning: Liblinear failed to converge, increase the number of iterations.\n",
      "  warnings.warn(\"Liblinear failed to converge, increase \"\n",
      "C:\\Users\\oucht\\anaconda3\\lib\\site-packages\\sklearn\\svm\\_base.py:976: ConvergenceWarning: Liblinear failed to converge, increase the number of iterations.\n",
      "  warnings.warn(\"Liblinear failed to converge, increase \"\n",
      "C:\\Users\\oucht\\anaconda3\\lib\\site-packages\\sklearn\\svm\\_base.py:976: ConvergenceWarning: Liblinear failed to converge, increase the number of iterations.\n",
      "  warnings.warn(\"Liblinear failed to converge, increase \"\n"
     ]
    },
    {
     "name": "stdout",
     "output_type": "stream",
     "text": [
      "Subcl35\n"
     ]
    },
    {
     "name": "stderr",
     "output_type": "stream",
     "text": [
      "C:\\Users\\oucht\\anaconda3\\lib\\site-packages\\sklearn\\svm\\_base.py:976: ConvergenceWarning: Liblinear failed to converge, increase the number of iterations.\n",
      "  warnings.warn(\"Liblinear failed to converge, increase \"\n",
      "C:\\Users\\oucht\\anaconda3\\lib\\site-packages\\sklearn\\svm\\_base.py:976: ConvergenceWarning: Liblinear failed to converge, increase the number of iterations.\n",
      "  warnings.warn(\"Liblinear failed to converge, increase \"\n",
      "C:\\Users\\oucht\\anaconda3\\lib\\site-packages\\sklearn\\svm\\_base.py:976: ConvergenceWarning: Liblinear failed to converge, increase the number of iterations.\n",
      "  warnings.warn(\"Liblinear failed to converge, increase \"\n",
      "C:\\Users\\oucht\\anaconda3\\lib\\site-packages\\sklearn\\svm\\_base.py:976: ConvergenceWarning: Liblinear failed to converge, increase the number of iterations.\n",
      "  warnings.warn(\"Liblinear failed to converge, increase \"\n",
      "C:\\Users\\oucht\\anaconda3\\lib\\site-packages\\sklearn\\svm\\_base.py:976: ConvergenceWarning: Liblinear failed to converge, increase the number of iterations.\n",
      "  warnings.warn(\"Liblinear failed to converge, increase \"\n",
      "C:\\Users\\oucht\\anaconda3\\lib\\site-packages\\sklearn\\svm\\_base.py:976: ConvergenceWarning: Liblinear failed to converge, increase the number of iterations.\n",
      "  warnings.warn(\"Liblinear failed to converge, increase \"\n",
      "C:\\Users\\oucht\\anaconda3\\lib\\site-packages\\sklearn\\svm\\_base.py:976: ConvergenceWarning: Liblinear failed to converge, increase the number of iterations.\n",
      "  warnings.warn(\"Liblinear failed to converge, increase \"\n",
      "C:\\Users\\oucht\\anaconda3\\lib\\site-packages\\sklearn\\svm\\_base.py:976: ConvergenceWarning: Liblinear failed to converge, increase the number of iterations.\n",
      "  warnings.warn(\"Liblinear failed to converge, increase \"\n",
      "C:\\Users\\oucht\\anaconda3\\lib\\site-packages\\sklearn\\svm\\_base.py:976: ConvergenceWarning: Liblinear failed to converge, increase the number of iterations.\n",
      "  warnings.warn(\"Liblinear failed to converge, increase \"\n",
      "C:\\Users\\oucht\\anaconda3\\lib\\site-packages\\sklearn\\svm\\_base.py:976: ConvergenceWarning: Liblinear failed to converge, increase the number of iterations.\n",
      "  warnings.warn(\"Liblinear failed to converge, increase \"\n"
     ]
    },
    {
     "name": "stdout",
     "output_type": "stream",
     "text": [
      "Paw\n"
     ]
    },
    {
     "name": "stderr",
     "output_type": "stream",
     "text": [
      "C:\\Users\\oucht\\anaconda3\\lib\\site-packages\\sklearn\\svm\\_base.py:976: ConvergenceWarning: Liblinear failed to converge, increase the number of iterations.\n",
      "  warnings.warn(\"Liblinear failed to converge, increase \"\n",
      "C:\\Users\\oucht\\anaconda3\\lib\\site-packages\\sklearn\\svm\\_base.py:976: ConvergenceWarning: Liblinear failed to converge, increase the number of iterations.\n",
      "  warnings.warn(\"Liblinear failed to converge, increase \"\n",
      "C:\\Users\\oucht\\anaconda3\\lib\\site-packages\\sklearn\\svm\\_base.py:976: ConvergenceWarning: Liblinear failed to converge, increase the number of iterations.\n",
      "  warnings.warn(\"Liblinear failed to converge, increase \"\n",
      "C:\\Users\\oucht\\anaconda3\\lib\\site-packages\\sklearn\\svm\\_base.py:976: ConvergenceWarning: Liblinear failed to converge, increase the number of iterations.\n",
      "  warnings.warn(\"Liblinear failed to converge, increase \"\n",
      "C:\\Users\\oucht\\anaconda3\\lib\\site-packages\\sklearn\\svm\\_base.py:976: ConvergenceWarning: Liblinear failed to converge, increase the number of iterations.\n",
      "  warnings.warn(\"Liblinear failed to converge, increase \"\n",
      "C:\\Users\\oucht\\anaconda3\\lib\\site-packages\\sklearn\\svm\\_base.py:976: ConvergenceWarning: Liblinear failed to converge, increase the number of iterations.\n",
      "  warnings.warn(\"Liblinear failed to converge, increase \"\n",
      "C:\\Users\\oucht\\anaconda3\\lib\\site-packages\\sklearn\\svm\\_base.py:976: ConvergenceWarning: Liblinear failed to converge, increase the number of iterations.\n",
      "  warnings.warn(\"Liblinear failed to converge, increase \"\n",
      "C:\\Users\\oucht\\anaconda3\\lib\\site-packages\\sklearn\\svm\\_base.py:976: ConvergenceWarning: Liblinear failed to converge, increase the number of iterations.\n",
      "  warnings.warn(\"Liblinear failed to converge, increase \"\n",
      "C:\\Users\\oucht\\anaconda3\\lib\\site-packages\\sklearn\\svm\\_base.py:976: ConvergenceWarning: Liblinear failed to converge, increase the number of iterations.\n",
      "  warnings.warn(\"Liblinear failed to converge, increase \"\n",
      "C:\\Users\\oucht\\anaconda3\\lib\\site-packages\\sklearn\\svm\\_base.py:976: ConvergenceWarning: Liblinear failed to converge, increase the number of iterations.\n",
      "  warnings.warn(\"Liblinear failed to converge, increase \"\n"
     ]
    },
    {
     "name": "stdout",
     "output_type": "stream",
     "text": [
      "ecoli1\n",
      "pima\n"
     ]
    },
    {
     "name": "stderr",
     "output_type": "stream",
     "text": [
      "C:\\Users\\oucht\\anaconda3\\lib\\site-packages\\sklearn\\svm\\_base.py:976: ConvergenceWarning: Liblinear failed to converge, increase the number of iterations.\n",
      "  warnings.warn(\"Liblinear failed to converge, increase \"\n",
      "C:\\Users\\oucht\\anaconda3\\lib\\site-packages\\sklearn\\svm\\_base.py:976: ConvergenceWarning: Liblinear failed to converge, increase the number of iterations.\n",
      "  warnings.warn(\"Liblinear failed to converge, increase \"\n",
      "C:\\Users\\oucht\\anaconda3\\lib\\site-packages\\sklearn\\svm\\_base.py:976: ConvergenceWarning: Liblinear failed to converge, increase the number of iterations.\n",
      "  warnings.warn(\"Liblinear failed to converge, increase \"\n",
      "C:\\Users\\oucht\\anaconda3\\lib\\site-packages\\sklearn\\svm\\_base.py:976: ConvergenceWarning: Liblinear failed to converge, increase the number of iterations.\n",
      "  warnings.warn(\"Liblinear failed to converge, increase \"\n",
      "C:\\Users\\oucht\\anaconda3\\lib\\site-packages\\sklearn\\svm\\_base.py:976: ConvergenceWarning: Liblinear failed to converge, increase the number of iterations.\n",
      "  warnings.warn(\"Liblinear failed to converge, increase \"\n",
      "C:\\Users\\oucht\\anaconda3\\lib\\site-packages\\sklearn\\svm\\_base.py:976: ConvergenceWarning: Liblinear failed to converge, increase the number of iterations.\n",
      "  warnings.warn(\"Liblinear failed to converge, increase \"\n",
      "C:\\Users\\oucht\\anaconda3\\lib\\site-packages\\sklearn\\svm\\_base.py:976: ConvergenceWarning: Liblinear failed to converge, increase the number of iterations.\n",
      "  warnings.warn(\"Liblinear failed to converge, increase \"\n",
      "C:\\Users\\oucht\\anaconda3\\lib\\site-packages\\sklearn\\svm\\_base.py:976: ConvergenceWarning: Liblinear failed to converge, increase the number of iterations.\n",
      "  warnings.warn(\"Liblinear failed to converge, increase \"\n",
      "C:\\Users\\oucht\\anaconda3\\lib\\site-packages\\sklearn\\svm\\_base.py:976: ConvergenceWarning: Liblinear failed to converge, increase the number of iterations.\n",
      "  warnings.warn(\"Liblinear failed to converge, increase \"\n",
      "C:\\Users\\oucht\\anaconda3\\lib\\site-packages\\sklearn\\svm\\_base.py:976: ConvergenceWarning: Liblinear failed to converge, increase the number of iterations.\n",
      "  warnings.warn(\"Liblinear failed to converge, increase \"\n"
     ]
    },
    {
     "name": "stdout",
     "output_type": "stream",
     "text": [
      "yeast6\n",
      "page_blocks\n"
     ]
    },
    {
     "name": "stderr",
     "output_type": "stream",
     "text": [
      "C:\\Users\\oucht\\anaconda3\\lib\\site-packages\\sklearn\\svm\\_base.py:976: ConvergenceWarning: Liblinear failed to converge, increase the number of iterations.\n",
      "  warnings.warn(\"Liblinear failed to converge, increase \"\n",
      "C:\\Users\\oucht\\anaconda3\\lib\\site-packages\\sklearn\\svm\\_base.py:976: ConvergenceWarning: Liblinear failed to converge, increase the number of iterations.\n",
      "  warnings.warn(\"Liblinear failed to converge, increase \"\n",
      "C:\\Users\\oucht\\anaconda3\\lib\\site-packages\\sklearn\\svm\\_base.py:976: ConvergenceWarning: Liblinear failed to converge, increase the number of iterations.\n",
      "  warnings.warn(\"Liblinear failed to converge, increase \"\n",
      "C:\\Users\\oucht\\anaconda3\\lib\\site-packages\\sklearn\\svm\\_base.py:976: ConvergenceWarning: Liblinear failed to converge, increase the number of iterations.\n",
      "  warnings.warn(\"Liblinear failed to converge, increase \"\n",
      "C:\\Users\\oucht\\anaconda3\\lib\\site-packages\\sklearn\\svm\\_base.py:976: ConvergenceWarning: Liblinear failed to converge, increase the number of iterations.\n",
      "  warnings.warn(\"Liblinear failed to converge, increase \"\n",
      "C:\\Users\\oucht\\anaconda3\\lib\\site-packages\\sklearn\\svm\\_base.py:976: ConvergenceWarning: Liblinear failed to converge, increase the number of iterations.\n",
      "  warnings.warn(\"Liblinear failed to converge, increase \"\n",
      "C:\\Users\\oucht\\anaconda3\\lib\\site-packages\\sklearn\\svm\\_base.py:976: ConvergenceWarning: Liblinear failed to converge, increase the number of iterations.\n",
      "  warnings.warn(\"Liblinear failed to converge, increase \"\n",
      "C:\\Users\\oucht\\anaconda3\\lib\\site-packages\\sklearn\\svm\\_base.py:976: ConvergenceWarning: Liblinear failed to converge, increase the number of iterations.\n",
      "  warnings.warn(\"Liblinear failed to converge, increase \"\n",
      "C:\\Users\\oucht\\anaconda3\\lib\\site-packages\\sklearn\\svm\\_base.py:976: ConvergenceWarning: Liblinear failed to converge, increase the number of iterations.\n",
      "  warnings.warn(\"Liblinear failed to converge, increase \"\n",
      "C:\\Users\\oucht\\anaconda3\\lib\\site-packages\\sklearn\\svm\\_base.py:976: ConvergenceWarning: Liblinear failed to converge, increase the number of iterations.\n",
      "  warnings.warn(\"Liblinear failed to converge, increase \"\n"
     ]
    },
    {
     "name": "stdout",
     "output_type": "stream",
     "text": [
      "glass\n"
     ]
    },
    {
     "name": "stderr",
     "output_type": "stream",
     "text": [
      "C:\\Users\\oucht\\anaconda3\\lib\\site-packages\\sklearn\\svm\\_base.py:976: ConvergenceWarning: Liblinear failed to converge, increase the number of iterations.\n",
      "  warnings.warn(\"Liblinear failed to converge, increase \"\n",
      "C:\\Users\\oucht\\anaconda3\\lib\\site-packages\\sklearn\\svm\\_base.py:976: ConvergenceWarning: Liblinear failed to converge, increase the number of iterations.\n",
      "  warnings.warn(\"Liblinear failed to converge, increase \"\n",
      "C:\\Users\\oucht\\anaconda3\\lib\\site-packages\\sklearn\\svm\\_base.py:976: ConvergenceWarning: Liblinear failed to converge, increase the number of iterations.\n",
      "  warnings.warn(\"Liblinear failed to converge, increase \"\n",
      "C:\\Users\\oucht\\anaconda3\\lib\\site-packages\\sklearn\\svm\\_base.py:976: ConvergenceWarning: Liblinear failed to converge, increase the number of iterations.\n",
      "  warnings.warn(\"Liblinear failed to converge, increase \"\n",
      "C:\\Users\\oucht\\anaconda3\\lib\\site-packages\\sklearn\\svm\\_base.py:976: ConvergenceWarning: Liblinear failed to converge, increase the number of iterations.\n",
      "  warnings.warn(\"Liblinear failed to converge, increase \"\n",
      "C:\\Users\\oucht\\anaconda3\\lib\\site-packages\\sklearn\\svm\\_base.py:976: ConvergenceWarning: Liblinear failed to converge, increase the number of iterations.\n",
      "  warnings.warn(\"Liblinear failed to converge, increase \"\n",
      "C:\\Users\\oucht\\anaconda3\\lib\\site-packages\\sklearn\\svm\\_base.py:976: ConvergenceWarning: Liblinear failed to converge, increase the number of iterations.\n",
      "  warnings.warn(\"Liblinear failed to converge, increase \"\n",
      "C:\\Users\\oucht\\anaconda3\\lib\\site-packages\\sklearn\\svm\\_base.py:976: ConvergenceWarning: Liblinear failed to converge, increase the number of iterations.\n",
      "  warnings.warn(\"Liblinear failed to converge, increase \"\n",
      "C:\\Users\\oucht\\anaconda3\\lib\\site-packages\\sklearn\\svm\\_base.py:976: ConvergenceWarning: Liblinear failed to converge, increase the number of iterations.\n",
      "  warnings.warn(\"Liblinear failed to converge, increase \"\n",
      "C:\\Users\\oucht\\anaconda3\\lib\\site-packages\\sklearn\\svm\\_base.py:976: ConvergenceWarning: Liblinear failed to converge, increase the number of iterations.\n",
      "  warnings.warn(\"Liblinear failed to converge, increase \"\n"
     ]
    },
    {
     "name": "stdout",
     "output_type": "stream",
     "text": [
      "wisconsin\n"
     ]
    },
    {
     "name": "stderr",
     "output_type": "stream",
     "text": [
      "C:\\Users\\oucht\\anaconda3\\lib\\site-packages\\sklearn\\svm\\_base.py:976: ConvergenceWarning: Liblinear failed to converge, increase the number of iterations.\n",
      "  warnings.warn(\"Liblinear failed to converge, increase \"\n",
      "C:\\Users\\oucht\\anaconda3\\lib\\site-packages\\sklearn\\svm\\_base.py:976: ConvergenceWarning: Liblinear failed to converge, increase the number of iterations.\n",
      "  warnings.warn(\"Liblinear failed to converge, increase \"\n",
      "C:\\Users\\oucht\\anaconda3\\lib\\site-packages\\sklearn\\svm\\_base.py:976: ConvergenceWarning: Liblinear failed to converge, increase the number of iterations.\n",
      "  warnings.warn(\"Liblinear failed to converge, increase \"\n",
      "C:\\Users\\oucht\\anaconda3\\lib\\site-packages\\sklearn\\svm\\_base.py:976: ConvergenceWarning: Liblinear failed to converge, increase the number of iterations.\n",
      "  warnings.warn(\"Liblinear failed to converge, increase \"\n",
      "C:\\Users\\oucht\\anaconda3\\lib\\site-packages\\sklearn\\svm\\_base.py:976: ConvergenceWarning: Liblinear failed to converge, increase the number of iterations.\n",
      "  warnings.warn(\"Liblinear failed to converge, increase \"\n",
      "C:\\Users\\oucht\\anaconda3\\lib\\site-packages\\sklearn\\svm\\_base.py:976: ConvergenceWarning: Liblinear failed to converge, increase the number of iterations.\n",
      "  warnings.warn(\"Liblinear failed to converge, increase \"\n",
      "C:\\Users\\oucht\\anaconda3\\lib\\site-packages\\sklearn\\svm\\_base.py:976: ConvergenceWarning: Liblinear failed to converge, increase the number of iterations.\n",
      "  warnings.warn(\"Liblinear failed to converge, increase \"\n",
      "C:\\Users\\oucht\\anaconda3\\lib\\site-packages\\sklearn\\svm\\_base.py:976: ConvergenceWarning: Liblinear failed to converge, increase the number of iterations.\n",
      "  warnings.warn(\"Liblinear failed to converge, increase \"\n",
      "C:\\Users\\oucht\\anaconda3\\lib\\site-packages\\sklearn\\svm\\_base.py:976: ConvergenceWarning: Liblinear failed to converge, increase the number of iterations.\n",
      "  warnings.warn(\"Liblinear failed to converge, increase \"\n",
      "C:\\Users\\oucht\\anaconda3\\lib\\site-packages\\sklearn\\svm\\_base.py:976: ConvergenceWarning: Liblinear failed to converge, increase the number of iterations.\n",
      "  warnings.warn(\"Liblinear failed to converge, increase \"\n"
     ]
    },
    {
     "name": "stdout",
     "output_type": "stream",
     "text": [
      "yeast4\n",
      "vehicle1\n"
     ]
    },
    {
     "name": "stderr",
     "output_type": "stream",
     "text": [
      "C:\\Users\\oucht\\anaconda3\\lib\\site-packages\\sklearn\\svm\\_base.py:976: ConvergenceWarning: Liblinear failed to converge, increase the number of iterations.\n",
      "  warnings.warn(\"Liblinear failed to converge, increase \"\n",
      "C:\\Users\\oucht\\anaconda3\\lib\\site-packages\\sklearn\\svm\\_base.py:976: ConvergenceWarning: Liblinear failed to converge, increase the number of iterations.\n",
      "  warnings.warn(\"Liblinear failed to converge, increase \"\n",
      "C:\\Users\\oucht\\anaconda3\\lib\\site-packages\\sklearn\\svm\\_base.py:976: ConvergenceWarning: Liblinear failed to converge, increase the number of iterations.\n",
      "  warnings.warn(\"Liblinear failed to converge, increase \"\n",
      "C:\\Users\\oucht\\anaconda3\\lib\\site-packages\\sklearn\\svm\\_base.py:976: ConvergenceWarning: Liblinear failed to converge, increase the number of iterations.\n",
      "  warnings.warn(\"Liblinear failed to converge, increase \"\n",
      "C:\\Users\\oucht\\anaconda3\\lib\\site-packages\\sklearn\\svm\\_base.py:976: ConvergenceWarning: Liblinear failed to converge, increase the number of iterations.\n",
      "  warnings.warn(\"Liblinear failed to converge, increase \"\n",
      "C:\\Users\\oucht\\anaconda3\\lib\\site-packages\\sklearn\\svm\\_base.py:976: ConvergenceWarning: Liblinear failed to converge, increase the number of iterations.\n",
      "  warnings.warn(\"Liblinear failed to converge, increase \"\n",
      "C:\\Users\\oucht\\anaconda3\\lib\\site-packages\\sklearn\\svm\\_base.py:976: ConvergenceWarning: Liblinear failed to converge, increase the number of iterations.\n",
      "  warnings.warn(\"Liblinear failed to converge, increase \"\n",
      "C:\\Users\\oucht\\anaconda3\\lib\\site-packages\\sklearn\\svm\\_base.py:976: ConvergenceWarning: Liblinear failed to converge, increase the number of iterations.\n",
      "  warnings.warn(\"Liblinear failed to converge, increase \"\n",
      "C:\\Users\\oucht\\anaconda3\\lib\\site-packages\\sklearn\\svm\\_base.py:976: ConvergenceWarning: Liblinear failed to converge, increase the number of iterations.\n",
      "  warnings.warn(\"Liblinear failed to converge, increase \"\n",
      "C:\\Users\\oucht\\anaconda3\\lib\\site-packages\\sklearn\\svm\\_base.py:976: ConvergenceWarning: Liblinear failed to converge, increase the number of iterations.\n",
      "  warnings.warn(\"Liblinear failed to converge, increase \"\n"
     ]
    },
    {
     "name": "stdout",
     "output_type": "stream",
     "text": [
      "Subcl35\n"
     ]
    },
    {
     "name": "stderr",
     "output_type": "stream",
     "text": [
      "C:\\Users\\oucht\\anaconda3\\lib\\site-packages\\sklearn\\svm\\_base.py:976: ConvergenceWarning: Liblinear failed to converge, increase the number of iterations.\n",
      "  warnings.warn(\"Liblinear failed to converge, increase \"\n",
      "C:\\Users\\oucht\\anaconda3\\lib\\site-packages\\sklearn\\svm\\_base.py:976: ConvergenceWarning: Liblinear failed to converge, increase the number of iterations.\n",
      "  warnings.warn(\"Liblinear failed to converge, increase \"\n",
      "C:\\Users\\oucht\\anaconda3\\lib\\site-packages\\sklearn\\svm\\_base.py:976: ConvergenceWarning: Liblinear failed to converge, increase the number of iterations.\n",
      "  warnings.warn(\"Liblinear failed to converge, increase \"\n",
      "C:\\Users\\oucht\\anaconda3\\lib\\site-packages\\sklearn\\svm\\_base.py:976: ConvergenceWarning: Liblinear failed to converge, increase the number of iterations.\n",
      "  warnings.warn(\"Liblinear failed to converge, increase \"\n",
      "C:\\Users\\oucht\\anaconda3\\lib\\site-packages\\sklearn\\svm\\_base.py:976: ConvergenceWarning: Liblinear failed to converge, increase the number of iterations.\n",
      "  warnings.warn(\"Liblinear failed to converge, increase \"\n",
      "C:\\Users\\oucht\\anaconda3\\lib\\site-packages\\sklearn\\svm\\_base.py:976: ConvergenceWarning: Liblinear failed to converge, increase the number of iterations.\n",
      "  warnings.warn(\"Liblinear failed to converge, increase \"\n",
      "C:\\Users\\oucht\\anaconda3\\lib\\site-packages\\sklearn\\svm\\_base.py:976: ConvergenceWarning: Liblinear failed to converge, increase the number of iterations.\n",
      "  warnings.warn(\"Liblinear failed to converge, increase \"\n",
      "C:\\Users\\oucht\\anaconda3\\lib\\site-packages\\sklearn\\svm\\_base.py:976: ConvergenceWarning: Liblinear failed to converge, increase the number of iterations.\n",
      "  warnings.warn(\"Liblinear failed to converge, increase \"\n",
      "C:\\Users\\oucht\\anaconda3\\lib\\site-packages\\sklearn\\svm\\_base.py:976: ConvergenceWarning: Liblinear failed to converge, increase the number of iterations.\n",
      "  warnings.warn(\"Liblinear failed to converge, increase \"\n",
      "C:\\Users\\oucht\\anaconda3\\lib\\site-packages\\sklearn\\svm\\_base.py:976: ConvergenceWarning: Liblinear failed to converge, increase the number of iterations.\n",
      "  warnings.warn(\"Liblinear failed to converge, increase \"\n"
     ]
    },
    {
     "name": "stdout",
     "output_type": "stream",
     "text": [
      "Paw\n"
     ]
    },
    {
     "name": "stderr",
     "output_type": "stream",
     "text": [
      "C:\\Users\\oucht\\anaconda3\\lib\\site-packages\\sklearn\\svm\\_base.py:976: ConvergenceWarning: Liblinear failed to converge, increase the number of iterations.\n",
      "  warnings.warn(\"Liblinear failed to converge, increase \"\n",
      "C:\\Users\\oucht\\anaconda3\\lib\\site-packages\\sklearn\\svm\\_base.py:976: ConvergenceWarning: Liblinear failed to converge, increase the number of iterations.\n",
      "  warnings.warn(\"Liblinear failed to converge, increase \"\n",
      "C:\\Users\\oucht\\anaconda3\\lib\\site-packages\\sklearn\\svm\\_base.py:976: ConvergenceWarning: Liblinear failed to converge, increase the number of iterations.\n",
      "  warnings.warn(\"Liblinear failed to converge, increase \"\n",
      "C:\\Users\\oucht\\anaconda3\\lib\\site-packages\\sklearn\\svm\\_base.py:976: ConvergenceWarning: Liblinear failed to converge, increase the number of iterations.\n",
      "  warnings.warn(\"Liblinear failed to converge, increase \"\n",
      "C:\\Users\\oucht\\anaconda3\\lib\\site-packages\\sklearn\\svm\\_base.py:976: ConvergenceWarning: Liblinear failed to converge, increase the number of iterations.\n",
      "  warnings.warn(\"Liblinear failed to converge, increase \"\n",
      "C:\\Users\\oucht\\anaconda3\\lib\\site-packages\\sklearn\\svm\\_base.py:976: ConvergenceWarning: Liblinear failed to converge, increase the number of iterations.\n",
      "  warnings.warn(\"Liblinear failed to converge, increase \"\n",
      "C:\\Users\\oucht\\anaconda3\\lib\\site-packages\\sklearn\\svm\\_base.py:976: ConvergenceWarning: Liblinear failed to converge, increase the number of iterations.\n",
      "  warnings.warn(\"Liblinear failed to converge, increase \"\n",
      "C:\\Users\\oucht\\anaconda3\\lib\\site-packages\\sklearn\\svm\\_base.py:976: ConvergenceWarning: Liblinear failed to converge, increase the number of iterations.\n",
      "  warnings.warn(\"Liblinear failed to converge, increase \"\n",
      "C:\\Users\\oucht\\anaconda3\\lib\\site-packages\\sklearn\\svm\\_base.py:976: ConvergenceWarning: Liblinear failed to converge, increase the number of iterations.\n",
      "  warnings.warn(\"Liblinear failed to converge, increase \"\n",
      "C:\\Users\\oucht\\anaconda3\\lib\\site-packages\\sklearn\\svm\\_base.py:976: ConvergenceWarning: Liblinear failed to converge, increase the number of iterations.\n",
      "  warnings.warn(\"Liblinear failed to converge, increase \"\n"
     ]
    },
    {
     "name": "stdout",
     "output_type": "stream",
     "text": [
      "ecoli1\n",
      "pima\n"
     ]
    },
    {
     "name": "stderr",
     "output_type": "stream",
     "text": [
      "C:\\Users\\oucht\\anaconda3\\lib\\site-packages\\sklearn\\svm\\_base.py:976: ConvergenceWarning: Liblinear failed to converge, increase the number of iterations.\n",
      "  warnings.warn(\"Liblinear failed to converge, increase \"\n",
      "C:\\Users\\oucht\\anaconda3\\lib\\site-packages\\sklearn\\svm\\_base.py:976: ConvergenceWarning: Liblinear failed to converge, increase the number of iterations.\n",
      "  warnings.warn(\"Liblinear failed to converge, increase \"\n",
      "C:\\Users\\oucht\\anaconda3\\lib\\site-packages\\sklearn\\svm\\_base.py:976: ConvergenceWarning: Liblinear failed to converge, increase the number of iterations.\n",
      "  warnings.warn(\"Liblinear failed to converge, increase \"\n",
      "C:\\Users\\oucht\\anaconda3\\lib\\site-packages\\sklearn\\svm\\_base.py:976: ConvergenceWarning: Liblinear failed to converge, increase the number of iterations.\n",
      "  warnings.warn(\"Liblinear failed to converge, increase \"\n",
      "C:\\Users\\oucht\\anaconda3\\lib\\site-packages\\sklearn\\svm\\_base.py:976: ConvergenceWarning: Liblinear failed to converge, increase the number of iterations.\n",
      "  warnings.warn(\"Liblinear failed to converge, increase \"\n",
      "C:\\Users\\oucht\\anaconda3\\lib\\site-packages\\sklearn\\svm\\_base.py:976: ConvergenceWarning: Liblinear failed to converge, increase the number of iterations.\n",
      "  warnings.warn(\"Liblinear failed to converge, increase \"\n",
      "C:\\Users\\oucht\\anaconda3\\lib\\site-packages\\sklearn\\svm\\_base.py:976: ConvergenceWarning: Liblinear failed to converge, increase the number of iterations.\n",
      "  warnings.warn(\"Liblinear failed to converge, increase \"\n",
      "C:\\Users\\oucht\\anaconda3\\lib\\site-packages\\sklearn\\svm\\_base.py:976: ConvergenceWarning: Liblinear failed to converge, increase the number of iterations.\n",
      "  warnings.warn(\"Liblinear failed to converge, increase \"\n",
      "C:\\Users\\oucht\\anaconda3\\lib\\site-packages\\sklearn\\svm\\_base.py:976: ConvergenceWarning: Liblinear failed to converge, increase the number of iterations.\n",
      "  warnings.warn(\"Liblinear failed to converge, increase \"\n",
      "C:\\Users\\oucht\\anaconda3\\lib\\site-packages\\sklearn\\svm\\_base.py:976: ConvergenceWarning: Liblinear failed to converge, increase the number of iterations.\n",
      "  warnings.warn(\"Liblinear failed to converge, increase \"\n"
     ]
    },
    {
     "name": "stdout",
     "output_type": "stream",
     "text": [
      "yeast6\n",
      "page_blocks\n"
     ]
    },
    {
     "name": "stderr",
     "output_type": "stream",
     "text": [
      "C:\\Users\\oucht\\anaconda3\\lib\\site-packages\\sklearn\\svm\\_base.py:976: ConvergenceWarning: Liblinear failed to converge, increase the number of iterations.\n",
      "  warnings.warn(\"Liblinear failed to converge, increase \"\n",
      "C:\\Users\\oucht\\anaconda3\\lib\\site-packages\\sklearn\\svm\\_base.py:976: ConvergenceWarning: Liblinear failed to converge, increase the number of iterations.\n",
      "  warnings.warn(\"Liblinear failed to converge, increase \"\n",
      "C:\\Users\\oucht\\anaconda3\\lib\\site-packages\\sklearn\\svm\\_base.py:976: ConvergenceWarning: Liblinear failed to converge, increase the number of iterations.\n",
      "  warnings.warn(\"Liblinear failed to converge, increase \"\n",
      "C:\\Users\\oucht\\anaconda3\\lib\\site-packages\\sklearn\\svm\\_base.py:976: ConvergenceWarning: Liblinear failed to converge, increase the number of iterations.\n",
      "  warnings.warn(\"Liblinear failed to converge, increase \"\n",
      "C:\\Users\\oucht\\anaconda3\\lib\\site-packages\\sklearn\\svm\\_base.py:976: ConvergenceWarning: Liblinear failed to converge, increase the number of iterations.\n",
      "  warnings.warn(\"Liblinear failed to converge, increase \"\n",
      "C:\\Users\\oucht\\anaconda3\\lib\\site-packages\\sklearn\\svm\\_base.py:976: ConvergenceWarning: Liblinear failed to converge, increase the number of iterations.\n",
      "  warnings.warn(\"Liblinear failed to converge, increase \"\n",
      "C:\\Users\\oucht\\anaconda3\\lib\\site-packages\\sklearn\\svm\\_base.py:976: ConvergenceWarning: Liblinear failed to converge, increase the number of iterations.\n",
      "  warnings.warn(\"Liblinear failed to converge, increase \"\n",
      "C:\\Users\\oucht\\anaconda3\\lib\\site-packages\\sklearn\\svm\\_base.py:976: ConvergenceWarning: Liblinear failed to converge, increase the number of iterations.\n",
      "  warnings.warn(\"Liblinear failed to converge, increase \"\n",
      "C:\\Users\\oucht\\anaconda3\\lib\\site-packages\\sklearn\\svm\\_base.py:976: ConvergenceWarning: Liblinear failed to converge, increase the number of iterations.\n",
      "  warnings.warn(\"Liblinear failed to converge, increase \"\n",
      "C:\\Users\\oucht\\anaconda3\\lib\\site-packages\\sklearn\\svm\\_base.py:976: ConvergenceWarning: Liblinear failed to converge, increase the number of iterations.\n",
      "  warnings.warn(\"Liblinear failed to converge, increase \"\n"
     ]
    },
    {
     "name": "stdout",
     "output_type": "stream",
     "text": [
      "glass\n"
     ]
    },
    {
     "name": "stderr",
     "output_type": "stream",
     "text": [
      "C:\\Users\\oucht\\anaconda3\\lib\\site-packages\\sklearn\\svm\\_base.py:976: ConvergenceWarning: Liblinear failed to converge, increase the number of iterations.\n",
      "  warnings.warn(\"Liblinear failed to converge, increase \"\n",
      "C:\\Users\\oucht\\anaconda3\\lib\\site-packages\\sklearn\\svm\\_base.py:976: ConvergenceWarning: Liblinear failed to converge, increase the number of iterations.\n",
      "  warnings.warn(\"Liblinear failed to converge, increase \"\n",
      "C:\\Users\\oucht\\anaconda3\\lib\\site-packages\\sklearn\\svm\\_base.py:976: ConvergenceWarning: Liblinear failed to converge, increase the number of iterations.\n",
      "  warnings.warn(\"Liblinear failed to converge, increase \"\n",
      "C:\\Users\\oucht\\anaconda3\\lib\\site-packages\\sklearn\\svm\\_base.py:976: ConvergenceWarning: Liblinear failed to converge, increase the number of iterations.\n",
      "  warnings.warn(\"Liblinear failed to converge, increase \"\n",
      "C:\\Users\\oucht\\anaconda3\\lib\\site-packages\\sklearn\\svm\\_base.py:976: ConvergenceWarning: Liblinear failed to converge, increase the number of iterations.\n",
      "  warnings.warn(\"Liblinear failed to converge, increase \"\n",
      "C:\\Users\\oucht\\anaconda3\\lib\\site-packages\\sklearn\\svm\\_base.py:976: ConvergenceWarning: Liblinear failed to converge, increase the number of iterations.\n",
      "  warnings.warn(\"Liblinear failed to converge, increase \"\n",
      "C:\\Users\\oucht\\anaconda3\\lib\\site-packages\\sklearn\\svm\\_base.py:976: ConvergenceWarning: Liblinear failed to converge, increase the number of iterations.\n",
      "  warnings.warn(\"Liblinear failed to converge, increase \"\n",
      "C:\\Users\\oucht\\anaconda3\\lib\\site-packages\\sklearn\\svm\\_base.py:976: ConvergenceWarning: Liblinear failed to converge, increase the number of iterations.\n",
      "  warnings.warn(\"Liblinear failed to converge, increase \"\n",
      "C:\\Users\\oucht\\anaconda3\\lib\\site-packages\\sklearn\\svm\\_base.py:976: ConvergenceWarning: Liblinear failed to converge, increase the number of iterations.\n",
      "  warnings.warn(\"Liblinear failed to converge, increase \"\n",
      "C:\\Users\\oucht\\anaconda3\\lib\\site-packages\\sklearn\\svm\\_base.py:976: ConvergenceWarning: Liblinear failed to converge, increase the number of iterations.\n",
      "  warnings.warn(\"Liblinear failed to converge, increase \"\n"
     ]
    }
   ],
   "source": [
    "classifiers =  [watershed_cut, KNeiClass_method, DecisionTree_method, SVM_method]\n",
    "classifiers_name = ['WC','KNN', 'DT', 'SVM']\n",
    "oversampling_methods = ['without', 'SMOTE', 'DBSMOTE', 'GSSMOTE', 'WSSMOTE']\n",
    "examples_name = ['wisconsin', 'yeast4', 'vehicle1', 'Subcl35', 'Paw', 'ecoli1', 'pima', 'yeast6', 'page_blocks', 'glass']\n",
    "coeffs_min = [2, 2, 2, 1, 1, 2, 2, 2, 2, 2]\n",
    "\n",
    "score_g_mean, score_f, score_auc = generate_dico_results(classifiers, classifiers_name, dicts_paramater, oversampling_methods, examples_name, coeffs_min)"
   ]
  },
  {
   "cell_type": "markdown",
   "metadata": {},
   "source": [
    "### Results"
   ]
  },
  {
   "cell_type": "markdown",
   "metadata": {},
   "source": [
    "##### G-Mean"
   ]
  },
  {
   "cell_type": "code",
   "execution_count": 22,
   "metadata": {},
   "outputs": [],
   "source": [
    "dico_over_med, dico_over_std = score_g_mean[0], score_g_mean[1]"
   ]
  },
  {
   "cell_type": "code",
   "execution_count": 23,
   "metadata": {},
   "outputs": [],
   "source": [
    "pd.DataFrame.from_dict(dico_over_med['GSSMOTE'].astype(str) + '+-'+ dico_over_std['GSSMOTE'].astype(str)).to_excel('./resultats_G_G_1.xlsx')"
   ]
  },
  {
   "cell_type": "code",
   "execution_count": 24,
   "metadata": {
    "colab": {
     "base_uri": "https://localhost:8080/",
     "height": 164
    },
    "id": "fk4krX2vbPPy",
    "outputId": "b05ec57c-9b58-49e4-919b-552d75ed0cd5"
   },
   "outputs": [
    {
     "name": "stdout",
     "output_type": "stream",
     "text": [
      "Tab oversampling method: without\n",
      "     wisconsin  yeast4  vehicle1  Subcl35    Paw  ecoli1   pima  yeast6  \\\n",
      "WC       93.90   49.93     61.61    58.28  68.18   83.92  62.20   78.48   \n",
      "KNN      94.86   30.13     52.54    73.85  76.58   84.28  67.87   62.72   \n",
      "DT       93.31   58.44     66.22    62.99  62.93   84.73  64.90   71.65   \n",
      "SVM      95.81    0.00     54.80     0.00   0.00   84.13  31.46    0.00   \n",
      "\n",
      "     page_blocks  glass  \n",
      "WC         92.00   52.4  \n",
      "KNN        78.63    0.0  \n",
      "DT         99.10   47.7  \n",
      "SVM        78.15    0.0  \n",
      "     wisconsin  yeast4  vehicle1  Subcl35    Paw  ecoli1   pima  yeast6  \\\n",
      "WC        3.45   14.97      5.39    13.84   9.70    8.70   3.56   11.63   \n",
      "KNN       1.86   10.31      1.44     7.82   5.64    6.48   5.11   11.27   \n",
      "DT        2.01   20.95      5.76     9.48  12.22    3.55   3.93   13.49   \n",
      "SVM       2.68    0.00     52.54    30.98   0.00    8.22  21.21    0.00   \n",
      "\n",
      "     page_blocks  glass  \n",
      "WC          8.28  50.65  \n",
      "KNN         9.33  37.66  \n",
      "DT          0.04  37.62  \n",
      "SVM         5.04   0.00  \n"
     ]
    }
   ],
   "source": [
    "print('Tab oversampling method: without' )\n",
    "print(pd.DataFrame.from_dict(dico_over_med['without']))\n",
    "print(pd.DataFrame.from_dict(dico_over_std['without']))"
   ]
  },
  {
   "cell_type": "code",
   "execution_count": 25,
   "metadata": {
    "colab": {
     "base_uri": "https://localhost:8080/",
     "height": 164
    },
    "id": "lK6jECG7bgEu",
    "outputId": "cd39e9d9-f106-47ad-ab3c-040805903f81"
   },
   "outputs": [
    {
     "name": "stdout",
     "output_type": "stream",
     "text": [
      "Tab oversampling method: SMOTE\n",
      "     wisconsin  yeast4  vehicle1  Subcl35    Paw  ecoli1   pima  yeast6  \\\n",
      "WC       96.25   66.98     62.84    63.40  72.43   82.75  64.33   67.96   \n",
      "KNN      96.70   83.92     72.37    76.61  83.45   91.15  72.29   89.63   \n",
      "DT       93.58   63.73     63.11    71.39  77.12   85.93  66.47   65.91   \n",
      "SVM      96.96   78.02     53.10    43.43  30.88   88.56  28.54   86.14   \n",
      "\n",
      "     page_blocks  glass  \n",
      "WC         99.11  52.24  \n",
      "KNN        99.32  72.61  \n",
      "DT        100.00  61.56  \n",
      "SVM        95.14   8.01  \n",
      "     wisconsin  yeast4  vehicle1  Subcl35    Paw  ecoli1   pima  yeast6  \\\n",
      "WC        3.12   17.96      7.62    10.48   2.15    9.68   4.17   17.93   \n",
      "KNN       0.91    2.49      3.55     2.57   3.42    4.64   3.56    5.43   \n",
      "DT        2.37   15.33      6.49     3.43   8.79    4.48   4.79   14.11   \n",
      "SVM       1.11    3.59     27.42    13.08  24.19    5.29  21.18    7.26   \n",
      "\n",
      "     page_blocks  glass  \n",
      "WC          7.15  16.17  \n",
      "KNN         3.09   9.63  \n",
      "DT          0.34  23.03  \n",
      "SVM         6.07  22.57  \n"
     ]
    }
   ],
   "source": [
    "print('Tab oversampling method: SMOTE' )\n",
    "print(pd.DataFrame.from_dict(dico_over_med['SMOTE']))\n",
    "print(pd.DataFrame.from_dict(dico_over_std['SMOTE']))"
   ]
  },
  {
   "cell_type": "code",
   "execution_count": 26,
   "metadata": {
    "colab": {
     "base_uri": "https://localhost:8080/",
     "height": 164
    },
    "id": "TuA-XIk2bjoT",
    "outputId": "53ac0e52-40e0-4a4d-afe8-f253fcc61115"
   },
   "outputs": [
    {
     "name": "stdout",
     "output_type": "stream",
     "text": [
      "Tab oversampling method: DBSMOTE\n",
      "     wisconsin  yeast4  vehicle1  Subcl35    Paw  ecoli1   pima  yeast6  \\\n",
      "WC       95.52   58.57     61.92    58.91  73.27   80.60  62.18   75.05   \n",
      "KNN      97.00   85.71     70.97    79.46  84.34   87.69  68.53   90.00   \n",
      "DT       93.25   59.47     63.19    71.04  74.24   87.72  63.98   67.62   \n",
      "SVM      96.85   80.40     73.94    38.84  35.60   87.67  40.62   87.35   \n",
      "\n",
      "     page_blocks  glass  \n",
      "WC         91.73  59.28  \n",
      "KNN        68.09  68.60  \n",
      "DT         99.77  49.90  \n",
      "SVM        95.19  23.26  \n",
      "     wisconsin  yeast4  vehicle1  Subcl35    Paw  ecoli1   pima  yeast6  \\\n",
      "WC        0.70   22.02      4.16     6.75  12.94    9.75   3.71   10.83   \n",
      "KNN       1.81    3.78      2.52     6.70   2.27    3.01   4.35    3.42   \n",
      "DT        2.63    9.65      5.46     7.20  12.23   12.24   1.80   13.07   \n",
      "SVM       1.31    7.82      6.65    22.01  39.53    3.96  42.64    8.24   \n",
      "\n",
      "     page_blocks  glass  \n",
      "WC          8.97  64.80  \n",
      "KNN        25.91   9.30  \n",
      "DT          7.70  27.67  \n",
      "SVM         5.48  13.15  \n"
     ]
    }
   ],
   "source": [
    "print('Tab oversampling method: DBSMOTE' )\n",
    "print(pd.DataFrame.from_dict(dico_over_med['DBSMOTE']))\n",
    "print(pd.DataFrame.from_dict(dico_over_std['DBSMOTE']))"
   ]
  },
  {
   "cell_type": "code",
   "execution_count": 27,
   "metadata": {},
   "outputs": [
    {
     "name": "stdout",
     "output_type": "stream",
     "text": [
      "Tab oversampling method: GSSMOTE\n",
      "     wisconsin  yeast4  vehicle1  Subcl35    Paw  ecoli1   pima  yeast6  \\\n",
      "WC       94.49   71.07     62.01    69.14  70.70   85.43  64.37   81.91   \n",
      "KNN      97.27   88.37     71.66    75.59  84.23   87.07  71.72   86.05   \n",
      "DT       93.97   56.79     67.26    69.69  75.82   85.06  66.26   73.11   \n",
      "SVM      97.88   83.43     52.18    41.82  32.49   88.53  48.59   87.95   \n",
      "\n",
      "     page_blocks  glass  \n",
      "WC         93.00  50.69  \n",
      "KNN        96.26  80.34  \n",
      "DT         91.95  54.68  \n",
      "SVM        94.82  22.65  \n",
      "     wisconsin  yeast4  vehicle1  Subcl35    Paw  ecoli1   pima  yeast6  \\\n",
      "WC        1.73   16.59      5.05     6.98   8.76    5.35   5.54    8.43   \n",
      "KNN       2.03    5.14      3.96     5.62   3.53    4.67   3.68    1.48   \n",
      "DT        3.31    5.32      4.32     8.03   5.64    5.01   3.18   11.05   \n",
      "SVM       1.08    6.49     38.55    25.95  43.87    4.57  41.61    8.63   \n",
      "\n",
      "     page_blocks  glass  \n",
      "WC          8.12  28.75  \n",
      "KNN         2.07  12.69  \n",
      "DT          4.94  60.42  \n",
      "SVM         5.22  26.89  \n"
     ]
    }
   ],
   "source": [
    "print('Tab oversampling method: GSSMOTE' )\n",
    "print(pd.DataFrame.from_dict(dico_over_med['GSSMOTE']))\n",
    "print(pd.DataFrame.from_dict(dico_over_std['GSSMOTE']))"
   ]
  },
  {
   "cell_type": "code",
   "execution_count": 28,
   "metadata": {
    "colab": {
     "base_uri": "https://localhost:8080/",
     "height": 164
    },
    "id": "A-0JAP8Tbxmz",
    "outputId": "76a4aaea-d418-4980-ebb9-8fe4be648d16"
   },
   "outputs": [
    {
     "name": "stdout",
     "output_type": "stream",
     "text": [
      "Tab oversampling method: WSSMOTE\n",
      "     wisconsin  yeast4  vehicle1  Subcl35    Paw  ecoli1   pima  yeast6  \\\n",
      "WC       94.81   62.36     58.84    65.61  75.47   82.45  64.81   71.16   \n",
      "KNN      98.03   83.13     69.66    76.12  84.13   91.98  72.41   87.49   \n",
      "DT       93.99   61.35     68.75    69.72  74.37   84.89  65.52   67.82   \n",
      "SVM      97.39   76.68     71.54    45.56  14.99   89.58  53.93   90.07   \n",
      "\n",
      "     page_blocks  glass  \n",
      "WC         92.85  55.44  \n",
      "KNN        95.13  76.82  \n",
      "DT        100.00  40.13  \n",
      "SVM        95.92  25.71  \n",
      "     wisconsin  yeast4  vehicle1  Subcl35    Paw  ecoli1   pima  yeast6  \\\n",
      "WC        2.38   16.48      3.85     3.72  10.64    6.68   2.81   17.70   \n",
      "KNN       1.63    3.20      3.82     2.11   2.17    4.61   2.64   10.53   \n",
      "DT        1.75   16.35      5.31     4.45   8.46    3.82   5.21   15.05   \n",
      "SVM       1.74   11.89      6.84    19.74  34.66    3.33  31.21    5.94   \n",
      "\n",
      "     page_blocks  glass  \n",
      "WC          9.71  22.87  \n",
      "KNN         3.42  12.31  \n",
      "DT          0.00  50.34  \n",
      "SVM         3.52  26.78  \n"
     ]
    }
   ],
   "source": [
    "print('Tab oversampling method: WSSMOTE' )\n",
    "print(pd.DataFrame.from_dict(dico_over_med['WSSMOTE']))\n",
    "print(pd.DataFrame.from_dict(dico_over_std['WSSMOTE']))"
   ]
  },
  {
   "cell_type": "markdown",
   "metadata": {},
   "source": [
    "##### F1-Score "
   ]
  },
  {
   "cell_type": "code",
   "execution_count": 29,
   "metadata": {},
   "outputs": [],
   "source": [
    "dico_over_med, dico_over_std = score_f[0], score_f[1]"
   ]
  },
  {
   "cell_type": "code",
   "execution_count": 30,
   "metadata": {},
   "outputs": [],
   "source": [
    "pd.DataFrame.from_dict(dico_over_med['WSSMOTE'].astype(str) + '+-'+ dico_over_std['WSSMOTE'].astype(str)).to_excel('./resultats_W_F_1.xlsx')"
   ]
  },
  {
   "cell_type": "code",
   "execution_count": 31,
   "metadata": {},
   "outputs": [
    {
     "name": "stdout",
     "output_type": "stream",
     "text": [
      "Tab oversampling method: without\n",
      "     wisconsin  yeast4  vehicle1  Subcl35    Paw  ecoli1   pima  yeast6  \\\n",
      "WC       95.93   97.64     80.07    41.43  52.16   92.94  75.34   98.75   \n",
      "KNN      96.64   98.35     84.82    50.19  58.20   94.89  82.59   98.97   \n",
      "DT       95.43   97.23     82.22    45.72  45.45   92.14  78.11   98.69   \n",
      "SVM      97.66   98.22     85.93     0.00   0.00   93.77  74.79   98.63   \n",
      "\n",
      "     page_blocks  glass  \n",
      "WC         99.09  93.75  \n",
      "KNN        98.21  94.41  \n",
      "DT         99.10  92.50  \n",
      "SVM        96.60  93.81  \n",
      "     wisconsin  yeast4  vehicle1  Subcl35    Paw  ecoli1   pima  yeast6  \\\n",
      "WC        2.61    0.71      2.04    14.71  12.23    4.08   3.47    0.98   \n",
      "KNN       1.65    0.24      1.94     6.89   9.38    1.75   3.19    0.38   \n",
      "DT        1.11    0.97      2.29    11.60  17.10    3.00   3.39    0.58   \n",
      "SVM       1.51    0.45      5.83    19.74   0.00    2.79  45.30    0.62   \n",
      "\n",
      "     page_blocks  glass  \n",
      "WC          0.35   3.11  \n",
      "KNN         1.33   4.20  \n",
      "DT          0.04   2.41  \n",
      "SVM         1.77  73.60  \n"
     ]
    }
   ],
   "source": [
    "print('Tab oversampling method: without' )\n",
    "print(pd.DataFrame.from_dict(dico_over_med['without']))\n",
    "print(pd.DataFrame.from_dict(dico_over_std['without']))"
   ]
  },
  {
   "cell_type": "code",
   "execution_count": 32,
   "metadata": {},
   "outputs": [
    {
     "name": "stdout",
     "output_type": "stream",
     "text": [
      "Tab oversampling method: SMOTE\n",
      "     wisconsin  yeast4  vehicle1  Subcl35    Paw  ecoli1   pima  yeast6  \\\n",
      "WC       97.16   96.75     80.82    43.43  56.00   91.60  72.03   97.91   \n",
      "KNN      97.52   92.82     73.50    48.24  48.00   92.85  76.53   94.93   \n",
      "DT       95.64   96.82     80.94    50.77  55.91   93.38  74.80   97.77   \n",
      "SVM      97.76   91.87     84.79    26.24  25.27   92.67  59.72   94.25   \n",
      "\n",
      "     page_blocks  glass  \n",
      "WC         99.33  86.49  \n",
      "KNN        99.32  81.47  \n",
      "DT        100.00  92.11  \n",
      "SVM        97.26  51.65  \n",
      "     wisconsin  yeast4  vehicle1  Subcl35   Paw  ecoli1   pima  yeast6  \\\n",
      "WC        1.77    0.91      2.95     9.64  3.05    2.44   4.44    0.73   \n",
      "KNN       0.84    1.42      4.84     5.31  8.03    1.98   2.68    1.17   \n",
      "DT        0.82    1.58      3.38     3.13  5.40    1.74   3.05    0.39   \n",
      "SVM       1.10    1.82      9.68     7.38  4.10    4.01  58.25    1.07   \n",
      "\n",
      "     page_blocks  glass  \n",
      "WC          0.79   4.20  \n",
      "KNN         3.16   4.84  \n",
      "DT          0.34   4.43  \n",
      "SVM         0.41  85.24  \n"
     ]
    }
   ],
   "source": [
    "print('Tab oversampling method: SMOTE' )\n",
    "print(pd.DataFrame.from_dict(dico_over_med['SMOTE']))\n",
    "print(pd.DataFrame.from_dict(dico_over_std['SMOTE']))"
   ]
  },
  {
   "cell_type": "code",
   "execution_count": 33,
   "metadata": {},
   "outputs": [
    {
     "name": "stdout",
     "output_type": "stream",
     "text": [
      "Tab oversampling method: DBSMOTE\n",
      "     wisconsin  yeast4  vehicle1  Subcl35    Paw  ecoli1   pima  yeast6  \\\n",
      "WC       97.13   97.70     80.32    42.57  54.00   91.64  74.66   98.83   \n",
      "KNN      98.28   90.62     78.68    54.03  50.77   90.91  74.58   97.04   \n",
      "DT       95.83   96.84     82.09    48.21  48.37   92.86  75.35   98.76   \n",
      "SVM      97.71   95.50     73.89    29.35  22.59   89.96  75.96   96.60   \n",
      "\n",
      "     page_blocks  glass  \n",
      "WC         99.10  94.74  \n",
      "KNN        98.43  82.86  \n",
      "DT         99.77  93.51  \n",
      "SVM        97.66  12.76  \n",
      "     wisconsin  yeast4  vehicle1  Subcl35    Paw  ecoli1   pima  yeast6  \\\n",
      "WC        1.00    0.62      1.97    11.04  17.42    2.48   2.63    0.35   \n",
      "KNN       0.94    4.83      1.12     9.67   4.19    1.30   6.00    1.52   \n",
      "DT        1.23    0.50      3.24     6.27  13.02    2.12   2.54    0.48   \n",
      "SVM       1.00    0.87     15.92     7.90  25.05    4.28  13.58    0.56   \n",
      "\n",
      "     page_blocks  glass  \n",
      "WC          0.36   4.22  \n",
      "KNN         0.77   3.00  \n",
      "DT          0.78   2.20  \n",
      "SVM         1.22  11.88  \n"
     ]
    }
   ],
   "source": [
    "print('Tab oversampling method: DBSMOTE' )\n",
    "print(pd.DataFrame.from_dict(dico_over_med['DBSMOTE']))\n",
    "print(pd.DataFrame.from_dict(dico_over_std['DBSMOTE']))"
   ]
  },
  {
   "cell_type": "code",
   "execution_count": 34,
   "metadata": {},
   "outputs": [
    {
     "name": "stdout",
     "output_type": "stream",
     "text": [
      "Tab oversampling method: GSSMOTE\n",
      "     wisconsin  yeast4  vehicle1  Subcl35    Paw  ecoli1   pima  yeast6  \\\n",
      "WC       96.51   96.39     79.87    41.90  49.96   93.13  74.39   98.40   \n",
      "KNN      97.99   92.23     78.75    50.06  50.00   91.52  77.91   95.70   \n",
      "DT       95.75   97.20     82.34    45.72  53.18   92.08  75.72   98.48   \n",
      "SVM      98.13   92.72     83.90    25.71  22.47   91.36  71.09   93.57   \n",
      "\n",
      "     page_blocks  glass  \n",
      "WC         99.54  90.91  \n",
      "KNN        96.19  84.06  \n",
      "DT         98.60  91.70  \n",
      "SVM        94.90  16.62  \n",
      "     wisconsin  yeast4  vehicle1  Subcl35    Paw  ecoli1   pima  yeast6  \\\n",
      "WC        0.82    0.83      2.12     9.50   7.83    3.04   4.65    0.86   \n",
      "KNN       0.85    2.03      2.96     4.36   3.66    2.58   2.01    1.18   \n",
      "DT        1.45    0.82      1.81     6.28   9.59    2.28   4.39    0.60   \n",
      "SVM       1.20    1.32      1.86    27.15  25.30    2.00  57.53    1.07   \n",
      "\n",
      "     page_blocks  glass  \n",
      "WC          1.24   3.14  \n",
      "KNN         2.15   4.92  \n",
      "DT          0.82   3.49  \n",
      "SVM         2.34  65.92  \n"
     ]
    }
   ],
   "source": [
    "print('Tab oversampling method: GSSMOTE' )\n",
    "print(pd.DataFrame.from_dict(dico_over_med['GSSMOTE']))\n",
    "print(pd.DataFrame.from_dict(dico_over_std['GSSMOTE']))"
   ]
  },
  {
   "cell_type": "code",
   "execution_count": 35,
   "metadata": {},
   "outputs": [
    {
     "name": "stdout",
     "output_type": "stream",
     "text": [
      "Tab oversampling method: WSSMOTE\n",
      "     wisconsin  yeast4  vehicle1  Subcl35    Paw  ecoli1   pima  yeast6  \\\n",
      "WC       96.35   97.61     76.61    46.02  58.00   91.20  72.12   98.12   \n",
      "KNN      98.18   88.27     74.01    49.73  49.44   93.33  76.27   96.43   \n",
      "DT       96.12   97.02     84.58    49.25  56.21   92.11  73.85   98.41   \n",
      "SVM      97.93   91.69     69.31    26.11   9.69   90.08  74.12   94.08   \n",
      "\n",
      "     page_blocks  glass  \n",
      "WC         99.33  90.67  \n",
      "KNN        95.01  80.60  \n",
      "DT        100.00  90.68  \n",
      "SVM        96.40  20.20  \n",
      "     wisconsin  yeast4  vehicle1  Subcl35    Paw  ecoli1   pima  yeast6  \\\n",
      "WC        1.68    0.67      2.27     6.07  15.03    5.27   3.01    0.50   \n",
      "KNN       1.10    3.04      3.09     2.16   8.69    2.41   2.65    1.01   \n",
      "DT        1.76    0.94      2.90     6.85  10.55    2.51   3.41    0.39   \n",
      "SVM       1.57    1.62      9.85    25.56  20.75    2.70  10.05    1.18   \n",
      "\n",
      "     page_blocks  glass  \n",
      "WC          0.76   4.31  \n",
      "KNN         3.56   3.13  \n",
      "DT          0.00   4.13  \n",
      "SVM         2.02  63.16  \n"
     ]
    }
   ],
   "source": [
    "print('Tab oversampling method: WSSMOTE' )\n",
    "print(pd.DataFrame.from_dict(dico_over_med['WSSMOTE']))\n",
    "print(pd.DataFrame.from_dict(dico_over_std['WSSMOTE']))"
   ]
  },
  {
   "cell_type": "markdown",
   "metadata": {},
   "source": [
    "#### AUC-score"
   ]
  },
  {
   "cell_type": "code",
   "execution_count": 36,
   "metadata": {},
   "outputs": [],
   "source": [
    "dico_over_med, dico_over_std = score_auc[0], score_auc[1]"
   ]
  },
  {
   "cell_type": "code",
   "execution_count": 37,
   "metadata": {},
   "outputs": [],
   "source": [
    "pd.DataFrame.from_dict(dico_over_med['GSSMOTE'].astype(str) + '+-'+ dico_over_std['GSSMOTE'].astype(str)).to_excel('./resultats_G_A_1.xlsx')"
   ]
  },
  {
   "cell_type": "code",
   "execution_count": 38,
   "metadata": {},
   "outputs": [
    {
     "name": "stdout",
     "output_type": "stream",
     "text": [
      "Tab oversampling method: without\n",
      "     wisconsin  yeast4  vehicle1  Subcl35    Paw  ecoli1   pima  yeast6  \\\n",
      "WC       93.94   62.00     63.81    64.58  71.49   84.38  64.47   80.36   \n",
      "KNN      94.90   54.48     61.16    74.28  77.64   85.31  70.39   69.52   \n",
      "DT       93.35   66.25     67.68    67.56  68.04   84.88  66.39   75.56   \n",
      "SVM      95.84   50.00     63.81    50.00  50.00   84.90  53.91   50.00   \n",
      "\n",
      "     page_blocks  glass  \n",
      "WC         92.26  61.99  \n",
      "KNN        80.55  50.00  \n",
      "DT         99.10  58.01  \n",
      "SVM        79.66  50.00  \n",
      "     wisconsin  yeast4  vehicle1  Subcl35   Paw  ecoli1  pima  yeast6  \\\n",
      "WC        3.35    7.41      4.22     9.41  6.96    8.58  3.33    9.54   \n",
      "KNN       1.82    3.28      1.61     7.09  4.64    5.74  3.56    6.74   \n",
      "DT        1.84   11.52      5.09     6.73  8.90    3.41  3.51    9.46   \n",
      "SVM       2.63    0.00     21.35     1.79  0.00    6.57  3.64    0.00   \n",
      "\n",
      "     page_blocks  glass  \n",
      "WC          7.42  16.68  \n",
      "KNN         7.71   6.80  \n",
      "DT          0.04  11.44  \n",
      "SVM         3.55   0.00  \n"
     ]
    }
   ],
   "source": [
    "print('Tab oversampling method: without' )\n",
    "print(pd.DataFrame.from_dict(dico_over_med['without']))\n",
    "print(pd.DataFrame.from_dict(dico_over_std['without']))"
   ]
  },
  {
   "cell_type": "code",
   "execution_count": 39,
   "metadata": {},
   "outputs": [
    {
     "name": "stdout",
     "output_type": "stream",
     "text": [
      "Tab oversampling method: SMOTE\n",
      "     wisconsin  yeast4  vehicle1  Subcl35    Paw  ecoli1   pima  yeast6  \\\n",
      "WC       96.25   71.32     64.18    66.95  74.62   83.01  64.39   72.57   \n",
      "KNN      96.72   83.95     72.87    76.66  84.12   91.25  72.30   89.75   \n",
      "DT       93.61   69.04     65.71    72.23  77.61   86.17  66.76   70.92   \n",
      "SVM      96.97   78.39     62.66    51.15  54.77   88.62  53.87   86.16   \n",
      "\n",
      "     page_blocks  glass  \n",
      "WC         99.11  57.61  \n",
      "KNN        99.32  73.48  \n",
      "DT        100.00  67.37  \n",
      "SVM        95.17  50.64  \n",
      "     wisconsin  yeast4  vehicle1  Subcl35   Paw  ecoli1  pima  yeast6  \\\n",
      "WC        3.09   12.57      6.95     7.93  2.24    8.51  4.54   13.07   \n",
      "KNN       0.91    2.34      3.29     2.56  3.25    4.62  3.42    5.47   \n",
      "DT        2.35   10.66      5.58     2.16  7.26    4.38  4.75    8.89   \n",
      "SVM       1.12    3.12     14.01     2.74  7.69    5.24  5.70    6.94   \n",
      "\n",
      "     page_blocks  glass  \n",
      "WC          6.92  12.35  \n",
      "KNN         3.02  10.01  \n",
      "DT          0.33  12.75  \n",
      "SVM         6.09   2.55  \n"
     ]
    }
   ],
   "source": [
    "print('Tab oversampling method: SMOTE' )\n",
    "print(pd.DataFrame.from_dict(dico_over_med['SMOTE']))\n",
    "print(pd.DataFrame.from_dict(dico_over_std['SMOTE']))"
   ]
  },
  {
   "cell_type": "code",
   "execution_count": 40,
   "metadata": {
    "scrolled": false
   },
   "outputs": [
    {
     "name": "stdout",
     "output_type": "stream",
     "text": [
      "Tab oversampling method: DBSMOTE\n",
      "     wisconsin  yeast4  vehicle1  Subcl35    Paw  ecoli1   pima  yeast6  \\\n",
      "WC       95.58   66.47     63.75    65.06  75.09   81.25  63.72   77.65   \n",
      "KNN      97.02   85.83     70.97    79.61  84.75   87.74  68.72   90.07   \n",
      "DT       93.31   66.66     65.71    72.24  75.84   87.82  65.11   72.52   \n",
      "SVM      96.85   81.26     75.85    54.17  55.13   87.75  55.05   87.57   \n",
      "\n",
      "     page_blocks  glass  \n",
      "WC         92.04  64.95  \n",
      "KNN        73.21  69.58  \n",
      "DT         99.77  60.77  \n",
      "SVM        95.23  52.70  \n",
      "     wisconsin  yeast4  vehicle1  Subcl35    Paw  ecoli1   pima  yeast6  \\\n",
      "WC        0.65   13.61      3.01     5.21  11.00    7.57   3.01    8.27   \n",
      "KNN       1.79    4.13      2.44     6.94   2.75    3.10   4.27    3.30   \n",
      "DT        2.44    6.01      4.58     5.18  10.04   11.19   1.65    8.58   \n",
      "SVM       1.31    6.31      4.16     6.06   7.08    3.95  13.02    7.76   \n",
      "\n",
      "     page_blocks  glass  \n",
      "WC          8.38  27.84  \n",
      "KNN        16.98   8.88  \n",
      "DT          7.39  15.58  \n",
      "SVM         5.44   3.21  \n"
     ]
    }
   ],
   "source": [
    "print('Tab oversampling method: DBSMOTE' )\n",
    "print(pd.DataFrame.from_dict(dico_over_med['DBSMOTE']))\n",
    "print(pd.DataFrame.from_dict(dico_over_std['DBSMOTE']))"
   ]
  },
  {
   "cell_type": "code",
   "execution_count": 41,
   "metadata": {},
   "outputs": [
    {
     "name": "stdout",
     "output_type": "stream",
     "text": [
      "Tab oversampling method: GSSMOTE\n",
      "     wisconsin  yeast4  vehicle1  Subcl35    Paw  ecoli1   pima  yeast6  \\\n",
      "WC       94.53   74.21     63.76    70.07  72.73   85.66  64.97   83.27   \n",
      "KNN      97.27   88.45     71.88    76.53  85.08   87.21  71.80   86.16   \n",
      "DT       94.02   65.05     68.57    70.25  76.86   85.43  66.88   76.32   \n",
      "SVM      97.88   83.43     63.17    50.00  55.16   88.53  59.83   87.97   \n",
      "\n",
      "     page_blocks  glass  \n",
      "WC         93.19  58.89  \n",
      "KNN        96.33  80.93  \n",
      "DT         92.17  61.51  \n",
      "SVM        94.95  52.56  \n",
      "     wisconsin  yeast4  vehicle1  Subcl35   Paw  ecoli1   pima  yeast6  \\\n",
      "WC        1.69   11.94      3.90     6.25  7.03    5.16   4.90    7.35   \n",
      "KNN       2.02    5.53      3.97     6.12  4.08    4.62   3.68    1.43   \n",
      "DT        3.16    3.35      3.38     6.83  3.82    4.90   2.45    8.70   \n",
      "SVM       1.07    6.04     14.25    10.85  7.08    4.58  14.06    8.72   \n",
      "\n",
      "     page_blocks  glass  \n",
      "WC          7.81  17.41  \n",
      "KNN         1.99  13.44  \n",
      "DT          4.68  20.78  \n",
      "SVM         4.90   3.64  \n"
     ]
    }
   ],
   "source": [
    "print('Tab oversampling method: GSSMOTE' )\n",
    "print(pd.DataFrame.from_dict(dico_over_med['GSSMOTE']))\n",
    "print(pd.DataFrame.from_dict(dico_over_std['GSSMOTE']))"
   ]
  },
  {
   "cell_type": "code",
   "execution_count": 42,
   "metadata": {},
   "outputs": [
    {
     "name": "stdout",
     "output_type": "stream",
     "text": [
      "Tab oversampling method: WSSMOTE\n",
      "     wisconsin  yeast4  vehicle1  Subcl35    Paw  ecoli1   pima  yeast6  \\\n",
      "WC       94.83   68.61     60.33    68.75  76.91   82.66  65.18   74.86   \n",
      "KNN      98.04   83.19     70.65    77.17  85.02   92.02  72.45   87.75   \n",
      "DT       94.08   68.22     70.33    71.19  76.01   85.08  66.02   72.36   \n",
      "SVM      97.41   77.30     75.20    50.48  52.25   89.89  59.06   90.08   \n",
      "\n",
      "     page_blocks  glass  \n",
      "WC         93.08  61.49  \n",
      "KNN        95.25  78.27  \n",
      "DT        100.00  53.16  \n",
      "SVM        96.01  53.34  \n",
      "     wisconsin  yeast4  vehicle1  Subcl35   Paw  ecoli1   pima  yeast6  \\\n",
      "WC        2.37    9.82      3.84     2.01  8.49    6.22   2.78   13.52   \n",
      "KNN       1.63    3.45      4.18     2.52  2.56    4.61   2.81    9.89   \n",
      "DT        1.76   10.05      3.94     4.38  6.66    3.85   5.27   11.31   \n",
      "SVM       1.75   11.57      5.97     7.38  6.02    3.69  12.07    6.11   \n",
      "\n",
      "     page_blocks  glass  \n",
      "WC          9.24   9.15  \n",
      "KNN         3.28  13.94  \n",
      "DT          0.00  10.50  \n",
      "SVM         3.49   4.43  \n"
     ]
    }
   ],
   "source": [
    "print('Tab oversampling method: WSSMOTE' )\n",
    "print(pd.DataFrame.from_dict(dico_over_med['WSSMOTE']))\n",
    "print(pd.DataFrame.from_dict(dico_over_std['WSSMOTE']))"
   ]
  },
  {
   "cell_type": "code",
   "execution_count": null,
   "metadata": {},
   "outputs": [],
   "source": []
  },
  {
   "cell_type": "code",
   "execution_count": null,
   "metadata": {},
   "outputs": [],
   "source": []
  }
 ],
 "metadata": {
  "colab": {
   "collapsed_sections": [],
   "name": "WSSMOTE.ipynb",
   "provenance": []
  },
  "kernelspec": {
   "display_name": "Python 3",
   "language": "python",
   "name": "python3"
  },
  "language_info": {
   "codemirror_mode": {
    "name": "ipython",
    "version": 3
   },
   "file_extension": ".py",
   "mimetype": "text/x-python",
   "name": "python",
   "nbconvert_exporter": "python",
   "pygments_lexer": "ipython3",
   "version": "3.8.5"
  }
 },
 "nbformat": 4,
 "nbformat_minor": 4
}
